{
 "cells": [
  {
   "cell_type": "markdown",
   "metadata": {},
   "source": [
    "# Linear Regression"
   ]
  },
  {
   "cell_type": "code",
   "execution_count": 2,
   "metadata": {
    "collapsed": true
   },
   "outputs": [],
   "source": [
    "## Dependencies\n",
    "import pandas as pd\n",
    "import matplotlib.pyplot as plt\n",
    "import os"
   ]
  },
  {
   "cell_type": "code",
   "execution_count": 3,
   "metadata": {
    "collapsed": true
   },
   "outputs": [],
   "source": [
    "filename = \"X.csv\"\n",
    "output_data = \"../../data/output\" \n",
    "filepath = os.path.join(output_data,filename)\n",
    "X = pd.read_csv(filepath,index_col=False, header=0)"
   ]
  },
  {
   "cell_type": "code",
   "execution_count": 4,
   "metadata": {
    "collapsed": true
   },
   "outputs": [],
   "source": [
    "filename = \"y.csv\"\n",
    "output_data = \"../../data/output\" \n",
    "filepath = os.path.join(output_data,filename)\n",
    "y = pd.read_csv(filepath,index_col=False, names=[\"Value\"])\n"
   ]
  },
  {
   "cell_type": "markdown",
   "metadata": {},
   "source": [
    "## Dataset \n",
    "\n",
    "* X\n",
    "\n",
    "* y"
   ]
  },
  {
   "cell_type": "code",
   "execution_count": 5,
   "metadata": {},
   "outputs": [
    {
     "data": {
      "text/html": [
       "<div>\n",
       "<style scoped>\n",
       "    .dataframe tbody tr th:only-of-type {\n",
       "        vertical-align: middle;\n",
       "    }\n",
       "\n",
       "    .dataframe tbody tr th {\n",
       "        vertical-align: top;\n",
       "    }\n",
       "\n",
       "    .dataframe thead th {\n",
       "        text-align: right;\n",
       "    }\n",
       "</style>\n",
       "<table border=\"1\" class=\"dataframe\">\n",
       "  <thead>\n",
       "    <tr style=\"text-align: right;\">\n",
       "      <th></th>\n",
       "      <th>year</th>\n",
       "      <th>Price</th>\n",
       "      <th>lag1</th>\n",
       "      <th>peek1</th>\n",
       "      <th>lag2</th>\n",
       "      <th>peek2</th>\n",
       "      <th>lag3</th>\n",
       "      <th>peek3</th>\n",
       "      <th>lag4</th>\n",
       "      <th>peek4</th>\n",
       "      <th>...</th>\n",
       "      <th>lag8</th>\n",
       "      <th>peek8</th>\n",
       "      <th>lag9</th>\n",
       "      <th>peek9</th>\n",
       "      <th>lag10</th>\n",
       "      <th>peek10</th>\n",
       "      <th>lag11</th>\n",
       "      <th>peek11</th>\n",
       "      <th>lag12</th>\n",
       "      <th>peek12</th>\n",
       "    </tr>\n",
       "  </thead>\n",
       "  <tbody>\n",
       "    <tr>\n",
       "      <th>0</th>\n",
       "      <td>1991</td>\n",
       "      <td>7.41</td>\n",
       "      <td>3.635</td>\n",
       "      <td>3.296</td>\n",
       "      <td>3.829</td>\n",
       "      <td>4.542</td>\n",
       "      <td>4.668</td>\n",
       "      <td>5.006</td>\n",
       "      <td>5.122</td>\n",
       "      <td>5.526</td>\n",
       "      <td>...</td>\n",
       "      <td>5.357</td>\n",
       "      <td>5.283</td>\n",
       "      <td>4.853</td>\n",
       "      <td>4.815</td>\n",
       "      <td>4.403</td>\n",
       "      <td>3.950</td>\n",
       "      <td>3.196</td>\n",
       "      <td>3.749</td>\n",
       "      <td>2.965</td>\n",
       "      <td>3.168</td>\n",
       "    </tr>\n",
       "    <tr>\n",
       "      <th>1</th>\n",
       "      <td>1991</td>\n",
       "      <td>7.61</td>\n",
       "      <td>3.058</td>\n",
       "      <td>4.542</td>\n",
       "      <td>3.635</td>\n",
       "      <td>5.006</td>\n",
       "      <td>3.829</td>\n",
       "      <td>5.526</td>\n",
       "      <td>4.668</td>\n",
       "      <td>5.576</td>\n",
       "      <td>...</td>\n",
       "      <td>5.406</td>\n",
       "      <td>4.815</td>\n",
       "      <td>5.357</td>\n",
       "      <td>3.950</td>\n",
       "      <td>4.853</td>\n",
       "      <td>3.749</td>\n",
       "      <td>4.403</td>\n",
       "      <td>3.168</td>\n",
       "      <td>3.196</td>\n",
       "      <td>3.415</td>\n",
       "    </tr>\n",
       "    <tr>\n",
       "      <th>2</th>\n",
       "      <td>1991</td>\n",
       "      <td>7.79</td>\n",
       "      <td>3.296</td>\n",
       "      <td>5.006</td>\n",
       "      <td>3.058</td>\n",
       "      <td>5.526</td>\n",
       "      <td>3.635</td>\n",
       "      <td>5.576</td>\n",
       "      <td>3.829</td>\n",
       "      <td>5.853</td>\n",
       "      <td>...</td>\n",
       "      <td>5.675</td>\n",
       "      <td>3.950</td>\n",
       "      <td>5.406</td>\n",
       "      <td>3.749</td>\n",
       "      <td>5.357</td>\n",
       "      <td>3.168</td>\n",
       "      <td>4.853</td>\n",
       "      <td>3.415</td>\n",
       "      <td>4.403</td>\n",
       "      <td>4.705</td>\n",
       "    </tr>\n",
       "    <tr>\n",
       "      <th>3</th>\n",
       "      <td>1991</td>\n",
       "      <td>7.98</td>\n",
       "      <td>4.542</td>\n",
       "      <td>5.526</td>\n",
       "      <td>3.296</td>\n",
       "      <td>5.576</td>\n",
       "      <td>3.058</td>\n",
       "      <td>5.853</td>\n",
       "      <td>3.635</td>\n",
       "      <td>5.793</td>\n",
       "      <td>...</td>\n",
       "      <td>5.616</td>\n",
       "      <td>3.749</td>\n",
       "      <td>5.675</td>\n",
       "      <td>3.168</td>\n",
       "      <td>5.406</td>\n",
       "      <td>3.415</td>\n",
       "      <td>5.357</td>\n",
       "      <td>4.705</td>\n",
       "      <td>4.853</td>\n",
       "      <td>5.185</td>\n",
       "    </tr>\n",
       "    <tr>\n",
       "      <th>4</th>\n",
       "      <td>1991</td>\n",
       "      <td>8.14</td>\n",
       "      <td>5.006</td>\n",
       "      <td>5.576</td>\n",
       "      <td>4.542</td>\n",
       "      <td>5.853</td>\n",
       "      <td>3.296</td>\n",
       "      <td>5.793</td>\n",
       "      <td>3.058</td>\n",
       "      <td>5.283</td>\n",
       "      <td>...</td>\n",
       "      <td>5.122</td>\n",
       "      <td>3.168</td>\n",
       "      <td>5.616</td>\n",
       "      <td>3.415</td>\n",
       "      <td>5.675</td>\n",
       "      <td>4.705</td>\n",
       "      <td>5.406</td>\n",
       "      <td>5.185</td>\n",
       "      <td>5.357</td>\n",
       "      <td>5.724</td>\n",
       "    </tr>\n",
       "  </tbody>\n",
       "</table>\n",
       "<p>5 rows × 26 columns</p>\n",
       "</div>"
      ],
      "text/plain": [
       "   year  Price   lag1  peek1   lag2  peek2   lag3  peek3   lag4  peek4  \\\n",
       "0  1991   7.41  3.635  3.296  3.829  4.542  4.668  5.006  5.122  5.526   \n",
       "1  1991   7.61  3.058  4.542  3.635  5.006  3.829  5.526  4.668  5.576   \n",
       "2  1991   7.79  3.296  5.006  3.058  5.526  3.635  5.576  3.829  5.853   \n",
       "3  1991   7.98  4.542  5.526  3.296  5.576  3.058  5.853  3.635  5.793   \n",
       "4  1991   8.14  5.006  5.576  4.542  5.853  3.296  5.793  3.058  5.283   \n",
       "\n",
       "    ...     lag8  peek8   lag9  peek9  lag10  peek10  lag11  peek11  lag12  \\\n",
       "0   ...    5.357  5.283  4.853  4.815  4.403   3.950  3.196   3.749  2.965   \n",
       "1   ...    5.406  4.815  5.357  3.950  4.853   3.749  4.403   3.168  3.196   \n",
       "2   ...    5.675  3.950  5.406  3.749  5.357   3.168  4.853   3.415  4.403   \n",
       "3   ...    5.616  3.749  5.675  3.168  5.406   3.415  5.357   4.705  4.853   \n",
       "4   ...    5.122  3.168  5.616  3.415  5.675   4.705  5.406   5.185  5.357   \n",
       "\n",
       "   peek12  \n",
       "0   3.168  \n",
       "1   3.415  \n",
       "2   4.705  \n",
       "3   5.185  \n",
       "4   5.724  \n",
       "\n",
       "[5 rows x 26 columns]"
      ]
     },
     "execution_count": 5,
     "metadata": {},
     "output_type": "execute_result"
    }
   ],
   "source": [
    "X.head()"
   ]
  },
  {
   "cell_type": "code",
   "execution_count": 6,
   "metadata": {},
   "outputs": [
    {
     "data": {
      "text/html": [
       "<div>\n",
       "<style scoped>\n",
       "    .dataframe tbody tr th:only-of-type {\n",
       "        vertical-align: middle;\n",
       "    }\n",
       "\n",
       "    .dataframe tbody tr th {\n",
       "        vertical-align: top;\n",
       "    }\n",
       "\n",
       "    .dataframe thead th {\n",
       "        text-align: right;\n",
       "    }\n",
       "</style>\n",
       "<table border=\"1\" class=\"dataframe\">\n",
       "  <thead>\n",
       "    <tr style=\"text-align: right;\">\n",
       "      <th></th>\n",
       "      <th>year</th>\n",
       "      <th>Price</th>\n",
       "      <th>lag1</th>\n",
       "      <th>peek1</th>\n",
       "      <th>lag2</th>\n",
       "      <th>peek2</th>\n",
       "      <th>lag3</th>\n",
       "      <th>peek3</th>\n",
       "      <th>lag4</th>\n",
       "      <th>peek4</th>\n",
       "      <th>...</th>\n",
       "      <th>lag7</th>\n",
       "      <th>peek7</th>\n",
       "      <th>lag8</th>\n",
       "      <th>peek8</th>\n",
       "      <th>lag9</th>\n",
       "      <th>peek9</th>\n",
       "      <th>lag10</th>\n",
       "      <th>peek10</th>\n",
       "      <th>lag11</th>\n",
       "      <th>peek11</th>\n",
       "    </tr>\n",
       "  </thead>\n",
       "  <tbody>\n",
       "    <tr>\n",
       "      <th>0</th>\n",
       "      <td>1991</td>\n",
       "      <td>7.41</td>\n",
       "      <td>3.635</td>\n",
       "      <td>3.296</td>\n",
       "      <td>3.829</td>\n",
       "      <td>4.542</td>\n",
       "      <td>4.668</td>\n",
       "      <td>5.006</td>\n",
       "      <td>5.122</td>\n",
       "      <td>5.526</td>\n",
       "      <td>...</td>\n",
       "      <td>5.406</td>\n",
       "      <td>5.793</td>\n",
       "      <td>5.357</td>\n",
       "      <td>5.283</td>\n",
       "      <td>4.853</td>\n",
       "      <td>4.815</td>\n",
       "      <td>4.403</td>\n",
       "      <td>3.950</td>\n",
       "      <td>3.196</td>\n",
       "      <td>3.749</td>\n",
       "    </tr>\n",
       "    <tr>\n",
       "      <th>1</th>\n",
       "      <td>1991</td>\n",
       "      <td>7.61</td>\n",
       "      <td>3.058</td>\n",
       "      <td>4.542</td>\n",
       "      <td>3.635</td>\n",
       "      <td>5.006</td>\n",
       "      <td>3.829</td>\n",
       "      <td>5.526</td>\n",
       "      <td>4.668</td>\n",
       "      <td>5.576</td>\n",
       "      <td>...</td>\n",
       "      <td>5.675</td>\n",
       "      <td>5.283</td>\n",
       "      <td>5.406</td>\n",
       "      <td>4.815</td>\n",
       "      <td>5.357</td>\n",
       "      <td>3.950</td>\n",
       "      <td>4.853</td>\n",
       "      <td>3.749</td>\n",
       "      <td>4.403</td>\n",
       "      <td>3.168</td>\n",
       "    </tr>\n",
       "    <tr>\n",
       "      <th>2</th>\n",
       "      <td>1991</td>\n",
       "      <td>7.79</td>\n",
       "      <td>3.296</td>\n",
       "      <td>5.006</td>\n",
       "      <td>3.058</td>\n",
       "      <td>5.526</td>\n",
       "      <td>3.635</td>\n",
       "      <td>5.576</td>\n",
       "      <td>3.829</td>\n",
       "      <td>5.853</td>\n",
       "      <td>...</td>\n",
       "      <td>5.616</td>\n",
       "      <td>4.815</td>\n",
       "      <td>5.675</td>\n",
       "      <td>3.950</td>\n",
       "      <td>5.406</td>\n",
       "      <td>3.749</td>\n",
       "      <td>5.357</td>\n",
       "      <td>3.168</td>\n",
       "      <td>4.853</td>\n",
       "      <td>3.415</td>\n",
       "    </tr>\n",
       "    <tr>\n",
       "      <th>3</th>\n",
       "      <td>1991</td>\n",
       "      <td>7.98</td>\n",
       "      <td>4.542</td>\n",
       "      <td>5.526</td>\n",
       "      <td>3.296</td>\n",
       "      <td>5.576</td>\n",
       "      <td>3.058</td>\n",
       "      <td>5.853</td>\n",
       "      <td>3.635</td>\n",
       "      <td>5.793</td>\n",
       "      <td>...</td>\n",
       "      <td>5.122</td>\n",
       "      <td>3.950</td>\n",
       "      <td>5.616</td>\n",
       "      <td>3.749</td>\n",
       "      <td>5.675</td>\n",
       "      <td>3.168</td>\n",
       "      <td>5.406</td>\n",
       "      <td>3.415</td>\n",
       "      <td>5.357</td>\n",
       "      <td>4.705</td>\n",
       "    </tr>\n",
       "    <tr>\n",
       "      <th>4</th>\n",
       "      <td>1991</td>\n",
       "      <td>8.14</td>\n",
       "      <td>5.006</td>\n",
       "      <td>5.576</td>\n",
       "      <td>4.542</td>\n",
       "      <td>5.853</td>\n",
       "      <td>3.296</td>\n",
       "      <td>5.793</td>\n",
       "      <td>3.058</td>\n",
       "      <td>5.283</td>\n",
       "      <td>...</td>\n",
       "      <td>4.668</td>\n",
       "      <td>3.749</td>\n",
       "      <td>5.122</td>\n",
       "      <td>3.168</td>\n",
       "      <td>5.616</td>\n",
       "      <td>3.415</td>\n",
       "      <td>5.675</td>\n",
       "      <td>4.705</td>\n",
       "      <td>5.406</td>\n",
       "      <td>5.185</td>\n",
       "    </tr>\n",
       "  </tbody>\n",
       "</table>\n",
       "<p>5 rows × 24 columns</p>\n",
       "</div>"
      ],
      "text/plain": [
       "   year  Price   lag1  peek1   lag2  peek2   lag3  peek3   lag4  peek4  \\\n",
       "0  1991   7.41  3.635  3.296  3.829  4.542  4.668  5.006  5.122  5.526   \n",
       "1  1991   7.61  3.058  4.542  3.635  5.006  3.829  5.526  4.668  5.576   \n",
       "2  1991   7.79  3.296  5.006  3.058  5.526  3.635  5.576  3.829  5.853   \n",
       "3  1991   7.98  4.542  5.526  3.296  5.576  3.058  5.853  3.635  5.793   \n",
       "4  1991   8.14  5.006  5.576  4.542  5.853  3.296  5.793  3.058  5.283   \n",
       "\n",
       "    ...     lag7  peek7   lag8  peek8   lag9  peek9  lag10  peek10  lag11  \\\n",
       "0   ...    5.406  5.793  5.357  5.283  4.853  4.815  4.403   3.950  3.196   \n",
       "1   ...    5.675  5.283  5.406  4.815  5.357  3.950  4.853   3.749  4.403   \n",
       "2   ...    5.616  4.815  5.675  3.950  5.406  3.749  5.357   3.168  4.853   \n",
       "3   ...    5.122  3.950  5.616  3.749  5.675  3.168  5.406   3.415  5.357   \n",
       "4   ...    4.668  3.749  5.122  3.168  5.616  3.415  5.675   4.705  5.406   \n",
       "\n",
       "   peek11  \n",
       "0   3.749  \n",
       "1   3.168  \n",
       "2   3.415  \n",
       "3   4.705  \n",
       "4   5.185  \n",
       "\n",
       "[5 rows x 24 columns]"
      ]
     },
     "execution_count": 6,
     "metadata": {},
     "output_type": "execute_result"
    }
   ],
   "source": [
    "# overfitting treatment \n",
    "X = X.drop(columns=[\"lag12\", \"peek12\"])\n",
    "X.head()"
   ]
  },
  {
   "cell_type": "code",
   "execution_count": 7,
   "metadata": {},
   "outputs": [
    {
     "data": {
      "text/html": [
       "<div>\n",
       "<style scoped>\n",
       "    .dataframe tbody tr th:only-of-type {\n",
       "        vertical-align: middle;\n",
       "    }\n",
       "\n",
       "    .dataframe tbody tr th {\n",
       "        vertical-align: top;\n",
       "    }\n",
       "\n",
       "    .dataframe thead th {\n",
       "        text-align: right;\n",
       "    }\n",
       "</style>\n",
       "<table border=\"1\" class=\"dataframe\">\n",
       "  <thead>\n",
       "    <tr style=\"text-align: right;\">\n",
       "      <th></th>\n",
       "      <th>Value</th>\n",
       "    </tr>\n",
       "  </thead>\n",
       "  <tbody>\n",
       "    <tr>\n",
       "      <th>0</th>\n",
       "      <td>3.058</td>\n",
       "    </tr>\n",
       "    <tr>\n",
       "      <th>1</th>\n",
       "      <td>3.296</td>\n",
       "    </tr>\n",
       "    <tr>\n",
       "      <th>2</th>\n",
       "      <td>4.542</td>\n",
       "    </tr>\n",
       "    <tr>\n",
       "      <th>3</th>\n",
       "      <td>5.006</td>\n",
       "    </tr>\n",
       "    <tr>\n",
       "      <th>4</th>\n",
       "      <td>5.526</td>\n",
       "    </tr>\n",
       "  </tbody>\n",
       "</table>\n",
       "</div>"
      ],
      "text/plain": [
       "   Value\n",
       "0  3.058\n",
       "1  3.296\n",
       "2  4.542\n",
       "3  5.006\n",
       "4  5.526"
      ]
     },
     "execution_count": 7,
     "metadata": {},
     "output_type": "execute_result"
    }
   ],
   "source": [
    "y.head()"
   ]
  },
  {
   "cell_type": "code",
   "execution_count": 8,
   "metadata": {},
   "outputs": [
    {
     "name": "stdout",
     "output_type": "stream",
     "text": [
      "(315, 24) (315, 1)\n"
     ]
    }
   ],
   "source": [
    "y = y.values.reshape(-1, 1)\n",
    "print(X.shape, y.shape)"
   ]
  },
  {
   "cell_type": "markdown",
   "metadata": {},
   "source": [
    "## Split dataset into Train and Test\n",
    "\n",
    "Given the dataset is a time series, we will leave the last 12 months as test data."
   ]
  },
  {
   "cell_type": "code",
   "execution_count": 9,
   "metadata": {
    "collapsed": true
   },
   "outputs": [],
   "source": [
    "#from sklearn.model_selection import train_test_split\n",
    "\n",
    "#X_train, X_test, y_train, y_test = train_test_split(X, y, random_state=42)\n",
    "X_train, X_test = X[1:len(X)-12], X[len(X)-12:]\n",
    "y_train, y_test = y[1:len(X)-12], y[len(X)-12:]\n",
    "\n"
   ]
  },
  {
   "cell_type": "markdown",
   "metadata": {},
   "source": [
    "## Scale the data and plot the difference"
   ]
  },
  {
   "cell_type": "code",
   "execution_count": 10,
   "metadata": {},
   "outputs": [
    {
     "name": "stdout",
     "output_type": "stream",
     "text": [
      "X_train_scaled: (302, 24)\n",
      "y_train_scaled: (302, 1)\n",
      "X_test_scaled: (12, 24)\n",
      "y_test_scaled: (12, 1)\n"
     ]
    }
   ],
   "source": [
    "from sklearn.preprocessing import StandardScaler\n",
    "\n",
    "X_scaler = StandardScaler().fit(X_train)\n",
    "y_scaler = StandardScaler().fit(y_train)\n",
    "X_train_scaled = X_scaler.transform(X_train)\n",
    "X_test_scaled = X_scaler.transform(X_test)\n",
    "y_train_scaled = y_scaler.transform(y_train)\n",
    "y_test_scaled = y_scaler.transform(y_test)\n",
    "print(\"X_train_scaled:\", X_train_scaled.shape)\n",
    "print(\"y_train_scaled:\", y_train_scaled.shape)\n",
    "print(\"X_test_scaled:\", X_test_scaled.shape)\n",
    "print(\"y_test_scaled:\", y_test_scaled.shape)"
   ]
  },
  {
   "cell_type": "code",
   "execution_count": 11,
   "metadata": {},
   "outputs": [
    {
     "data": {
      "image/png": "[encoded data removed]",
      "text/plain": [
       "<matplotlib.figure.Figure at 0x10e2c9ba8>"
      ]
     },
     "metadata": {},
     "output_type": "display_data"
    }
   ],
   "source": [
    "fig1 = plt.figure(figsize=(12, 6))\n",
    "axes1 = fig1.add_subplot(1, 2, 1)\n",
    "axes2 = fig1.add_subplot(1, 2, 2)\n",
    "\n",
    "axes1.set_title(\"Original Data\")\n",
    "axes2.set_title(\"Scaled Data\")\n",
    "#Price\n",
    "maxx = X_train[\"Price\"].max()\n",
    "maxy = y_train.max()\n",
    "axes1.set_xlim(-maxx + 1, maxx + 1)\n",
    "axes1.set_ylim(-maxy + 1, maxy + 1)\n",
    "\n",
    "axes2.set_xlim(-2,2)\n",
    "axes2.set_ylim(-2,2)\n",
    "\n",
    "def set_axes(ax):\n",
    "    ax.spines['left'].set_position('center')\n",
    "    ax.spines['right'].set_color('none')\n",
    "    ax.spines['bottom'].set_position('center')\n",
    "    ax.spines['top'].set_color('none')\n",
    "    ax.xaxis.set_ticks_position('bottom')\n",
    "    ax.yaxis.set_ticks_position('left')\n",
    "    \n",
    "set_axes(axes1)\n",
    "set_axes(axes2)\n",
    "#Price\n",
    "axes1.scatter(X_train[\"Price\"], y_train)\n",
    "axes2.scatter(X_train_scaled[:,1], y_train_scaled[:])\n",
    "# Save our graph \n",
    "plt.tight_layout()\n",
    "plt.savefig(\"../../images/LR_scaled_features.png\")\n",
    "plt.show()\n"
   ]
  },
  {
   "cell_type": "markdown",
   "metadata": {},
   "source": [
    "## Create the Linear Regression model\n",
    "\n",
    "Train the model and plot results"
   ]
  },
  {
   "cell_type": "code",
   "execution_count": 12,
   "metadata": {},
   "outputs": [
    {
     "data": {
      "image/png": "[encoded data removed]",
      "text/plain": [
       "<matplotlib.figure.Figure at 0x10e2c96d8>"
      ]
     },
     "metadata": {},
     "output_type": "display_data"
    }
   ],
   "source": [
    "from sklearn.linear_model import LinearRegression\n",
    "model = LinearRegression()\n",
    "model.fit(X_train_scaled, y_train_scaled)\n",
    "\n",
    "plt.scatter(model.predict(X_train_scaled), model.predict(X_train_scaled) - y_train_scaled, c=\"blue\", label=\"Training Data\")\n",
    "plt.scatter(model.predict(X_test_scaled), model.predict(X_test_scaled) - y_test_scaled, c=\"orange\", label=\"Testing Data\")\n",
    "plt.legend()\n",
    "plt.hlines(y=0, xmin=y_test_scaled.min(), xmax=y_test_scaled.max())\n",
    "plt.title(\"Residual Plot\")\n",
    "plt.tight_layout()\n",
    "plt.savefig(\"../../images/LR_residual.png\")\n",
    "plt.show()"
   ]
  },
  {
   "cell_type": "markdown",
   "metadata": {},
   "source": [
    "## Evaluate the model"
   ]
  },
  {
   "cell_type": "code",
   "execution_count": 13,
   "metadata": {},
   "outputs": [
    {
     "name": "stdout",
     "output_type": "stream",
     "text": [
      "MSE: 0.10041120657022053, R2: 0.9483863870336732\n"
     ]
    }
   ],
   "source": [
    " from sklearn.metrics import mean_squared_error\n",
    "\n",
    "predictions = model.predict(X_test_scaled)\n",
    "MSE = mean_squared_error(y_test_scaled, predictions)\n",
    "r2 = model.score(X_test_scaled, y_test_scaled)\n",
    "\n",
    "print(f\"MSE: {MSE}, R2: {r2}\")"
   ]
  },
  {
   "cell_type": "code",
   "execution_count": 14,
   "metadata": {},
   "outputs": [
    {
     "data": {
      "image/png": "[encoded data removed]",
      "text/plain": [
       "<matplotlib.figure.Figure at 0x10c7cdb38>"
      ]
     },
     "metadata": {},
     "output_type": "display_data"
    }
   ],
   "source": [
    "# plot\n",
    "plt.plot(y_test_scaled)\n",
    "plt.plot(predictions, color='red')\n",
    "plt.legend(['Solar Energy','Predictions'], loc='best')\n",
    "# Save our graph \n",
    "plt.tight_layout()\n",
    "plt.savefig(\"../../images/LinearRmodel.png\")\n",
    "plt.show()"
   ]
  },
  {
   "cell_type": "code",
   "execution_count": 16,
   "metadata": {},
   "outputs": [
    {
     "data": {
      "text/plain": [
       "array([-1.13888919, -0.49566738, -0.25613695,  0.01230233,  0.0381138 ,\n",
       "        0.18110933,  0.15013557, -0.11314141, -0.35473676, -0.80127517,\n",
       "       -0.90503728, -1.20496655, -1.07745789, -0.41152199, -0.16373189,\n",
       "        0.11451574,  0.14135967,  0.2895175 ,  0.25699505, -0.01505783,\n",
       "       -0.26542908, -0.7279706 , -0.83534631, -1.15902213, -1.02789987,\n",
       "       -0.34337971, -0.08784617,  0.1981449 ,  0.22550506,  0.37830896,\n",
       "        0.34475405,  0.06444149, -0.19264074, -0.66860422, -0.77907731,\n",
       "       -1.11307772, -0.97834185, -0.27472121, -0.01247668,  0.28125783,\n",
       "        0.30965045,  0.46606795,  0.43199681,  0.14394082, -0.12036862,\n",
       "       -0.60923784, -0.72229208, -1.08623379, -0.94943301, -0.23497155,\n",
       "        0.03088658,  0.3297834 ,  0.35817601,  0.51717466,  0.48258729,\n",
       "        0.19040146, -0.07803781, -0.57465048, -0.68976963, -1.07023068,\n",
       "       -0.93188121, -0.21122499,  0.05773051,  0.35869224,  0.38760109,\n",
       "        0.54814842,  0.51304482,  0.21827785, -0.05274257, -0.5540013 ,\n",
       "       -0.66963668, -1.09397723, -0.95769268, -0.24632859,  0.01901331,\n",
       "        0.3158452 ,  0.34423782,  0.50323647,  0.46813287,  0.17749573,\n",
       "       -0.08991109, -0.58445883, -0.69906176, -1.11307772, -0.97834185,\n",
       "       -0.27472121, -0.01247668,  0.28125783,  0.30965045,  0.46658418,\n",
       "        0.43199681,  0.14445705, -0.12036862, -0.60923784, -0.72229208,\n",
       "       -1.15231115, -1.02067266, -0.33357136, -0.07700536,  0.21001818,\n",
       "        0.23737834,  0.39069846,  0.35714355,  0.07579854, -0.18231615,\n",
       "       -0.66034455, -0.77081764, -1.22664818, -1.10068821, -0.44352821,\n",
       "       -0.19883549,  0.07579854,  0.10212624,  0.24873538,  0.21672916,\n",
       "       -0.05222635, -0.29898399, -0.75584699, -0.86167401, -1.29737161,\n",
       "       -1.17709016, -0.54883901, -0.31447087, -0.05222635, -0.02693111,\n",
       "        0.11296706,  0.08250952, -0.17457271, -0.41100576, -0.84721959,\n",
       "       -0.94840055, -1.350027  , -1.23387539, -0.62678964, -0.40068118,\n",
       "       -0.14721255, -0.12294977,  0.01230233, -0.01712275, -0.26542908,\n",
       "       -0.49360246, -0.91536187, -1.01292922, -1.39132535, -1.27827112,\n",
       "       -0.68822094, -0.46830722, -0.22206581, -0.19831926, -0.06668077,\n",
       "       -0.09558961, -0.33666873, -0.55864737, -0.96853349, -1.06403593,\n",
       "       -1.41042584, -1.2989203 , -0.71661356, -0.49979722, -0.25613695,\n",
       "       -0.23290663, -0.10333305, -0.13172567, -0.36970741, -0.58858867,\n",
       "       -0.9933125 , -1.08726625, -1.43726977, -1.32782914, -0.75687945,\n",
       "       -0.54367671, -0.30517874, -0.28246465, -0.15495599, -0.18283238,\n",
       "       -0.41668429, -0.63143571, -1.0284161 , -1.12030493, -1.37222487,\n",
       "       -1.25762194, -0.65982832, -0.43681723, -0.18696221, -0.16321566,\n",
       "       -0.03002848, -0.05893733, -0.30363005, -0.52818983, -0.94375448,\n",
       "       -1.04028938, -1.30098521, -1.18070377, -0.5540013 , -0.32066562,\n",
       "       -0.0584211 , -0.03364209,  0.10625607,  0.07579854, -0.18076746,\n",
       "       -0.41616806, -0.85186565, -0.95304661, -1.20599901, -1.07900658,\n",
       "       -0.41307068, -0.16528058,  0.11296706,  0.13929475,  0.28796882,\n",
       "        0.25544636, -0.01712275, -0.26697777, -0.72951929, -0.836895  ,\n",
       "       -1.1672818 , -1.037192  , -0.35576922, -0.10178437,  0.18265802,\n",
       "        0.21001818,  0.36178962,  0.32875094,  0.04998707, -0.2060627 ,\n",
       "       -0.67944504, -0.7894019 , -1.03048102, -0.8895504 , -0.15237484,\n",
       "        0.12225918,  0.42993189,  0.45935697,  0.62403414,  0.58789808,\n",
       "        0.28642013,  0.00920495, -0.50289459, -0.62162735, -0.86064155,\n",
       "       -0.70628897,  0.10006132,  0.40050682,  0.7376046 ,  0.76961083,\n",
       "        0.94925865,  0.91002522,  0.58015464,  0.277128  , -0.28298088,\n",
       "       -0.41307068, -0.63556554, -0.46366116,  0.43457796,  0.7690946 ,\n",
       "        1.14387713,  1.18001318,  1.38031018,  1.33643068,  0.96887537,\n",
       "        0.63126135,  0.00765626, -0.13688796, -0.28349711, -0.08423257,\n",
       "        0.95700209,  1.34520658,  1.77987172,  1.8216863 ,  2.05398952,\n",
       "        2.00288281,  1.57699357,  1.18569171,  0.46193812,  0.2946798 ,\n",
       "        0.22395637,  0.40670157,  1.61622701,  2.03488903,  2.56350792,\n",
       "        2.63681249,  2.89234603,  2.86808325,  2.45148614,  2.09012558,\n",
       "        1.24144448,  1.11961435,  0.48361975,  0.80832803,  2.30126339,\n",
       "        2.95119618,  3.56705783,  3.68062829,  4.08741704,  4.06883279,\n",
       "        3.43748426,  2.84227178,  1.85885482,  1.49594556,  1.30803807,\n",
       "        2.0746387 ,  3.73741353,  4.74950605,  5.19410068,  5.93012846,\n",
       "        5.68767046,  6.03692288,  4.53533034,  4.19262362,  2.5903459 ,\n",
       "        2.4156616 ,  1.89396731,  3.29284928,  4.69366058])"
      ]
     },
     "execution_count": 16,
     "metadata": {},
     "output_type": "execute_result"
    }
   ],
   "source": [
    "import numpy as np\n",
    "dataLR = np.append(y_train_scaled, predictions)\n",
    "dataLR"
   ]
  },
  {
   "cell_type": "code",
   "execution_count": 17,
   "metadata": {
    "collapsed": true
   },
   "outputs": [],
   "source": [
    "dfLR = pd.DataFrame(dataLR)"
   ]
  },
  {
   "cell_type": "code",
   "execution_count": 18,
   "metadata": {},
   "outputs": [
    {
     "data": {
      "text/plain": [
       "314"
      ]
     },
     "execution_count": 18,
     "metadata": {},
     "output_type": "execute_result"
    }
   ],
   "source": [
    "len(dfLR)"
   ]
  },
  {
   "cell_type": "code",
   "execution_count": 20,
   "metadata": {},
   "outputs": [],
   "source": [
    "dataname = \"dfLR.csv\"\n",
    "filesave = os.path.join(output_data,dataname)\n",
    "dfLR.to_csv(filesave, index=False)"
   ]
  },
  {
   "cell_type": "code",
   "execution_count": null,
   "metadata": {
    "collapsed": true
   },
   "outputs": [],
   "source": []
  }
 ],
 "metadata": {
  "kernelspec": {
   "display_name": "Python [default]",
   "language": "python",
   "name": "python3"
  },
  "language_info": {
   "codemirror_mode": {
    "name": "ipython",
    "version": 3
   },
   "file_extension": ".py",
   "mimetype": "text/x-python",
   "name": "python",
   "nbconvert_exporter": "python",
   "pygments_lexer": "ipython3",
   "version": "3.6.4"
  }
 },
 "nbformat": 4,
 "nbformat_minor": 2
}
