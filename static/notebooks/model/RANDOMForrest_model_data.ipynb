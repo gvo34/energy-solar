{
 "cells": [
  {
   "cell_type": "markdown",
   "metadata": {},
   "source": [
    "# Random Forrest"
   ]
  },
  {
   "cell_type": "code",
   "execution_count": 21,
   "metadata": {
    "collapsed": true
   },
   "outputs": [],
   "source": [
    "## Dependencies\n",
    "import pandas as pd\n",
    "import matplotlib.pyplot as plt\n",
    "import os"
   ]
  },
  {
   "cell_type": "code",
   "execution_count": 22,
   "metadata": {
    "collapsed": true
   },
   "outputs": [],
   "source": [
    "filename = \"X.csv\"\n",
    "output_data = \"../../data/output\" \n",
    "filepath = os.path.join(output_data,filename)\n",
    "X = pd.read_csv(filepath,index_col=False, header=0)"
   ]
  },
  {
   "cell_type": "code",
   "execution_count": 23,
   "metadata": {
    "collapsed": true
   },
   "outputs": [],
   "source": [
    "filename = \"y.csv\"\n",
    "output_data = \"../../data/output\" \n",
    "filepath = os.path.join(output_data,filename)\n",
    "y = pd.read_csv(filepath,index_col=False, names=[\"Value\"])\n"
   ]
  },
  {
   "cell_type": "markdown",
   "metadata": {},
   "source": [
    "## Dataset \n",
    "\n",
    "* X\n",
    "\n",
    "* y"
   ]
  },
  {
   "cell_type": "code",
   "execution_count": 24,
   "metadata": {},
   "outputs": [
    {
     "data": {
      "text/html": [
       "<div>\n",
       "<style scoped>\n",
       "    .dataframe tbody tr th:only-of-type {\n",
       "        vertical-align: middle;\n",
       "    }\n",
       "\n",
       "    .dataframe tbody tr th {\n",
       "        vertical-align: top;\n",
       "    }\n",
       "\n",
       "    .dataframe thead th {\n",
       "        text-align: right;\n",
       "    }\n",
       "</style>\n",
       "<table border=\"1\" class=\"dataframe\">\n",
       "  <thead>\n",
       "    <tr style=\"text-align: right;\">\n",
       "      <th></th>\n",
       "      <th>Price</th>\n",
       "      <th>lag1</th>\n",
       "      <th>peek1</th>\n",
       "      <th>lag2</th>\n",
       "      <th>peek2</th>\n",
       "      <th>peek3</th>\n",
       "      <th>peek9</th>\n",
       "      <th>lag10</th>\n",
       "      <th>peek10</th>\n",
       "      <th>lag11</th>\n",
       "      <th>peek11</th>\n",
       "      <th>lag12</th>\n",
       "      <th>peek12</th>\n",
       "    </tr>\n",
       "  </thead>\n",
       "  <tbody>\n",
       "    <tr>\n",
       "      <th>0</th>\n",
       "      <td>7.41</td>\n",
       "      <td>3.635</td>\n",
       "      <td>3.296</td>\n",
       "      <td>3.829</td>\n",
       "      <td>4.542</td>\n",
       "      <td>5.006</td>\n",
       "      <td>4.815</td>\n",
       "      <td>4.403</td>\n",
       "      <td>3.950</td>\n",
       "      <td>3.196</td>\n",
       "      <td>3.749</td>\n",
       "      <td>2.965</td>\n",
       "      <td>3.168</td>\n",
       "    </tr>\n",
       "    <tr>\n",
       "      <th>1</th>\n",
       "      <td>7.61</td>\n",
       "      <td>3.058</td>\n",
       "      <td>4.542</td>\n",
       "      <td>3.635</td>\n",
       "      <td>5.006</td>\n",
       "      <td>5.526</td>\n",
       "      <td>3.950</td>\n",
       "      <td>4.853</td>\n",
       "      <td>3.749</td>\n",
       "      <td>4.403</td>\n",
       "      <td>3.168</td>\n",
       "      <td>3.196</td>\n",
       "      <td>3.415</td>\n",
       "    </tr>\n",
       "    <tr>\n",
       "      <th>2</th>\n",
       "      <td>7.79</td>\n",
       "      <td>3.296</td>\n",
       "      <td>5.006</td>\n",
       "      <td>3.058</td>\n",
       "      <td>5.526</td>\n",
       "      <td>5.576</td>\n",
       "      <td>3.749</td>\n",
       "      <td>5.357</td>\n",
       "      <td>3.168</td>\n",
       "      <td>4.853</td>\n",
       "      <td>3.415</td>\n",
       "      <td>4.403</td>\n",
       "      <td>4.705</td>\n",
       "    </tr>\n",
       "    <tr>\n",
       "      <th>3</th>\n",
       "      <td>7.98</td>\n",
       "      <td>4.542</td>\n",
       "      <td>5.526</td>\n",
       "      <td>3.296</td>\n",
       "      <td>5.576</td>\n",
       "      <td>5.853</td>\n",
       "      <td>3.168</td>\n",
       "      <td>5.406</td>\n",
       "      <td>3.415</td>\n",
       "      <td>5.357</td>\n",
       "      <td>4.705</td>\n",
       "      <td>4.853</td>\n",
       "      <td>5.185</td>\n",
       "    </tr>\n",
       "    <tr>\n",
       "      <th>4</th>\n",
       "      <td>8.14</td>\n",
       "      <td>5.006</td>\n",
       "      <td>5.576</td>\n",
       "      <td>4.542</td>\n",
       "      <td>5.853</td>\n",
       "      <td>5.793</td>\n",
       "      <td>3.415</td>\n",
       "      <td>5.675</td>\n",
       "      <td>4.705</td>\n",
       "      <td>5.406</td>\n",
       "      <td>5.185</td>\n",
       "      <td>5.357</td>\n",
       "      <td>5.724</td>\n",
       "    </tr>\n",
       "  </tbody>\n",
       "</table>\n",
       "</div>"
      ],
      "text/plain": [
       "   Price   lag1  peek1   lag2  peek2  peek3  peek9  lag10  peek10  lag11  \\\n",
       "0   7.41  3.635  3.296  3.829  4.542  5.006  4.815  4.403   3.950  3.196   \n",
       "1   7.61  3.058  4.542  3.635  5.006  5.526  3.950  4.853   3.749  4.403   \n",
       "2   7.79  3.296  5.006  3.058  5.526  5.576  3.749  5.357   3.168  4.853   \n",
       "3   7.98  4.542  5.526  3.296  5.576  5.853  3.168  5.406   3.415  5.357   \n",
       "4   8.14  5.006  5.576  4.542  5.853  5.793  3.415  5.675   4.705  5.406   \n",
       "\n",
       "   peek11  lag12  peek12  \n",
       "0   3.749  2.965   3.168  \n",
       "1   3.168  3.196   3.415  \n",
       "2   3.415  4.403   4.705  \n",
       "3   4.705  4.853   5.185  \n",
       "4   5.185  5.357   5.724  "
      ]
     },
     "execution_count": 24,
     "metadata": {},
     "output_type": "execute_result"
    }
   ],
   "source": [
    "X.head()"
   ]
  },
  {
   "cell_type": "code",
   "execution_count": 25,
   "metadata": {},
   "outputs": [
    {
     "data": {
      "text/html": [
       "<div>\n",
       "<style scoped>\n",
       "    .dataframe tbody tr th:only-of-type {\n",
       "        vertical-align: middle;\n",
       "    }\n",
       "\n",
       "    .dataframe tbody tr th {\n",
       "        vertical-align: top;\n",
       "    }\n",
       "\n",
       "    .dataframe thead th {\n",
       "        text-align: right;\n",
       "    }\n",
       "</style>\n",
       "<table border=\"1\" class=\"dataframe\">\n",
       "  <thead>\n",
       "    <tr style=\"text-align: right;\">\n",
       "      <th></th>\n",
       "      <th>Value</th>\n",
       "    </tr>\n",
       "  </thead>\n",
       "  <tbody>\n",
       "    <tr>\n",
       "      <th>0</th>\n",
       "      <td>3.058</td>\n",
       "    </tr>\n",
       "    <tr>\n",
       "      <th>1</th>\n",
       "      <td>3.296</td>\n",
       "    </tr>\n",
       "    <tr>\n",
       "      <th>2</th>\n",
       "      <td>4.542</td>\n",
       "    </tr>\n",
       "    <tr>\n",
       "      <th>3</th>\n",
       "      <td>5.006</td>\n",
       "    </tr>\n",
       "    <tr>\n",
       "      <th>4</th>\n",
       "      <td>5.526</td>\n",
       "    </tr>\n",
       "  </tbody>\n",
       "</table>\n",
       "</div>"
      ],
      "text/plain": [
       "   Value\n",
       "0  3.058\n",
       "1  3.296\n",
       "2  4.542\n",
       "3  5.006\n",
       "4  5.526"
      ]
     },
     "execution_count": 25,
     "metadata": {},
     "output_type": "execute_result"
    }
   ],
   "source": [
    "y.head()"
   ]
  },
  {
   "cell_type": "code",
   "execution_count": 26,
   "metadata": {},
   "outputs": [
    {
     "name": "stdout",
     "output_type": "stream",
     "text": [
      "(315, 13) (315, 1)\n"
     ]
    }
   ],
   "source": [
    "y = y.values.reshape(-1, 1)\n",
    "print(X.shape, y.shape)"
   ]
  },
  {
   "cell_type": "markdown",
   "metadata": {},
   "source": [
    "## Split dataset into Train and Test\n",
    "\n",
    "Given the dataset is a time series, we will leave the last 12 months as test data."
   ]
  },
  {
   "cell_type": "code",
   "execution_count": 27,
   "metadata": {
    "collapsed": true
   },
   "outputs": [],
   "source": [
    "#from sklearn.model_selection import train_test_split\n",
    "\n",
    "#X_train, X_test, y_train, y_test = train_test_split(X, y, random_state=42)\n",
    "X_train, X_test = X[1:len(X)-12], X[len(X)-12:]\n",
    "y_train, y_test = y[1:len(X)-12], y[len(X)-12:]\n",
    "\n"
   ]
  },
  {
   "cell_type": "markdown",
   "metadata": {},
   "source": [
    "## Scale the data and plot the difference"
   ]
  },
  {
   "cell_type": "code",
   "execution_count": 28,
   "metadata": {},
   "outputs": [
    {
     "name": "stdout",
     "output_type": "stream",
     "text": [
      "X_train_scaled: (302, 13)\n",
      "y_train_scaled: (302, 1)\n",
      "X_test_scaled: (12, 13)\n",
      "y_test_scaled: (12, 1)\n"
     ]
    }
   ],
   "source": [
    "from sklearn.preprocessing import StandardScaler\n",
    "\n",
    "X_scaler = StandardScaler().fit(X_train)\n",
    "y_scaler = StandardScaler().fit(y_train)\n",
    "X_train_scaled = X_scaler.transform(X_train)\n",
    "X_test_scaled = X_scaler.transform(X_test)\n",
    "y_train_scaled = y_scaler.transform(y_train)\n",
    "y_test_scaled = y_scaler.transform(y_test)\n",
    "\n",
    "print(\"X_train_scaled:\", X_train_scaled.shape)\n",
    "print(\"y_train_scaled:\", y_train_scaled.shape)\n",
    "print(\"X_test_scaled:\", X_test_scaled.shape)\n",
    "print(\"y_test_scaled:\", y_test_scaled.shape)"
   ]
  },
  {
   "cell_type": "code",
   "execution_count": 29,
   "metadata": {},
   "outputs": [
    {
     "data": {
      "image/png": "[encoded data removed]",
      "text/plain": [
       "<matplotlib.figure.Figure at 0x10968f470>"
      ]
     },
     "metadata": {},
     "output_type": "display_data"
    },
    {
     "data": {
      "image/png": "[encoded data removed]",
      "text/plain": [
       "<matplotlib.figure.Figure at 0x109a13e48>"
      ]
     },
     "metadata": {},
     "output_type": "display_data"
    }
   ],
   "source": [
    "fig1 = plt.figure(figsize=(12, 6))\n",
    "axes1 = fig1.add_subplot(1, 2, 1)\n",
    "axes2 = fig1.add_subplot(1, 2, 2)\n",
    "\n",
    "axes1.set_title(\"Original Data\")\n",
    "axes2.set_title(\"Scaled Data\")\n",
    "\n",
    "maxx = X_train[\"Price\"].max()\n",
    "maxy = y_train.max()\n",
    "axes1.set_xlim(-maxx + 1, maxx + 1)\n",
    "axes1.set_ylim(-maxy + 1, maxy + 1)\n",
    "\n",
    "axes2.set_xlim(-2, 2)\n",
    "axes2.set_ylim(-2, 2)\n",
    "\n",
    "def set_axes(ax):\n",
    "    ax.spines['left'].set_position('center')\n",
    "    ax.spines['right'].set_color('none')\n",
    "    ax.spines['bottom'].set_position('center')\n",
    "    ax.spines['top'].set_color('none')\n",
    "    ax.xaxis.set_ticks_position('bottom')\n",
    "    ax.yaxis.set_ticks_position('left')\n",
    "    \n",
    "set_axes(axes1)\n",
    "set_axes(axes2)\n",
    "\n",
    "axes1.scatter(X_train[\"Price\"], y_train)\n",
    "axes2.scatter(X_train_scaled[:,0], y_train_scaled[:])\n",
    "# Save our graph \n",
    "plt.tight_layout()\n",
    "plt.savefig(\"../../images/LR_scaled_features.png\")\n",
    "plt.show()\n"
   ]
  },
  {
   "cell_type": "markdown",
   "metadata": {},
   "source": [
    "## Create the Random Forrest model\n",
    "\n",
    "Train the model and plot results"
   ]
  },
  {
   "cell_type": "code",
   "execution_count": 30,
   "metadata": {},
   "outputs": [
    {
     "data": {
      "text/plain": [
       "RandomForestRegressor(bootstrap=True, criterion='mse', max_depth=2,\n",
       "           max_features='auto', max_leaf_nodes=None,\n",
       "           min_impurity_decrease=0.0, min_impurity_split=None,\n",
       "           min_samples_leaf=1, min_samples_split=2,\n",
       "           min_weight_fraction_leaf=0.0, n_estimators=10, n_jobs=1,\n",
       "           oob_score=False, random_state=0, verbose=0, warm_start=False)"
      ]
     },
     "execution_count": 30,
     "metadata": {},
     "output_type": "execute_result"
    }
   ],
   "source": [
    "from sklearn.ensemble import RandomForestRegressor\n",
    "import numpy as np\n",
    "rf = RandomForestRegressor(max_depth=2,random_state=0)\n",
    "y_train_ravel = np.ravel(y_train_scaled)\n",
    "rf.fit(X_train_scaled, y_train_ravel)\n"
   ]
  },
  {
   "cell_type": "code",
   "execution_count": 31,
   "metadata": {},
   "outputs": [],
   "source": [
    "# plt.scatter(rf.predict(X_train_scaled), rf.predict(X_train_scaled) - y_train_scaled, c=\"blue\", label=\"Training Data\")\n",
    "# plt.scatter(rf.predict(X_test_scaled), rf.predict(X_test_scaled) - y_test_scaled, c=\"orange\", label=\"Testing Data\")\n",
    "# plt.legend()\n",
    "# plt.hlines(y=0, xmin=y_test_scaled.min(), xmax=y_test_scaled.max())\n",
    "# plt.title(\"Residual Plot\")\n",
    "# plt.tight_layout()\n",
    "# plt.savefig(\"../../images/RF_residual.png\")\n",
    "# plt.show()"
   ]
  },
  {
   "cell_type": "markdown",
   "metadata": {},
   "source": [
    "## Evaluate the model"
   ]
  },
  {
   "cell_type": "code",
   "execution_count": 32,
   "metadata": {},
   "outputs": [
    {
     "data": {
      "text/plain": [
       "-0.4612961350518487"
      ]
     },
     "execution_count": 32,
     "metadata": {},
     "output_type": "execute_result"
    }
   ],
   "source": [
    "rf.score(X_test_scaled, y_test_scaled)\n"
   ]
  },
  {
   "cell_type": "code",
   "execution_count": 33,
   "metadata": {},
   "outputs": [
    {
     "name": "stdout",
     "output_type": "stream",
     "text": [
      "MSE: 2.8428645011284956, R2: -0.4612961350518487\n"
     ]
    }
   ],
   "source": [
    "from sklearn.metrics import mean_squared_error\n",
    "\n",
    "predictions = rf.predict(X_test_scaled)\n",
    "MSE = mean_squared_error(y_test_scaled, predictions)\n",
    "r2 = rf.score(X_test_scaled, y_test_scaled)\n",
    "\n",
    "print(f\"MSE: {MSE}, R2: {r2}\")"
   ]
  },
  {
   "cell_type": "code",
   "execution_count": null,
   "metadata": {
    "collapsed": true
   },
   "outputs": [],
   "source": []
  },
  {
   "cell_type": "code",
   "execution_count": null,
   "metadata": {
    "collapsed": true
   },
   "outputs": [],
   "source": []
  }
 ],
 "metadata": {
  "kernelspec": {
   "display_name": "Python 3",
   "language": "python",
   "name": "python3"
  },
  "language_info": {
   "codemirror_mode": {
    "name": "ipython",
    "version": 3
   },
   "file_extension": ".py",
   "mimetype": "text/x-python",
   "name": "python",
   "nbconvert_exporter": "python",
   "pygments_lexer": "ipython3",
   "version": "3.6.3"
  }
 },
 "nbformat": 4,
 "nbformat_minor": 2
}
