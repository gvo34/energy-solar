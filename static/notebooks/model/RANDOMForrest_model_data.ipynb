{
 "cells": [
  {
   "cell_type": "markdown",
   "metadata": {},
   "source": [
    "# Random Forrest"
   ]
  },
  {
   "cell_type": "code",
   "execution_count": 137,
   "metadata": {
    "collapsed": true
   },
   "outputs": [],
   "source": [
    "## Dependencies\n",
    "import pandas as pd\n",
    "import matplotlib.pyplot as plt\n",
    "import os"
   ]
  },
  {
   "cell_type": "code",
   "execution_count": 138,
   "metadata": {
    "collapsed": true
   },
   "outputs": [],
   "source": [
    "# filename = \"X.csv\"\n",
    "# output_data = \"../../data/output\" \n",
    "# filepath = os.path.join(output_data,filename)\n",
    "# X = pd.read_csv(filepath,index_col=False, header=0)"
   ]
  },
  {
   "cell_type": "code",
   "execution_count": 139,
   "metadata": {
    "collapsed": true
   },
   "outputs": [],
   "source": [
    "# filename = \"y.csv\"\n",
    "# output_data = \"../../data/output\" \n",
    "# filepath = os.path.join(output_data,filename)\n",
    "# y = pd.read_csv(filepath,index_col=False, names=[\"Value\"])\n"
   ]
  },
  {
   "cell_type": "code",
   "execution_count": 140,
   "metadata": {},
   "outputs": [
    {
     "name": "stdout",
     "output_type": "stream",
     "text": [
      "339\n"
     ]
    },
    {
     "data": {
      "text/html": [
       "<div>\n",
       "<style scoped>\n",
       "    .dataframe tbody tr th:only-of-type {\n",
       "        vertical-align: middle;\n",
       "    }\n",
       "\n",
       "    .dataframe tbody tr th {\n",
       "        vertical-align: top;\n",
       "    }\n",
       "\n",
       "    .dataframe thead th {\n",
       "        text-align: right;\n",
       "    }\n",
       "</style>\n",
       "<table border=\"1\" class=\"dataframe\">\n",
       "  <thead>\n",
       "    <tr style=\"text-align: right;\">\n",
       "      <th></th>\n",
       "      <th>Solar</th>\n",
       "      <th>Energy</th>\n",
       "      <th>year</th>\n",
       "      <th>Price</th>\n",
       "      <th>REDTI</th>\n",
       "      <th>month_1</th>\n",
       "      <th>month_2</th>\n",
       "      <th>month_3</th>\n",
       "      <th>month_4</th>\n",
       "      <th>month_5</th>\n",
       "      <th>month_6</th>\n",
       "      <th>month_7</th>\n",
       "      <th>month_8</th>\n",
       "      <th>month_9</th>\n",
       "      <th>month_10</th>\n",
       "      <th>month_11</th>\n",
       "      <th>month_12</th>\n",
       "    </tr>\n",
       "  </thead>\n",
       "  <tbody>\n",
       "    <tr>\n",
       "      <th>0</th>\n",
       "      <td>2.965</td>\n",
       "      <td>2018.869</td>\n",
       "      <td>1990</td>\n",
       "      <td>7.17</td>\n",
       "      <td>8.8</td>\n",
       "      <td>1</td>\n",
       "      <td>0</td>\n",
       "      <td>0</td>\n",
       "      <td>0</td>\n",
       "      <td>0</td>\n",
       "      <td>0</td>\n",
       "      <td>0</td>\n",
       "      <td>0</td>\n",
       "      <td>0</td>\n",
       "      <td>0</td>\n",
       "      <td>0</td>\n",
       "      <td>0</td>\n",
       "    </tr>\n",
       "    <tr>\n",
       "      <th>1</th>\n",
       "      <td>3.196</td>\n",
       "      <td>1640.310</td>\n",
       "      <td>1990</td>\n",
       "      <td>7.48</td>\n",
       "      <td>22.7</td>\n",
       "      <td>0</td>\n",
       "      <td>1</td>\n",
       "      <td>0</td>\n",
       "      <td>0</td>\n",
       "      <td>0</td>\n",
       "      <td>0</td>\n",
       "      <td>0</td>\n",
       "      <td>0</td>\n",
       "      <td>0</td>\n",
       "      <td>0</td>\n",
       "      <td>0</td>\n",
       "      <td>0</td>\n",
       "    </tr>\n",
       "    <tr>\n",
       "      <th>2</th>\n",
       "      <td>4.403</td>\n",
       "      <td>1559.289</td>\n",
       "      <td>1990</td>\n",
       "      <td>7.57</td>\n",
       "      <td>29.8</td>\n",
       "      <td>0</td>\n",
       "      <td>0</td>\n",
       "      <td>1</td>\n",
       "      <td>0</td>\n",
       "      <td>0</td>\n",
       "      <td>0</td>\n",
       "      <td>0</td>\n",
       "      <td>0</td>\n",
       "      <td>0</td>\n",
       "      <td>0</td>\n",
       "      <td>0</td>\n",
       "      <td>0</td>\n",
       "    </tr>\n",
       "    <tr>\n",
       "      <th>3</th>\n",
       "      <td>4.853</td>\n",
       "      <td>1299.971</td>\n",
       "      <td>1990</td>\n",
       "      <td>7.69</td>\n",
       "      <td>26.8</td>\n",
       "      <td>0</td>\n",
       "      <td>0</td>\n",
       "      <td>0</td>\n",
       "      <td>1</td>\n",
       "      <td>0</td>\n",
       "      <td>0</td>\n",
       "      <td>0</td>\n",
       "      <td>0</td>\n",
       "      <td>0</td>\n",
       "      <td>0</td>\n",
       "      <td>0</td>\n",
       "      <td>0</td>\n",
       "    </tr>\n",
       "    <tr>\n",
       "      <th>4</th>\n",
       "      <td>5.357</td>\n",
       "      <td>1143.417</td>\n",
       "      <td>1990</td>\n",
       "      <td>7.96</td>\n",
       "      <td>53.9</td>\n",
       "      <td>0</td>\n",
       "      <td>0</td>\n",
       "      <td>0</td>\n",
       "      <td>0</td>\n",
       "      <td>1</td>\n",
       "      <td>0</td>\n",
       "      <td>0</td>\n",
       "      <td>0</td>\n",
       "      <td>0</td>\n",
       "      <td>0</td>\n",
       "      <td>0</td>\n",
       "      <td>0</td>\n",
       "    </tr>\n",
       "  </tbody>\n",
       "</table>\n",
       "</div>"
      ],
      "text/plain": [
       "   Solar    Energy  year  Price  REDTI  month_1  month_2  month_3  month_4  \\\n",
       "0  2.965  2018.869  1990   7.17    8.8        1        0        0        0   \n",
       "1  3.196  1640.310  1990   7.48   22.7        0        1        0        0   \n",
       "2  4.403  1559.289  1990   7.57   29.8        0        0        1        0   \n",
       "3  4.853  1299.971  1990   7.69   26.8        0        0        0        1   \n",
       "4  5.357  1143.417  1990   7.96   53.9        0        0        0        0   \n",
       "\n",
       "   month_5  month_6  month_7  month_8  month_9  month_10  month_11  month_12  \n",
       "0        0        0        0        0        0         0         0         0  \n",
       "1        0        0        0        0        0         0         0         0  \n",
       "2        0        0        0        0        0         0         0         0  \n",
       "3        0        0        0        0        0         0         0         0  \n",
       "4        1        0        0        0        0         0         0         0  "
      ]
     },
     "execution_count": 140,
     "metadata": {},
     "output_type": "execute_result"
    }
   ],
   "source": [
    "\n",
    "## Dependencies\n",
    "import pandas as pd\n",
    "import numpy as np\n",
    "import matplotlib.pyplot as plt\n",
    "import os\n",
    "\n",
    "# Feature Data\n",
    "filename = \"features.csv\"\n",
    "output_data = \"../../data/output\" \n",
    "filepath = os.path.join(output_data,filename)\n",
    "\n",
    "data = pd.read_csv(filepath,index_col=False, header=0)\n",
    "print(len(data))\n",
    "data.head()"
   ]
  },
  {
   "cell_type": "code",
   "execution_count": 141,
   "metadata": {},
   "outputs": [
    {
     "name": "stdout",
     "output_type": "stream",
     "text": [
      "315\n"
     ]
    }
   ],
   "source": [
    "def lag_data(lag_count, df):\n",
    "    features = []\n",
    "    targets = []\n",
    "    for i in range(1, lag_count+1):\n",
    "        df['lag%s' % i] = df.Solar.shift(i)\n",
    "        df['peek%s' % i] = df.Solar.shift(-1*i)\n",
    "        features.append('lag%s' % i)\n",
    "        targets.append('peek%s' % i)\n",
    "        \n",
    "    #differencing\n",
    "    df['diff1'] = df.Solar.diff(1)\n",
    "    return features, targets, df.iloc[lag_count:-1*lag_count] #dropped rows with nan\n",
    "    \n",
    "lag_count = 12\n",
    "features, targets, data = lag_data(lag_count, data)\n",
    "\n",
    "print(len(data))"
   ]
  },
  {
   "cell_type": "code",
   "execution_count": 142,
   "metadata": {},
   "outputs": [
    {
     "name": "stdout",
     "output_type": "stream",
     "text": [
      "['lag1', 'lag2', 'lag3', 'lag4', 'lag5', 'lag6', 'lag7', 'lag8', 'lag9', 'lag10', 'lag11', 'lag12'] ['peek1', 'peek2', 'peek3', 'peek4', 'peek5', 'peek6', 'peek7', 'peek8', 'peek9', 'peek10', 'peek11', 'peek12']\n"
     ]
    }
   ],
   "source": [
    "print(features, targets)"
   ]
  },
  {
   "cell_type": "code",
   "execution_count": 143,
   "metadata": {
    "collapsed": true
   },
   "outputs": [],
   "source": [
    "features.append(\"Price\")\n",
    "features.append(\"Solar\")\n"
   ]
  },
  {
   "cell_type": "code",
   "execution_count": 144,
   "metadata": {},
   "outputs": [],
   "source": [
    "#targets.append(\"Solar\")\n",
    "#print(features, targets)"
   ]
  },
  {
   "cell_type": "code",
   "execution_count": 145,
   "metadata": {},
   "outputs": [
    {
     "name": "stdout",
     "output_type": "stream",
     "text": [
      "(315, 14)\n"
     ]
    },
    {
     "data": {
      "text/html": [
       "<div>\n",
       "<style scoped>\n",
       "    .dataframe tbody tr th:only-of-type {\n",
       "        vertical-align: middle;\n",
       "    }\n",
       "\n",
       "    .dataframe tbody tr th {\n",
       "        vertical-align: top;\n",
       "    }\n",
       "\n",
       "    .dataframe thead th {\n",
       "        text-align: right;\n",
       "    }\n",
       "</style>\n",
       "<table border=\"1\" class=\"dataframe\">\n",
       "  <thead>\n",
       "    <tr style=\"text-align: right;\">\n",
       "      <th></th>\n",
       "      <th>lag1</th>\n",
       "      <th>lag2</th>\n",
       "      <th>lag3</th>\n",
       "      <th>lag4</th>\n",
       "      <th>lag5</th>\n",
       "      <th>lag6</th>\n",
       "      <th>lag7</th>\n",
       "      <th>lag8</th>\n",
       "      <th>lag9</th>\n",
       "      <th>lag10</th>\n",
       "      <th>lag11</th>\n",
       "      <th>lag12</th>\n",
       "      <th>Price</th>\n",
       "      <th>Solar</th>\n",
       "    </tr>\n",
       "  </thead>\n",
       "  <tbody>\n",
       "    <tr>\n",
       "      <th>12</th>\n",
       "      <td>3.635</td>\n",
       "      <td>3.829</td>\n",
       "      <td>4.668</td>\n",
       "      <td>5.122</td>\n",
       "      <td>5.616</td>\n",
       "      <td>5.675</td>\n",
       "      <td>5.406</td>\n",
       "      <td>5.357</td>\n",
       "      <td>4.853</td>\n",
       "      <td>4.403</td>\n",
       "      <td>3.196</td>\n",
       "      <td>2.965</td>\n",
       "      <td>7.41</td>\n",
       "      <td>3.058</td>\n",
       "    </tr>\n",
       "    <tr>\n",
       "      <th>13</th>\n",
       "      <td>3.058</td>\n",
       "      <td>3.635</td>\n",
       "      <td>3.829</td>\n",
       "      <td>4.668</td>\n",
       "      <td>5.122</td>\n",
       "      <td>5.616</td>\n",
       "      <td>5.675</td>\n",
       "      <td>5.406</td>\n",
       "      <td>5.357</td>\n",
       "      <td>4.853</td>\n",
       "      <td>4.403</td>\n",
       "      <td>3.196</td>\n",
       "      <td>7.61</td>\n",
       "      <td>3.296</td>\n",
       "    </tr>\n",
       "    <tr>\n",
       "      <th>14</th>\n",
       "      <td>3.296</td>\n",
       "      <td>3.058</td>\n",
       "      <td>3.635</td>\n",
       "      <td>3.829</td>\n",
       "      <td>4.668</td>\n",
       "      <td>5.122</td>\n",
       "      <td>5.616</td>\n",
       "      <td>5.675</td>\n",
       "      <td>5.406</td>\n",
       "      <td>5.357</td>\n",
       "      <td>4.853</td>\n",
       "      <td>4.403</td>\n",
       "      <td>7.79</td>\n",
       "      <td>4.542</td>\n",
       "    </tr>\n",
       "    <tr>\n",
       "      <th>15</th>\n",
       "      <td>4.542</td>\n",
       "      <td>3.296</td>\n",
       "      <td>3.058</td>\n",
       "      <td>3.635</td>\n",
       "      <td>3.829</td>\n",
       "      <td>4.668</td>\n",
       "      <td>5.122</td>\n",
       "      <td>5.616</td>\n",
       "      <td>5.675</td>\n",
       "      <td>5.406</td>\n",
       "      <td>5.357</td>\n",
       "      <td>4.853</td>\n",
       "      <td>7.98</td>\n",
       "      <td>5.006</td>\n",
       "    </tr>\n",
       "    <tr>\n",
       "      <th>16</th>\n",
       "      <td>5.006</td>\n",
       "      <td>4.542</td>\n",
       "      <td>3.296</td>\n",
       "      <td>3.058</td>\n",
       "      <td>3.635</td>\n",
       "      <td>3.829</td>\n",
       "      <td>4.668</td>\n",
       "      <td>5.122</td>\n",
       "      <td>5.616</td>\n",
       "      <td>5.675</td>\n",
       "      <td>5.406</td>\n",
       "      <td>5.357</td>\n",
       "      <td>8.14</td>\n",
       "      <td>5.526</td>\n",
       "    </tr>\n",
       "  </tbody>\n",
       "</table>\n",
       "</div>"
      ],
      "text/plain": [
       "     lag1   lag2   lag3   lag4   lag5   lag6   lag7   lag8   lag9  lag10  \\\n",
       "12  3.635  3.829  4.668  5.122  5.616  5.675  5.406  5.357  4.853  4.403   \n",
       "13  3.058  3.635  3.829  4.668  5.122  5.616  5.675  5.406  5.357  4.853   \n",
       "14  3.296  3.058  3.635  3.829  4.668  5.122  5.616  5.675  5.406  5.357   \n",
       "15  4.542  3.296  3.058  3.635  3.829  4.668  5.122  5.616  5.675  5.406   \n",
       "16  5.006  4.542  3.296  3.058  3.635  3.829  4.668  5.122  5.616  5.675   \n",
       "\n",
       "    lag11  lag12  Price  Solar  \n",
       "12  3.196  2.965   7.41  3.058  \n",
       "13  4.403  3.196   7.61  3.296  \n",
       "14  4.853  4.403   7.79  4.542  \n",
       "15  5.357  4.853   7.98  5.006  \n",
       "16  5.406  5.357   8.14  5.526  "
      ]
     },
     "execution_count": 145,
     "metadata": {},
     "output_type": "execute_result"
    }
   ],
   "source": [
    "X = data[features]\n",
    "print(X.shape)\n",
    "X.head()"
   ]
  },
  {
   "cell_type": "code",
   "execution_count": 146,
   "metadata": {},
   "outputs": [
    {
     "name": "stdout",
     "output_type": "stream",
     "text": [
      "    peek1  peek2  peek3  peek4  peek5  peek6  peek7  peek8  peek9  peek10  \\\n",
      "12  3.296  4.542  5.006  5.526  5.576  5.853  5.793  5.283  4.815   3.950   \n",
      "13  4.542  5.006  5.526  5.576  5.853  5.793  5.283  4.815  3.950   3.749   \n",
      "14  5.006  5.526  5.576  5.853  5.793  5.283  4.815  3.950  3.749   3.168   \n",
      "15  5.526  5.576  5.853  5.793  5.283  4.815  3.950  3.749  3.168   3.415   \n",
      "16  5.576  5.853  5.793  5.283  4.815  3.950  3.749  3.168  3.415   4.705   \n",
      "\n",
      "    peek11  peek12  \n",
      "12   3.749   3.168  \n",
      "13   3.168   3.415  \n",
      "14   3.415   4.705  \n",
      "15   4.705   5.185  \n",
      "16   5.185   5.724  \n",
      "(315, 12)\n"
     ]
    },
    {
     "data": {
      "text/plain": [
       "[15.97]"
      ]
     },
     "execution_count": 146,
     "metadata": {},
     "output_type": "execute_result"
    }
   ],
   "source": [
    "y = data[targets]\n",
    "print(y.head())\n",
    "row = [(y.iloc[303])[0]]\n",
    "print(y.shape)\n",
    "row\n"
   ]
  },
  {
   "cell_type": "code",
   "execution_count": 147,
   "metadata": {},
   "outputs": [
    {
     "data": {
      "text/plain": [
       "(315, 14)"
      ]
     },
     "execution_count": 147,
     "metadata": {},
     "output_type": "execute_result"
    }
   ],
   "source": [
    "data[features].shape"
   ]
  },
  {
   "cell_type": "code",
   "execution_count": 148,
   "metadata": {},
   "outputs": [
    {
     "data": {
      "text/plain": [
       "(315, 12)"
      ]
     },
     "execution_count": 148,
     "metadata": {},
     "output_type": "execute_result"
    }
   ],
   "source": [
    "data[targets].shape"
   ]
  },
  {
   "cell_type": "code",
   "execution_count": 149,
   "metadata": {},
   "outputs": [
    {
     "data": {
      "image/png": "[encoded data removed]",
      "text/plain": [
       "<matplotlib.figure.Figure at 0x1a18c75358>"
      ]
     },
     "metadata": {},
     "output_type": "display_data"
    }
   ],
   "source": [
    "%matplotlib inline\n",
    "\n",
    "from sklearn.ensemble import RandomForestRegressor\n",
    "\n",
    "rf = RandomForestRegressor()\n",
    "window = len(data) -  lag_count\n",
    "rf.fit(data[features].values[:window], data[targets].values[:window])\n",
    "\n",
    "plt.plot(\n",
    "    range(window+lag_count,window+2*lag_count), \n",
    "    rf.predict([data[features].iloc[window]])[0]\n",
    ")\n",
    "plt.xlim(window-150,window+lag_count+150) #zoomed in so you can see prediction. comment-out this line if you want.\n",
    "plt.plot(data.Solar.values,alpha=.1)\n",
    "plt.show()\n"
   ]
  },
  {
   "cell_type": "code",
   "execution_count": 152,
   "metadata": {},
   "outputs": [
    {
     "data": {
      "text/plain": [
       "0.07759444926675482"
      ]
     },
     "execution_count": 152,
     "metadata": {},
     "output_type": "execute_result"
    }
   ],
   "source": [
    "\n",
    "rf.score(data[features].values[window:], data[targets].values[window:])"
   ]
  },
  {
   "cell_type": "markdown",
   "metadata": {},
   "source": [
    "## Dataset \n",
    "\n",
    "* X\n",
    "\n",
    "* y"
   ]
  },
  {
   "cell_type": "code",
   "execution_count": 44,
   "metadata": {},
   "outputs": [
    {
     "data": {
      "text/html": [
       "<div>\n",
       "<style scoped>\n",
       "    .dataframe tbody tr th:only-of-type {\n",
       "        vertical-align: middle;\n",
       "    }\n",
       "\n",
       "    .dataframe tbody tr th {\n",
       "        vertical-align: top;\n",
       "    }\n",
       "\n",
       "    .dataframe thead th {\n",
       "        text-align: right;\n",
       "    }\n",
       "</style>\n",
       "<table border=\"1\" class=\"dataframe\">\n",
       "  <thead>\n",
       "    <tr style=\"text-align: right;\">\n",
       "      <th></th>\n",
       "      <th>year</th>\n",
       "      <th>Price</th>\n",
       "      <th>lag1</th>\n",
       "      <th>peek1</th>\n",
       "      <th>lag2</th>\n",
       "      <th>peek2</th>\n",
       "      <th>lag3</th>\n",
       "      <th>peek3</th>\n",
       "      <th>lag4</th>\n",
       "      <th>peek4</th>\n",
       "      <th>...</th>\n",
       "      <th>lag8</th>\n",
       "      <th>peek8</th>\n",
       "      <th>lag9</th>\n",
       "      <th>peek9</th>\n",
       "      <th>lag10</th>\n",
       "      <th>peek10</th>\n",
       "      <th>lag11</th>\n",
       "      <th>peek11</th>\n",
       "      <th>lag12</th>\n",
       "      <th>peek12</th>\n",
       "    </tr>\n",
       "  </thead>\n",
       "  <tbody>\n",
       "    <tr>\n",
       "      <th>0</th>\n",
       "      <td>1991</td>\n",
       "      <td>7.41</td>\n",
       "      <td>3.635</td>\n",
       "      <td>3.296</td>\n",
       "      <td>3.829</td>\n",
       "      <td>4.542</td>\n",
       "      <td>4.668</td>\n",
       "      <td>5.006</td>\n",
       "      <td>5.122</td>\n",
       "      <td>5.526</td>\n",
       "      <td>...</td>\n",
       "      <td>5.357</td>\n",
       "      <td>5.283</td>\n",
       "      <td>4.853</td>\n",
       "      <td>4.815</td>\n",
       "      <td>4.403</td>\n",
       "      <td>3.950</td>\n",
       "      <td>3.196</td>\n",
       "      <td>3.749</td>\n",
       "      <td>2.965</td>\n",
       "      <td>3.168</td>\n",
       "    </tr>\n",
       "    <tr>\n",
       "      <th>1</th>\n",
       "      <td>1991</td>\n",
       "      <td>7.61</td>\n",
       "      <td>3.058</td>\n",
       "      <td>4.542</td>\n",
       "      <td>3.635</td>\n",
       "      <td>5.006</td>\n",
       "      <td>3.829</td>\n",
       "      <td>5.526</td>\n",
       "      <td>4.668</td>\n",
       "      <td>5.576</td>\n",
       "      <td>...</td>\n",
       "      <td>5.406</td>\n",
       "      <td>4.815</td>\n",
       "      <td>5.357</td>\n",
       "      <td>3.950</td>\n",
       "      <td>4.853</td>\n",
       "      <td>3.749</td>\n",
       "      <td>4.403</td>\n",
       "      <td>3.168</td>\n",
       "      <td>3.196</td>\n",
       "      <td>3.415</td>\n",
       "    </tr>\n",
       "    <tr>\n",
       "      <th>2</th>\n",
       "      <td>1991</td>\n",
       "      <td>7.79</td>\n",
       "      <td>3.296</td>\n",
       "      <td>5.006</td>\n",
       "      <td>3.058</td>\n",
       "      <td>5.526</td>\n",
       "      <td>3.635</td>\n",
       "      <td>5.576</td>\n",
       "      <td>3.829</td>\n",
       "      <td>5.853</td>\n",
       "      <td>...</td>\n",
       "      <td>5.675</td>\n",
       "      <td>3.950</td>\n",
       "      <td>5.406</td>\n",
       "      <td>3.749</td>\n",
       "      <td>5.357</td>\n",
       "      <td>3.168</td>\n",
       "      <td>4.853</td>\n",
       "      <td>3.415</td>\n",
       "      <td>4.403</td>\n",
       "      <td>4.705</td>\n",
       "    </tr>\n",
       "    <tr>\n",
       "      <th>3</th>\n",
       "      <td>1991</td>\n",
       "      <td>7.98</td>\n",
       "      <td>4.542</td>\n",
       "      <td>5.526</td>\n",
       "      <td>3.296</td>\n",
       "      <td>5.576</td>\n",
       "      <td>3.058</td>\n",
       "      <td>5.853</td>\n",
       "      <td>3.635</td>\n",
       "      <td>5.793</td>\n",
       "      <td>...</td>\n",
       "      <td>5.616</td>\n",
       "      <td>3.749</td>\n",
       "      <td>5.675</td>\n",
       "      <td>3.168</td>\n",
       "      <td>5.406</td>\n",
       "      <td>3.415</td>\n",
       "      <td>5.357</td>\n",
       "      <td>4.705</td>\n",
       "      <td>4.853</td>\n",
       "      <td>5.185</td>\n",
       "    </tr>\n",
       "    <tr>\n",
       "      <th>4</th>\n",
       "      <td>1991</td>\n",
       "      <td>8.14</td>\n",
       "      <td>5.006</td>\n",
       "      <td>5.576</td>\n",
       "      <td>4.542</td>\n",
       "      <td>5.853</td>\n",
       "      <td>3.296</td>\n",
       "      <td>5.793</td>\n",
       "      <td>3.058</td>\n",
       "      <td>5.283</td>\n",
       "      <td>...</td>\n",
       "      <td>5.122</td>\n",
       "      <td>3.168</td>\n",
       "      <td>5.616</td>\n",
       "      <td>3.415</td>\n",
       "      <td>5.675</td>\n",
       "      <td>4.705</td>\n",
       "      <td>5.406</td>\n",
       "      <td>5.185</td>\n",
       "      <td>5.357</td>\n",
       "      <td>5.724</td>\n",
       "    </tr>\n",
       "  </tbody>\n",
       "</table>\n",
       "<p>5 rows × 26 columns</p>\n",
       "</div>"
      ],
      "text/plain": [
       "   year  Price   lag1  peek1   lag2  peek2   lag3  peek3   lag4  peek4  \\\n",
       "0  1991   7.41  3.635  3.296  3.829  4.542  4.668  5.006  5.122  5.526   \n",
       "1  1991   7.61  3.058  4.542  3.635  5.006  3.829  5.526  4.668  5.576   \n",
       "2  1991   7.79  3.296  5.006  3.058  5.526  3.635  5.576  3.829  5.853   \n",
       "3  1991   7.98  4.542  5.526  3.296  5.576  3.058  5.853  3.635  5.793   \n",
       "4  1991   8.14  5.006  5.576  4.542  5.853  3.296  5.793  3.058  5.283   \n",
       "\n",
       "    ...     lag8  peek8   lag9  peek9  lag10  peek10  lag11  peek11  lag12  \\\n",
       "0   ...    5.357  5.283  4.853  4.815  4.403   3.950  3.196   3.749  2.965   \n",
       "1   ...    5.406  4.815  5.357  3.950  4.853   3.749  4.403   3.168  3.196   \n",
       "2   ...    5.675  3.950  5.406  3.749  5.357   3.168  4.853   3.415  4.403   \n",
       "3   ...    5.616  3.749  5.675  3.168  5.406   3.415  5.357   4.705  4.853   \n",
       "4   ...    5.122  3.168  5.616  3.415  5.675   4.705  5.406   5.185  5.357   \n",
       "\n",
       "   peek12  \n",
       "0   3.168  \n",
       "1   3.415  \n",
       "2   4.705  \n",
       "3   5.185  \n",
       "4   5.724  \n",
       "\n",
       "[5 rows x 26 columns]"
      ]
     },
     "execution_count": 44,
     "metadata": {},
     "output_type": "execute_result"
    }
   ],
   "source": [
    "X.head()"
   ]
  },
  {
   "cell_type": "code",
   "execution_count": 45,
   "metadata": {},
   "outputs": [
    {
     "data": {
      "text/html": [
       "<div>\n",
       "<style scoped>\n",
       "    .dataframe tbody tr th:only-of-type {\n",
       "        vertical-align: middle;\n",
       "    }\n",
       "\n",
       "    .dataframe tbody tr th {\n",
       "        vertical-align: top;\n",
       "    }\n",
       "\n",
       "    .dataframe thead th {\n",
       "        text-align: right;\n",
       "    }\n",
       "</style>\n",
       "<table border=\"1\" class=\"dataframe\">\n",
       "  <thead>\n",
       "    <tr style=\"text-align: right;\">\n",
       "      <th></th>\n",
       "      <th>0</th>\n",
       "      <th>1</th>\n",
       "      <th>2</th>\n",
       "      <th>3</th>\n",
       "      <th>4</th>\n",
       "      <th>5</th>\n",
       "      <th>6</th>\n",
       "      <th>7</th>\n",
       "      <th>8</th>\n",
       "      <th>9</th>\n",
       "      <th>...</th>\n",
       "      <th>305</th>\n",
       "      <th>306</th>\n",
       "      <th>307</th>\n",
       "      <th>308</th>\n",
       "      <th>309</th>\n",
       "      <th>310</th>\n",
       "      <th>311</th>\n",
       "      <th>312</th>\n",
       "      <th>313</th>\n",
       "      <th>314</th>\n",
       "    </tr>\n",
       "  </thead>\n",
       "  <tbody>\n",
       "    <tr>\n",
       "      <th>year</th>\n",
       "      <td>1991.000</td>\n",
       "      <td>1991.000</td>\n",
       "      <td>1991.000</td>\n",
       "      <td>1991.000</td>\n",
       "      <td>1991.000</td>\n",
       "      <td>1991.000</td>\n",
       "      <td>1991.000</td>\n",
       "      <td>1991.000</td>\n",
       "      <td>1991.000</td>\n",
       "      <td>1991.000</td>\n",
       "      <td>...</td>\n",
       "      <td>2016.000</td>\n",
       "      <td>2016.000</td>\n",
       "      <td>2016.000</td>\n",
       "      <td>2016.000</td>\n",
       "      <td>2016.000</td>\n",
       "      <td>2016.000</td>\n",
       "      <td>2016.000</td>\n",
       "      <td>2017.000</td>\n",
       "      <td>2017.000</td>\n",
       "      <td>2017.000</td>\n",
       "    </tr>\n",
       "    <tr>\n",
       "      <th>Price</th>\n",
       "      <td>7.410</td>\n",
       "      <td>7.610</td>\n",
       "      <td>7.790</td>\n",
       "      <td>7.980</td>\n",
       "      <td>8.140</td>\n",
       "      <td>8.320</td>\n",
       "      <td>8.380</td>\n",
       "      <td>8.410</td>\n",
       "      <td>8.370</td>\n",
       "      <td>8.320</td>\n",
       "      <td>...</td>\n",
       "      <td>12.730</td>\n",
       "      <td>12.680</td>\n",
       "      <td>12.880</td>\n",
       "      <td>12.870</td>\n",
       "      <td>12.460</td>\n",
       "      <td>12.750</td>\n",
       "      <td>12.230</td>\n",
       "      <td>12.210</td>\n",
       "      <td>12.780</td>\n",
       "      <td>12.890</td>\n",
       "    </tr>\n",
       "    <tr>\n",
       "      <th>lag1</th>\n",
       "      <td>3.635</td>\n",
       "      <td>3.058</td>\n",
       "      <td>3.296</td>\n",
       "      <td>4.542</td>\n",
       "      <td>5.006</td>\n",
       "      <td>5.526</td>\n",
       "      <td>5.576</td>\n",
       "      <td>5.853</td>\n",
       "      <td>5.793</td>\n",
       "      <td>5.283</td>\n",
       "      <td>...</td>\n",
       "      <td>15.970</td>\n",
       "      <td>16.513</td>\n",
       "      <td>17.191</td>\n",
       "      <td>16.687</td>\n",
       "      <td>14.864</td>\n",
       "      <td>13.291</td>\n",
       "      <td>10.851</td>\n",
       "      <td>9.879</td>\n",
       "      <td>9.655</td>\n",
       "      <td>10.808</td>\n",
       "    </tr>\n",
       "    <tr>\n",
       "      <th>peek1</th>\n",
       "      <td>3.296</td>\n",
       "      <td>4.542</td>\n",
       "      <td>5.006</td>\n",
       "      <td>5.526</td>\n",
       "      <td>5.576</td>\n",
       "      <td>5.853</td>\n",
       "      <td>5.793</td>\n",
       "      <td>5.283</td>\n",
       "      <td>4.815</td>\n",
       "      <td>3.950</td>\n",
       "      <td>...</td>\n",
       "      <td>17.191</td>\n",
       "      <td>16.687</td>\n",
       "      <td>14.864</td>\n",
       "      <td>13.291</td>\n",
       "      <td>10.851</td>\n",
       "      <td>9.879</td>\n",
       "      <td>9.655</td>\n",
       "      <td>10.808</td>\n",
       "      <td>15.735</td>\n",
       "      <td>17.576</td>\n",
       "    </tr>\n",
       "    <tr>\n",
       "      <th>lag2</th>\n",
       "      <td>3.829</td>\n",
       "      <td>3.635</td>\n",
       "      <td>3.058</td>\n",
       "      <td>3.296</td>\n",
       "      <td>4.542</td>\n",
       "      <td>5.006</td>\n",
       "      <td>5.526</td>\n",
       "      <td>5.576</td>\n",
       "      <td>5.853</td>\n",
       "      <td>5.793</td>\n",
       "      <td>...</td>\n",
       "      <td>14.404</td>\n",
       "      <td>15.970</td>\n",
       "      <td>16.513</td>\n",
       "      <td>17.191</td>\n",
       "      <td>16.687</td>\n",
       "      <td>14.864</td>\n",
       "      <td>13.291</td>\n",
       "      <td>10.851</td>\n",
       "      <td>9.879</td>\n",
       "      <td>9.655</td>\n",
       "    </tr>\n",
       "  </tbody>\n",
       "</table>\n",
       "<p>5 rows × 315 columns</p>\n",
       "</div>"
      ],
      "text/plain": [
       "            0         1         2         3         4         5         6    \\\n",
       "year   1991.000  1991.000  1991.000  1991.000  1991.000  1991.000  1991.000   \n",
       "Price     7.410     7.610     7.790     7.980     8.140     8.320     8.380   \n",
       "lag1      3.635     3.058     3.296     4.542     5.006     5.526     5.576   \n",
       "peek1     3.296     4.542     5.006     5.526     5.576     5.853     5.793   \n",
       "lag2      3.829     3.635     3.058     3.296     4.542     5.006     5.526   \n",
       "\n",
       "            7         8         9      ...          305       306       307  \\\n",
       "year   1991.000  1991.000  1991.000    ...     2016.000  2016.000  2016.000   \n",
       "Price     8.410     8.370     8.320    ...       12.730    12.680    12.880   \n",
       "lag1      5.853     5.793     5.283    ...       15.970    16.513    17.191   \n",
       "peek1     5.283     4.815     3.950    ...       17.191    16.687    14.864   \n",
       "lag2      5.576     5.853     5.793    ...       14.404    15.970    16.513   \n",
       "\n",
       "            308       309       310       311       312       313       314  \n",
       "year   2016.000  2016.000  2016.000  2016.000  2017.000  2017.000  2017.000  \n",
       "Price    12.870    12.460    12.750    12.230    12.210    12.780    12.890  \n",
       "lag1     16.687    14.864    13.291    10.851     9.879     9.655    10.808  \n",
       "peek1    13.291    10.851     9.879     9.655    10.808    15.735    17.576  \n",
       "lag2     17.191    16.687    14.864    13.291    10.851     9.879     9.655  \n",
       "\n",
       "[5 rows x 315 columns]"
      ]
     },
     "execution_count": 45,
     "metadata": {},
     "output_type": "execute_result"
    }
   ],
   "source": [
    "Xt = X.T\n",
    "Xt.head()"
   ]
  },
  {
   "cell_type": "code",
   "execution_count": 46,
   "metadata": {},
   "outputs": [
    {
     "data": {
      "text/html": [
       "<div>\n",
       "<style scoped>\n",
       "    .dataframe tbody tr th:only-of-type {\n",
       "        vertical-align: middle;\n",
       "    }\n",
       "\n",
       "    .dataframe tbody tr th {\n",
       "        vertical-align: top;\n",
       "    }\n",
       "\n",
       "    .dataframe thead th {\n",
       "        text-align: right;\n",
       "    }\n",
       "</style>\n",
       "<table border=\"1\" class=\"dataframe\">\n",
       "  <thead>\n",
       "    <tr style=\"text-align: right;\">\n",
       "      <th></th>\n",
       "      <th>Value</th>\n",
       "    </tr>\n",
       "  </thead>\n",
       "  <tbody>\n",
       "    <tr>\n",
       "      <th>0</th>\n",
       "      <td>3.058</td>\n",
       "    </tr>\n",
       "    <tr>\n",
       "      <th>1</th>\n",
       "      <td>3.296</td>\n",
       "    </tr>\n",
       "    <tr>\n",
       "      <th>2</th>\n",
       "      <td>4.542</td>\n",
       "    </tr>\n",
       "    <tr>\n",
       "      <th>3</th>\n",
       "      <td>5.006</td>\n",
       "    </tr>\n",
       "    <tr>\n",
       "      <th>4</th>\n",
       "      <td>5.526</td>\n",
       "    </tr>\n",
       "  </tbody>\n",
       "</table>\n",
       "</div>"
      ],
      "text/plain": [
       "   Value\n",
       "0  3.058\n",
       "1  3.296\n",
       "2  4.542\n",
       "3  5.006\n",
       "4  5.526"
      ]
     },
     "execution_count": 46,
     "metadata": {},
     "output_type": "execute_result"
    }
   ],
   "source": [
    "y.head()"
   ]
  },
  {
   "cell_type": "code",
   "execution_count": 47,
   "metadata": {},
   "outputs": [
    {
     "name": "stdout",
     "output_type": "stream",
     "text": [
      "(26, 315) (315, 1)\n"
     ]
    }
   ],
   "source": [
    "y = y.values.reshape(-1, 1)\n",
    "print(Xt.shape, y.shape)"
   ]
  },
  {
   "cell_type": "markdown",
   "metadata": {},
   "source": [
    "## Split dataset into Train and Test\n",
    "\n",
    "Given the dataset is a time series, we will leave the last 12 months as test data."
   ]
  },
  {
   "cell_type": "code",
   "execution_count": 22,
   "metadata": {
    "collapsed": true
   },
   "outputs": [],
   "source": [
    "#from sklearn.model_selection import train_test_split\n",
    "\n",
    "#X_train, X_test, y_train, y_test = train_test_split(X, y, random_state=42)\n",
    "X_train, X_test = X[1:len(X)-12], X[len(X)-12:]\n",
    "y_train, y_test = y[1:len(X)-12], y[len(X)-12:]\n",
    "\n"
   ]
  },
  {
   "cell_type": "markdown",
   "metadata": {},
   "source": [
    "## Scale the data and plot the difference"
   ]
  },
  {
   "cell_type": "code",
   "execution_count": 23,
   "metadata": {},
   "outputs": [
    {
     "name": "stdout",
     "output_type": "stream",
     "text": [
      "X_train_scaled: (302, 26)\n",
      "y_train_scaled: (302, 1)\n",
      "X_test_scaled: (12, 26)\n",
      "y_test_scaled: (12, 1)\n"
     ]
    }
   ],
   "source": [
    "from sklearn.preprocessing import StandardScaler\n",
    "\n",
    "X_scaler = StandardScaler().fit(X_train)\n",
    "y_scaler = StandardScaler().fit(y_train)\n",
    "X_train_scaled = X_scaler.transform(X_train)\n",
    "X_test_scaled = X_scaler.transform(X_test)\n",
    "y_train_scaled = y_scaler.transform(y_train)\n",
    "y_test_scaled = y_scaler.transform(y_test)\n",
    "\n",
    "print(\"X_train_scaled:\", X_train_scaled.shape)\n",
    "print(\"y_train_scaled:\", y_train_scaled.shape)\n",
    "print(\"X_test_scaled:\", X_test_scaled.shape)\n",
    "print(\"y_test_scaled:\", y_test_scaled.shape)"
   ]
  },
  {
   "cell_type": "code",
   "execution_count": 25,
   "metadata": {},
   "outputs": [
    {
     "data": {
      "image/png": "[encoded data removed]",
      "text/plain": [
       "<matplotlib.figure.Figure at 0x1a18d625f8>"
      ]
     },
     "metadata": {},
     "output_type": "display_data"
    },
    {
     "data": {
      "image/png": "[encoded data removed]",
      "text/plain": [
       "<matplotlib.figure.Figure at 0x1a18e1ba90>"
      ]
     },
     "metadata": {},
     "output_type": "display_data"
    }
   ],
   "source": [
    "fig1 = plt.figure(figsize=(12, 6))\n",
    "axes1 = fig1.add_subplot(1, 2, 1)\n",
    "axes2 = fig1.add_subplot(1, 2, 2)\n",
    "\n",
    "axes1.set_title(\"Original Data\")\n",
    "axes2.set_title(\"Scaled Data\")\n",
    "\n",
    "maxx = X_train[\"Price\"].max()\n",
    "maxy = y_train.max()\n",
    "axes1.set_xlim(-maxx + 1, maxx + 1)\n",
    "axes1.set_ylim(-maxy + 1, maxy + 1)\n",
    "\n",
    "axes2.set_xlim(-2, 2)\n",
    "axes2.set_ylim(-2, 2)\n",
    "\n",
    "def set_axes(ax):\n",
    "    ax.spines['left'].set_position('center')\n",
    "    ax.spines['right'].set_color('none')\n",
    "    ax.spines['bottom'].set_position('center')\n",
    "    ax.spines['top'].set_color('none')\n",
    "    ax.xaxis.set_ticks_position('bottom')\n",
    "    ax.yaxis.set_ticks_position('left')\n",
    "    \n",
    "set_axes(axes1)\n",
    "set_axes(axes2)\n",
    "\n",
    "axes1.scatter(X_train[\"Price\"], y_train)\n",
    "axes2.scatter(X_train_scaled[:,0], y_train_scaled[:])\n",
    "# Save our graph \n",
    "plt.tight_layout()\n",
    "plt.savefig(\"../../images/LR_scaled_features.png\")\n",
    "plt.show()\n"
   ]
  },
  {
   "cell_type": "markdown",
   "metadata": {},
   "source": [
    "## Create the Random Forrest model\n",
    "\n",
    "Train the model and plot results"
   ]
  },
  {
   "cell_type": "code",
   "execution_count": 26,
   "metadata": {},
   "outputs": [
    {
     "data": {
      "text/plain": [
       "RandomForestRegressor(bootstrap=True, criterion='mse', max_depth=2,\n",
       "           max_features='auto', max_leaf_nodes=None,\n",
       "           min_impurity_decrease=0.0, min_impurity_split=None,\n",
       "           min_samples_leaf=1, min_samples_split=2,\n",
       "           min_weight_fraction_leaf=0.0, n_estimators=10, n_jobs=1,\n",
       "           oob_score=False, random_state=0, verbose=0, warm_start=False)"
      ]
     },
     "execution_count": 26,
     "metadata": {},
     "output_type": "execute_result"
    }
   ],
   "source": [
    "from sklearn.ensemble import RandomForestRegressor\n",
    "import numpy as np\n",
    "rf = RandomForestRegressor(max_depth=2,random_state=0)\n",
    "y_train_ravel = np.ravel(y_train_scaled)\n",
    "rf.fit(X_train_scaled, y_train_ravel)\n"
   ]
  },
  {
   "cell_type": "code",
   "execution_count": 27,
   "metadata": {},
   "outputs": [
    {
     "data": {
      "image/png": "[encoded data removed]",
      "text/plain": [
       "<matplotlib.figure.Figure at 0x1a18e04b00>"
      ]
     },
     "metadata": {},
     "output_type": "display_data"
    }
   ],
   "source": [
    "plt.scatter(rf.predict(X_train_scaled), rf.predict(X_train_scaled) - y_train_ravel, c=\"blue\", label=\"Training Data\")\n",
    "y_test_ravel = np.ravel(y_test_scaled)\n",
    "plt.scatter(rf.predict(X_test_scaled), rf.predict(X_test_scaled) - y_test_ravel, c=\"orange\", label=\"Testing Data\")\n",
    "plt.legend()\n",
    "plt.hlines(y=0, xmin=y_test_scaled.min(), xmax=y_test_scaled.max())\n",
    "plt.title(\"Residual Plot\")\n",
    "plt.tight_layout()\n",
    "plt.savefig(\"../../images/RF_residual.png\")\n",
    "plt.show()"
   ]
  },
  {
   "cell_type": "markdown",
   "metadata": {},
   "source": [
    "## Evaluate the model"
   ]
  },
  {
   "cell_type": "code",
   "execution_count": 28,
   "metadata": {},
   "outputs": [
    {
     "data": {
      "text/plain": [
       "-0.4751449867734263"
      ]
     },
     "execution_count": 28,
     "metadata": {},
     "output_type": "execute_result"
    }
   ],
   "source": [
    "rf.score(X_test_scaled, y_test_scaled)\n"
   ]
  },
  {
   "cell_type": "code",
   "execution_count": 14,
   "metadata": {},
   "outputs": [
    {
     "name": "stdout",
     "output_type": "stream",
     "text": [
      "MSE: 1.4493958086821361, R2: -1.789162015807741\n"
     ]
    }
   ],
   "source": [
    "from sklearn.metrics import mean_squared_error\n",
    "\n",
    "predictions = rf.predict(X_test_scaled)\n",
    "MSE = mean_squared_error(y_test_scaled, predictions)\n",
    "r2 = rf.score(X_test_scaled, y_test_scaled)\n",
    "\n",
    "print(f\"MSE: {MSE}, R2: {r2}\")"
   ]
  },
  {
   "cell_type": "code",
   "execution_count": null,
   "metadata": {
    "collapsed": true
   },
   "outputs": [],
   "source": []
  },
  {
   "cell_type": "code",
   "execution_count": null,
   "metadata": {
    "collapsed": true
   },
   "outputs": [],
   "source": []
  }
 ],
 "metadata": {
  "kernelspec": {
   "display_name": "Python 3",
   "language": "python",
   "name": "python3"
  },
  "language_info": {
   "codemirror_mode": {
    "name": "ipython",
    "version": 3
   },
   "file_extension": ".py",
   "mimetype": "text/x-python",
   "name": "python",
   "nbconvert_exporter": "python",
   "pygments_lexer": "ipython3",
   "version": "3.6.3"
  }
 },
 "nbformat": 4,
 "nbformat_minor": 2
}
