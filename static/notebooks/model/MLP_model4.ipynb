{
 "cells": [
  {
   "cell_type": "markdown",
   "metadata": {},
   "source": [
    "# MLP Model"
   ]
  },
  {
   "cell_type": "code",
   "execution_count": 29,
   "metadata": {
    "collapsed": true
   },
   "outputs": [],
   "source": [
    "## Dependencies\n",
    "import pandas as pd\n",
    "import matplotlib.pyplot as plt\n",
    "import os"
   ]
  },
  {
   "cell_type": "code",
   "execution_count": 30,
   "metadata": {},
   "outputs": [
    {
     "name": "stdout",
     "output_type": "stream",
     "text": [
      "339\n"
     ]
    },
    {
     "data": {
      "text/html": [
       "<div>\n",
       "<style scoped>\n",
       "    .dataframe tbody tr th:only-of-type {\n",
       "        vertical-align: middle;\n",
       "    }\n",
       "\n",
       "    .dataframe tbody tr th {\n",
       "        vertical-align: top;\n",
       "    }\n",
       "\n",
       "    .dataframe thead th {\n",
       "        text-align: right;\n",
       "    }\n",
       "</style>\n",
       "<table border=\"1\" class=\"dataframe\">\n",
       "  <thead>\n",
       "    <tr style=\"text-align: right;\">\n",
       "      <th></th>\n",
       "      <th>Solar</th>\n",
       "      <th>Energy</th>\n",
       "      <th>year</th>\n",
       "      <th>Price</th>\n",
       "      <th>REDTI</th>\n",
       "      <th>month_1</th>\n",
       "      <th>month_2</th>\n",
       "      <th>month_3</th>\n",
       "      <th>month_4</th>\n",
       "      <th>month_5</th>\n",
       "      <th>month_6</th>\n",
       "      <th>month_7</th>\n",
       "      <th>month_8</th>\n",
       "      <th>month_9</th>\n",
       "      <th>month_10</th>\n",
       "      <th>month_11</th>\n",
       "      <th>month_12</th>\n",
       "    </tr>\n",
       "  </thead>\n",
       "  <tbody>\n",
       "    <tr>\n",
       "      <th>0</th>\n",
       "      <td>2.965</td>\n",
       "      <td>2018.869</td>\n",
       "      <td>1990</td>\n",
       "      <td>7.17</td>\n",
       "      <td>8.8</td>\n",
       "      <td>1</td>\n",
       "      <td>0</td>\n",
       "      <td>0</td>\n",
       "      <td>0</td>\n",
       "      <td>0</td>\n",
       "      <td>0</td>\n",
       "      <td>0</td>\n",
       "      <td>0</td>\n",
       "      <td>0</td>\n",
       "      <td>0</td>\n",
       "      <td>0</td>\n",
       "      <td>0</td>\n",
       "    </tr>\n",
       "    <tr>\n",
       "      <th>1</th>\n",
       "      <td>3.196</td>\n",
       "      <td>1640.310</td>\n",
       "      <td>1990</td>\n",
       "      <td>7.48</td>\n",
       "      <td>22.7</td>\n",
       "      <td>0</td>\n",
       "      <td>1</td>\n",
       "      <td>0</td>\n",
       "      <td>0</td>\n",
       "      <td>0</td>\n",
       "      <td>0</td>\n",
       "      <td>0</td>\n",
       "      <td>0</td>\n",
       "      <td>0</td>\n",
       "      <td>0</td>\n",
       "      <td>0</td>\n",
       "      <td>0</td>\n",
       "    </tr>\n",
       "    <tr>\n",
       "      <th>2</th>\n",
       "      <td>4.403</td>\n",
       "      <td>1559.289</td>\n",
       "      <td>1990</td>\n",
       "      <td>7.57</td>\n",
       "      <td>29.8</td>\n",
       "      <td>0</td>\n",
       "      <td>0</td>\n",
       "      <td>1</td>\n",
       "      <td>0</td>\n",
       "      <td>0</td>\n",
       "      <td>0</td>\n",
       "      <td>0</td>\n",
       "      <td>0</td>\n",
       "      <td>0</td>\n",
       "      <td>0</td>\n",
       "      <td>0</td>\n",
       "      <td>0</td>\n",
       "    </tr>\n",
       "    <tr>\n",
       "      <th>3</th>\n",
       "      <td>4.853</td>\n",
       "      <td>1299.971</td>\n",
       "      <td>1990</td>\n",
       "      <td>7.69</td>\n",
       "      <td>26.8</td>\n",
       "      <td>0</td>\n",
       "      <td>0</td>\n",
       "      <td>0</td>\n",
       "      <td>1</td>\n",
       "      <td>0</td>\n",
       "      <td>0</td>\n",
       "      <td>0</td>\n",
       "      <td>0</td>\n",
       "      <td>0</td>\n",
       "      <td>0</td>\n",
       "      <td>0</td>\n",
       "      <td>0</td>\n",
       "    </tr>\n",
       "    <tr>\n",
       "      <th>4</th>\n",
       "      <td>5.357</td>\n",
       "      <td>1143.417</td>\n",
       "      <td>1990</td>\n",
       "      <td>7.96</td>\n",
       "      <td>53.9</td>\n",
       "      <td>0</td>\n",
       "      <td>0</td>\n",
       "      <td>0</td>\n",
       "      <td>0</td>\n",
       "      <td>1</td>\n",
       "      <td>0</td>\n",
       "      <td>0</td>\n",
       "      <td>0</td>\n",
       "      <td>0</td>\n",
       "      <td>0</td>\n",
       "      <td>0</td>\n",
       "      <td>0</td>\n",
       "    </tr>\n",
       "  </tbody>\n",
       "</table>\n",
       "</div>"
      ],
      "text/plain": [
       "   Solar    Energy  year  Price  REDTI  month_1  month_2  month_3  month_4  \\\n",
       "0  2.965  2018.869  1990   7.17    8.8        1        0        0        0   \n",
       "1  3.196  1640.310  1990   7.48   22.7        0        1        0        0   \n",
       "2  4.403  1559.289  1990   7.57   29.8        0        0        1        0   \n",
       "3  4.853  1299.971  1990   7.69   26.8        0        0        0        1   \n",
       "4  5.357  1143.417  1990   7.96   53.9        0        0        0        0   \n",
       "\n",
       "   month_5  month_6  month_7  month_8  month_9  month_10  month_11  month_12  \n",
       "0        0        0        0        0        0         0         0         0  \n",
       "1        0        0        0        0        0         0         0         0  \n",
       "2        0        0        0        0        0         0         0         0  \n",
       "3        0        0        0        0        0         0         0         0  \n",
       "4        1        0        0        0        0         0         0         0  "
      ]
     },
     "execution_count": 30,
     "metadata": {},
     "output_type": "execute_result"
    }
   ],
   "source": [
    "\n",
    "## Dependencies\n",
    "import pandas as pd\n",
    "import numpy as np\n",
    "import matplotlib.pyplot as plt\n",
    "import os\n",
    "\n",
    "# Feature Data\n",
    "filename = \"features.csv\"\n",
    "output_data = \"../../data/output\" \n",
    "filepath = os.path.join(output_data,filename)\n",
    "\n",
    "data = pd.read_csv(filepath,index_col=False, header=0)\n",
    "print(len(data))\n",
    "data.head()"
   ]
  },
  {
   "cell_type": "code",
   "execution_count": 31,
   "metadata": {},
   "outputs": [
    {
     "name": "stdout",
     "output_type": "stream",
     "text": [
      "315\n"
     ]
    }
   ],
   "source": [
    "def lag_data(lag_count, df):\n",
    "    features = []\n",
    "    targets = []\n",
    "    for i in range(1, lag_count+1):\n",
    "        df['lag%s' % i] = df.Solar.shift(i)\n",
    "        df['peek%s' % i] = df.Solar.shift(-1*i)\n",
    "        features.append('lag%s' % i)\n",
    "        targets.append('peek%s' % i)\n",
    "        \n",
    "    #differencing\n",
    "    df['diff1'] = df.Solar.diff(1)\n",
    "    return features, targets, df.iloc[lag_count:-1*lag_count] #dropped rows with nan\n",
    "    \n",
    "lag_count = 12\n",
    "features, targets, data = lag_data(lag_count, data)\n",
    "\n",
    "print(len(data))"
   ]
  },
  {
   "cell_type": "code",
   "execution_count": 32,
   "metadata": {},
   "outputs": [
    {
     "name": "stdout",
     "output_type": "stream",
     "text": [
      "['lag1', 'lag2', 'lag3', 'lag4', 'lag5', 'lag6', 'lag7', 'lag8', 'lag9', 'lag10', 'lag11', 'lag12'] ['peek1', 'peek2', 'peek3', 'peek4', 'peek5', 'peek6', 'peek7', 'peek8', 'peek9', 'peek10', 'peek11', 'peek12']\n"
     ]
    }
   ],
   "source": [
    "print(features, targets)"
   ]
  },
  {
   "cell_type": "markdown",
   "metadata": {},
   "source": [
    "## Improve model by adding features"
   ]
  },
  {
   "cell_type": "code",
   "execution_count": 33,
   "metadata": {},
   "outputs": [
    {
     "name": "stdout",
     "output_type": "stream",
     "text": [
      "(315, 24) (315, 1)\n"
     ]
    }
   ],
   "source": [
    "X = data[[\"year\", \"Price\", \"lag1\", \"peek1\", \"lag2\", \"peek2\", \"lag3\", \"peek3\",\"lag4\",\"peek4\",\"lag5\", \"peek5\",\"lag6\", \"peek6\", \"lag7\", \"peek7\", \"lag8\", \"peek8\", \"lag9\", \"peek9\", \"lag10\",\"peek10\", \"lag11\",\"peek11\"]] \n",
    "y = data[\"Solar\"].values.reshape(-1, 1)\n",
    "print(X.shape, y.shape)"
   ]
  },
  {
   "cell_type": "markdown",
   "metadata": {},
   "source": [
    "## Split dataset into Train and Test\n",
    "\n",
    "Given the dataset is a time series, we will leave the last 12 months as test data."
   ]
  },
  {
   "cell_type": "code",
   "execution_count": 34,
   "metadata": {
    "collapsed": true
   },
   "outputs": [],
   "source": [
    "from sklearn.model_selection import train_test_split\n",
    "from sklearn.preprocessing import StandardScaler\n",
    "\n",
    "# Split data into Train and Test\n",
    "\n",
    "X_train, X_test = X[1:len(X)-12], X[len(X)-12:]\n",
    "y_train, y_test = y[1:len(X)-12], y[len(X)-12:]\n"
   ]
  },
  {
   "cell_type": "markdown",
   "metadata": {},
   "source": [
    "## Scale the data and plot the difference"
   ]
  },
  {
   "cell_type": "code",
   "execution_count": 35,
   "metadata": {},
   "outputs": [
    {
     "name": "stdout",
     "output_type": "stream",
     "text": [
      "302 12 302 12\n",
      "train observations  302 test observations:  12\n"
     ]
    }
   ],
   "source": [
    "# Scale the data\n",
    "X_scaler = StandardScaler().fit(X_train)\n",
    "X_train_scaled = X_scaler.transform(X_train)\n",
    "X_test_scaled = X_scaler.transform(X_test)\n",
    "\n",
    "y_scaler = StandardScaler().fit(y_train)\n",
    "y_train_scaled = y_scaler.transform(y_train)\n",
    "y_test_scaled = y_scaler.transform(y_test)\n",
    "print(len(X_train), len(X_test), len(y_train), len(y_test))\n",
    "print(\"train observations \", len(X_train_scaled), \"test observations: \",len(X_test_scaled))"
   ]
  },
  {
   "cell_type": "code",
   "execution_count": 36,
   "metadata": {},
   "outputs": [
    {
     "data": {
      "image/png": "[encoded data removed]",
      "text/plain": [
       "<matplotlib.figure.Figure at 0x1a11364a58>"
      ]
     },
     "metadata": {},
     "output_type": "display_data"
    }
   ],
   "source": [
    "fig1 = plt.figure(figsize=(12, 6))\n",
    "axes1 = fig1.add_subplot(1, 2, 1)\n",
    "axes2 = fig1.add_subplot(1, 2, 2)\n",
    "\n",
    "axes1.set_title(\"Original Data\")\n",
    "axes2.set_title(\"Scaled Data\")\n",
    "\n",
    "maxx = X_train[\"Price\"].max()\n",
    "maxy = y_train.max()\n",
    "axes1.set_xlim(-maxx + 1, maxx + 1)\n",
    "axes1.set_ylim(-maxy + 1, maxy + 1)\n",
    "\n",
    "axes2.set_xlim(-2, 2)\n",
    "axes2.set_ylim(-2, 2)\n",
    "\n",
    "def set_axes(ax):\n",
    "    ax.spines['left'].set_position('center')\n",
    "    ax.spines['right'].set_color('none')\n",
    "    ax.spines['bottom'].set_position('center')\n",
    "    ax.spines['top'].set_color('none')\n",
    "    ax.xaxis.set_ticks_position('bottom')\n",
    "    ax.yaxis.set_ticks_position('left')\n",
    "    \n",
    "set_axes(axes1)\n",
    "set_axes(axes2)\n",
    "\n",
    "axes1.scatter(X_train[\"Price\"], y_train)\n",
    "axes2.scatter(X_train_scaled[:,1], y_train_scaled[:])\n",
    "\n",
    "# Save our graph \n",
    "plt.tight_layout()\n",
    "plt.savefig(\"../../images/LR_scaled_features.png\")\n",
    "plt.show()\n"
   ]
  },
  {
   "cell_type": "markdown",
   "metadata": {},
   "source": [
    "## Create the MLP model\n",
    "\n",
    "Train the model and plot results"
   ]
  },
  {
   "cell_type": "code",
   "execution_count": 37,
   "metadata": {},
   "outputs": [
    {
     "name": "stdout",
     "output_type": "stream",
     "text": [
      "Row number of testing data :  12\n"
     ]
    }
   ],
   "source": [
    "from sklearn.neural_network import MLPRegressor\n",
    "print(\"Row number of testing data : \", len(X_test_scaled))\n",
    "\n",
    "# train autoregression\n",
    "mlp = MLPRegressor(max_iter=1000, learning_rate_init=0.1, random_state=0, learning_rate='adaptive',\n",
    "                   activation='relu', solver='adam', tol=0.0, verbose=2 , hidden_layer_sizes = (20,20))\n",
    "\n"
   ]
  },
  {
   "cell_type": "code",
   "execution_count": 38,
   "metadata": {},
   "outputs": [
    {
     "name": "stdout",
     "output_type": "stream",
     "text": [
      "Iteration 1, loss = 5.24353292\n",
      "Iteration 2, loss = 2.03086308\n",
      "Iteration 3, loss = 0.41532253\n",
      "Iteration 4, loss = 0.40768384\n",
      "Iteration 5, loss = 0.19137981\n",
      "Iteration 6, loss = 0.17743926\n",
      "Iteration 7, loss = 0.17371502\n",
      "Iteration 8, loss = 0.11268844\n",
      "Iteration 9, loss = 0.17287228\n",
      "Iteration 10, loss = 0.10680940\n",
      "Iteration 11, loss = 0.10896848\n",
      "Iteration 12, loss = 0.06630323\n",
      "Iteration 13, loss = 0.08836251\n",
      "Iteration 14, loss = 0.05431658\n",
      "Iteration 15, loss = 0.06008242\n",
      "Iteration 16, loss = 0.03089377\n",
      "Iteration 17, loss = 0.04792155\n",
      "Iteration 18, loss = 0.02298896\n",
      "Iteration 19, loss = 0.03844996\n",
      "Iteration 20, loss = 0.03312612\n",
      "Iteration 21, loss = 0.02367918\n",
      "Training loss did not improve more than tol=0.000000 for two consecutive epochs. Stopping.\n"
     ]
    },
    {
     "data": {
      "text/plain": [
       "MLPRegressor(activation='relu', alpha=0.0001, batch_size='auto', beta_1=0.9,\n",
       "       beta_2=0.999, early_stopping=False, epsilon=1e-08,\n",
       "       hidden_layer_sizes=(20, 20), learning_rate='adaptive',\n",
       "       learning_rate_init=0.1, max_iter=1000, momentum=0.9,\n",
       "       nesterovs_momentum=True, power_t=0.5, random_state=0, shuffle=True,\n",
       "       solver='adam', tol=0.0, validation_fraction=0.1, verbose=2,\n",
       "       warm_start=False)"
      ]
     },
     "execution_count": 38,
     "metadata": {},
     "output_type": "execute_result"
    }
   ],
   "source": [
    "import numpy as np\n",
    "y_train_ravel = np.ravel(y_train_scaled)\n",
    "mlp.fit(X_train_scaled, y_train_ravel)"
   ]
  },
  {
   "cell_type": "code",
   "execution_count": 39,
   "metadata": {
    "collapsed": true
   },
   "outputs": [],
   "source": [
    "y_pred = mlp.predict(X_test_scaled)"
   ]
  },
  {
   "cell_type": "code",
   "execution_count": 40,
   "metadata": {},
   "outputs": [
    {
     "data": {
      "text/plain": [
       "0.7641087240871138"
      ]
     },
     "execution_count": 40,
     "metadata": {},
     "output_type": "execute_result"
    }
   ],
   "source": [
    "mlp.score(X_test_scaled, y_test_scaled)"
   ]
  },
  {
   "cell_type": "code",
   "execution_count": 41,
   "metadata": {},
   "outputs": [
    {
     "name": "stdout",
     "output_type": "stream",
     "text": [
      "MSE: 0.45891241229818025, R2: 0.7641087240871138\n"
     ]
    }
   ],
   "source": [
    "from sklearn.metrics import mean_squared_error\n",
    "\n",
    "predictions = mlp.predict(X_test_scaled)\n",
    "MSE = mean_squared_error(y_test_scaled, predictions)\n",
    "r2 = mlp.score(X_test_scaled, y_test_scaled)\n",
    "\n",
    "print(f\"MSE: {MSE}, R2: {r2}\")"
   ]
  },
  {
   "cell_type": "code",
   "execution_count": 42,
   "metadata": {},
   "outputs": [
    {
     "data": {
      "text/plain": [
       "(12, 24)"
      ]
     },
     "execution_count": 42,
     "metadata": {},
     "output_type": "execute_result"
    }
   ],
   "source": [
    "X_test_scaled.shape"
   ]
  },
  {
   "cell_type": "code",
   "execution_count": 43,
   "metadata": {},
   "outputs": [
    {
     "data": {
      "text/plain": [
       "Index(['year', 'Price', 'lag1', 'peek1', 'lag2', 'peek2', 'lag3', 'peek3',\n",
       "       'lag4', 'peek4', 'lag5', 'peek5', 'lag6', 'peek6', 'lag7', 'peek7',\n",
       "       'lag8', 'peek8', 'lag9', 'peek9', 'lag10', 'peek10', 'lag11', 'peek11'],\n",
       "      dtype='object')"
      ]
     },
     "execution_count": 43,
     "metadata": {},
     "output_type": "execute_result"
    }
   ],
   "source": [
    "X_test.columns"
   ]
  },
  {
   "cell_type": "code",
   "execution_count": null,
   "metadata": {},
   "outputs": [],
   "source": []
  },
  {
   "cell_type": "code",
   "execution_count": 46,
   "metadata": {},
   "outputs": [
    {
     "data": {
      "image/png": "[encoded data removed]",
      "text/plain": [
       "<matplotlib.figure.Figure at 0x1a112556d8>"
      ]
     },
     "metadata": {},
     "output_type": "display_data"
    }
   ],
   "source": [
    "# plot\n",
    "y_test_ravel = np.ravel(y_test_scaled)\n",
    "plt.plot(y_test_ravel, color='blue')\n",
    "plt.plot(predictions, color='red')\n",
    "plt.legend(['Solar Energy','Predictions'], loc='best')\n",
    "plt.title(\"MLP \")\n",
    "# Save our graph \n",
    "plt.tight_layout()\n",
    "#plt.savefig(\"static/images/MLPmodel\"+ history +\".png\")\n",
    "plt.show()"
   ]
  },
  {
   "cell_type": "code",
   "execution_count": 49,
   "metadata": {},
   "outputs": [],
   "source": [
    "# get the predict value\n",
    "Xfile = \"X_predict.csv\"\n",
    "output_data = \"../../data/output\" \n",
    "filepath = os.path.join(output_data,Xfile)\n",
    "X_predict = pd.read_csv(filepath,index_col=False, header=0)\n"
   ]
  },
  {
   "cell_type": "code",
   "execution_count": 51,
   "metadata": {},
   "outputs": [
    {
     "data": {
      "text/plain": [
       "Index(['year', 'Price', 'lag1', 'peek1', 'lag2', 'peek2', 'lag3', 'peek3',\n",
       "       'lag4', 'peek4', 'lag5', 'peek5', 'lag6', 'peek6', 'lag7', 'peek7',\n",
       "       'lag8', 'peek8', 'lag9', 'peek9', 'lag10', 'peek10', 'lag11', 'peek11',\n",
       "       'lag12', 'peek12'],\n",
       "      dtype='object')"
      ]
     },
     "execution_count": 51,
     "metadata": {},
     "output_type": "execute_result"
    }
   ],
   "source": [
    "\n",
    "X_predict.columns"
   ]
  },
  {
   "cell_type": "code",
   "execution_count": 52,
   "metadata": {},
   "outputs": [
    {
     "data": {
      "text/plain": [
       "Index(['year', 'Price', 'lag1', 'peek1', 'lag2', 'peek2', 'lag3', 'peek3',\n",
       "       'lag4', 'peek4', 'lag5', 'peek5', 'lag6', 'peek6', 'lag7', 'peek7',\n",
       "       'lag8', 'peek8', 'lag9', 'peek9', 'lag10', 'peek10', 'lag11', 'peek11'],\n",
       "      dtype='object')"
      ]
     },
     "execution_count": 52,
     "metadata": {},
     "output_type": "execute_result"
    }
   ],
   "source": [
    "X_test.columns"
   ]
  },
  {
   "cell_type": "code",
   "execution_count": 55,
   "metadata": {},
   "outputs": [
    {
     "data": {
      "text/plain": [
       "Index(['year', 'Price', 'lag1', 'peek1', 'lag2', 'peek2', 'lag3', 'peek3',\n",
       "       'lag4', 'peek4', 'lag5', 'peek5', 'lag6', 'peek6', 'lag7', 'peek7',\n",
       "       'lag8', 'peek8', 'lag9', 'peek9', 'lag10', 'peek10', 'lag11', 'peek11'],\n",
       "      dtype='object')"
      ]
     },
     "execution_count": 55,
     "metadata": {},
     "output_type": "execute_result"
    }
   ],
   "source": [
    "X_p = X_predict.drop(columns=[\"lag12\",\"peek12\"])\n",
    "X_p.columns"
   ]
  },
  {
   "cell_type": "code",
   "execution_count": 60,
   "metadata": {},
   "outputs": [],
   "source": [
    "X_predict_scaled = X_scaler.transform(X_p)\n",
    "y_predict = mlp.predict(X_predict_scaled)\n",
    "y_predict_ravel = np.ravel(y_predict)"
   ]
  },
  {
   "cell_type": "code",
   "execution_count": 62,
   "metadata": {},
   "outputs": [
    {
     "data": {
      "image/png": "[encoded data removed]",
      "text/plain": [
       "<matplotlib.figure.Figure at 0x1a112a75f8>"
      ]
     },
     "metadata": {},
     "output_type": "display_data"
    }
   ],
   "source": [
    "# plot\n",
    "y_test_ravel = np.ravel(y_test_scaled)\n",
    "plt.plot(y_test_ravel, color='blue')\n",
    "plt.plot(predictions, color='red')\n",
    "plt.plot(y_predict_ravel, color=\"green\")\n",
    "plt.legend(['Solar Energy','Predictions', \"Future\"], loc='best')\n",
    "plt.title(\"MLP \")\n",
    "# Save our graph \n",
    "plt.tight_layout()\n",
    "#plt.savefig(\"static/images/MLPmodel\"+ history +\".png\")\n",
    "plt.show()"
   ]
  },
  {
   "cell_type": "code",
   "execution_count": null,
   "metadata": {
    "collapsed": true
   },
   "outputs": [],
   "source": []
  }
 ],
 "metadata": {
  "kernelspec": {
   "display_name": "Python 3",
   "language": "python",
   "name": "python3"
  },
  "language_info": {
   "codemirror_mode": {
    "name": "ipython",
    "version": 3
   },
   "file_extension": ".py",
   "mimetype": "text/x-python",
   "name": "python",
   "nbconvert_exporter": "python",
   "pygments_lexer": "ipython3",
   "version": "3.6.3"
  }
 },
 "nbformat": 4,
 "nbformat_minor": 2
}
