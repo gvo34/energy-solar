{
 "cells": [
  {
   "cell_type": "markdown",
   "metadata": {},
   "source": [
    "# MLP Model"
   ]
  },
  {
   "cell_type": "code",
   "execution_count": 1,
   "metadata": {
    "collapsed": true
   },
   "outputs": [],
   "source": [
    "## Dependencies\n",
    "import pandas as pd\n",
    "import matplotlib.pyplot as plt\n",
    "import os"
   ]
  },
  {
   "cell_type": "code",
   "execution_count": 2,
   "metadata": {},
   "outputs": [
    {
     "name": "stdout",
     "output_type": "stream",
     "text": [
      "339\n"
     ]
    },
    {
     "data": {
      "text/html": [
       "<div>\n",
       "<style scoped>\n",
       "    .dataframe tbody tr th:only-of-type {\n",
       "        vertical-align: middle;\n",
       "    }\n",
       "\n",
       "    .dataframe tbody tr th {\n",
       "        vertical-align: top;\n",
       "    }\n",
       "\n",
       "    .dataframe thead th {\n",
       "        text-align: right;\n",
       "    }\n",
       "</style>\n",
       "<table border=\"1\" class=\"dataframe\">\n",
       "  <thead>\n",
       "    <tr style=\"text-align: right;\">\n",
       "      <th></th>\n",
       "      <th>Solar</th>\n",
       "      <th>Energy</th>\n",
       "      <th>year</th>\n",
       "      <th>Price</th>\n",
       "      <th>REDTI</th>\n",
       "      <th>month_1</th>\n",
       "      <th>month_2</th>\n",
       "      <th>month_3</th>\n",
       "      <th>month_4</th>\n",
       "      <th>month_5</th>\n",
       "      <th>month_6</th>\n",
       "      <th>month_7</th>\n",
       "      <th>month_8</th>\n",
       "      <th>month_9</th>\n",
       "      <th>month_10</th>\n",
       "      <th>month_11</th>\n",
       "      <th>month_12</th>\n",
       "    </tr>\n",
       "  </thead>\n",
       "  <tbody>\n",
       "    <tr>\n",
       "      <th>0</th>\n",
       "      <td>2.965</td>\n",
       "      <td>2018.869</td>\n",
       "      <td>1990</td>\n",
       "      <td>7.17</td>\n",
       "      <td>8.8</td>\n",
       "      <td>1</td>\n",
       "      <td>0</td>\n",
       "      <td>0</td>\n",
       "      <td>0</td>\n",
       "      <td>0</td>\n",
       "      <td>0</td>\n",
       "      <td>0</td>\n",
       "      <td>0</td>\n",
       "      <td>0</td>\n",
       "      <td>0</td>\n",
       "      <td>0</td>\n",
       "      <td>0</td>\n",
       "    </tr>\n",
       "    <tr>\n",
       "      <th>1</th>\n",
       "      <td>3.196</td>\n",
       "      <td>1640.310</td>\n",
       "      <td>1990</td>\n",
       "      <td>7.48</td>\n",
       "      <td>22.7</td>\n",
       "      <td>0</td>\n",
       "      <td>1</td>\n",
       "      <td>0</td>\n",
       "      <td>0</td>\n",
       "      <td>0</td>\n",
       "      <td>0</td>\n",
       "      <td>0</td>\n",
       "      <td>0</td>\n",
       "      <td>0</td>\n",
       "      <td>0</td>\n",
       "      <td>0</td>\n",
       "      <td>0</td>\n",
       "    </tr>\n",
       "    <tr>\n",
       "      <th>2</th>\n",
       "      <td>4.403</td>\n",
       "      <td>1559.289</td>\n",
       "      <td>1990</td>\n",
       "      <td>7.57</td>\n",
       "      <td>29.8</td>\n",
       "      <td>0</td>\n",
       "      <td>0</td>\n",
       "      <td>1</td>\n",
       "      <td>0</td>\n",
       "      <td>0</td>\n",
       "      <td>0</td>\n",
       "      <td>0</td>\n",
       "      <td>0</td>\n",
       "      <td>0</td>\n",
       "      <td>0</td>\n",
       "      <td>0</td>\n",
       "      <td>0</td>\n",
       "    </tr>\n",
       "    <tr>\n",
       "      <th>3</th>\n",
       "      <td>4.853</td>\n",
       "      <td>1299.971</td>\n",
       "      <td>1990</td>\n",
       "      <td>7.69</td>\n",
       "      <td>26.8</td>\n",
       "      <td>0</td>\n",
       "      <td>0</td>\n",
       "      <td>0</td>\n",
       "      <td>1</td>\n",
       "      <td>0</td>\n",
       "      <td>0</td>\n",
       "      <td>0</td>\n",
       "      <td>0</td>\n",
       "      <td>0</td>\n",
       "      <td>0</td>\n",
       "      <td>0</td>\n",
       "      <td>0</td>\n",
       "    </tr>\n",
       "    <tr>\n",
       "      <th>4</th>\n",
       "      <td>5.357</td>\n",
       "      <td>1143.417</td>\n",
       "      <td>1990</td>\n",
       "      <td>7.96</td>\n",
       "      <td>53.9</td>\n",
       "      <td>0</td>\n",
       "      <td>0</td>\n",
       "      <td>0</td>\n",
       "      <td>0</td>\n",
       "      <td>1</td>\n",
       "      <td>0</td>\n",
       "      <td>0</td>\n",
       "      <td>0</td>\n",
       "      <td>0</td>\n",
       "      <td>0</td>\n",
       "      <td>0</td>\n",
       "      <td>0</td>\n",
       "    </tr>\n",
       "  </tbody>\n",
       "</table>\n",
       "</div>"
      ],
      "text/plain": [
       "   Solar    Energy  year  Price  REDTI  month_1  month_2  month_3  month_4  \\\n",
       "0  2.965  2018.869  1990   7.17    8.8        1        0        0        0   \n",
       "1  3.196  1640.310  1990   7.48   22.7        0        1        0        0   \n",
       "2  4.403  1559.289  1990   7.57   29.8        0        0        1        0   \n",
       "3  4.853  1299.971  1990   7.69   26.8        0        0        0        1   \n",
       "4  5.357  1143.417  1990   7.96   53.9        0        0        0        0   \n",
       "\n",
       "   month_5  month_6  month_7  month_8  month_9  month_10  month_11  month_12  \n",
       "0        0        0        0        0        0         0         0         0  \n",
       "1        0        0        0        0        0         0         0         0  \n",
       "2        0        0        0        0        0         0         0         0  \n",
       "3        0        0        0        0        0         0         0         0  \n",
       "4        1        0        0        0        0         0         0         0  "
      ]
     },
     "execution_count": 2,
     "metadata": {},
     "output_type": "execute_result"
    }
   ],
   "source": [
    "\n",
    "## Dependencies\n",
    "import pandas as pd\n",
    "import numpy as np\n",
    "import matplotlib.pyplot as plt\n",
    "import os\n",
    "\n",
    "# Feature Data\n",
    "filename = \"features.csv\"\n",
    "output_data = \"../../data/output\" \n",
    "filepath = os.path.join(output_data,filename)\n",
    "\n",
    "data = pd.read_csv(filepath,index_col=False, header=0)\n",
    "print(len(data))\n",
    "data.head()"
   ]
  },
  {
   "cell_type": "code",
   "execution_count": 3,
   "metadata": {},
   "outputs": [
    {
     "name": "stdout",
     "output_type": "stream",
     "text": [
      "315\n"
     ]
    }
   ],
   "source": [
    "def lag_data(lag_count, df):\n",
    "    features = []\n",
    "    targets = []\n",
    "    for i in range(1, lag_count+1):\n",
    "        df['lag%s' % i] = df.Solar.shift(i)\n",
    "        df['peek%s' % i] = df.Solar.shift(-1*i)\n",
    "        features.append('lag%s' % i)\n",
    "        targets.append('peek%s' % i)\n",
    "        \n",
    "    #differencing\n",
    "    df['diff1'] = df.Solar.diff(1)\n",
    "    return features, targets, df.iloc[lag_count:-1*lag_count] #dropped rows with nan\n",
    "    \n",
    "lag_count = 12\n",
    "features, targets, data = lag_data(lag_count, data)\n",
    "\n",
    "print(len(data))"
   ]
  },
  {
   "cell_type": "code",
   "execution_count": 4,
   "metadata": {},
   "outputs": [
    {
     "name": "stdout",
     "output_type": "stream",
     "text": [
      "['lag1', 'lag2', 'lag3', 'lag4', 'lag5', 'lag6', 'lag7', 'lag8', 'lag9', 'lag10', 'lag11', 'lag12'] ['peek1', 'peek2', 'peek3', 'peek4', 'peek5', 'peek6', 'peek7', 'peek8', 'peek9', 'peek10', 'peek11', 'peek12']\n"
     ]
    }
   ],
   "source": [
    "print(features, targets)"
   ]
  },
  {
   "cell_type": "markdown",
   "metadata": {},
   "source": [
    "## Improve model by adding features"
   ]
  },
  {
   "cell_type": "code",
   "execution_count": 5,
   "metadata": {
    "collapsed": true
   },
   "outputs": [],
   "source": [
    "# features.append(\"Price\")\n",
    "# features.append(\"Solar\")\n"
   ]
  },
  {
   "cell_type": "code",
   "execution_count": 6,
   "metadata": {
    "collapsed": true
   },
   "outputs": [],
   "source": [
    "#targets.append(\"Solar\")\n",
    "#print(features, targets)"
   ]
  },
  {
   "cell_type": "code",
   "execution_count": 7,
   "metadata": {},
   "outputs": [
    {
     "name": "stdout",
     "output_type": "stream",
     "text": [
      "(315, 24) (315, 1)\n"
     ]
    }
   ],
   "source": [
    "X = data[[\"year\", \"Price\", \"lag1\", \"peek1\", \"lag2\", \"peek2\", \"lag3\", \"peek3\",\"lag4\",\"peek4\",\"lag5\", \"peek5\",\"lag6\", \"peek6\", \"lag7\", \"peek7\", \"lag8\", \"peek8\", \"lag9\", \"peek9\", \"lag10\",\"peek10\", \"lag11\",\"peek11\"]] \n",
    "y = data[\"Solar\"].values.reshape(-1, 1)\n",
    "print(X.shape, y.shape)"
   ]
  },
  {
   "cell_type": "code",
   "execution_count": 8,
   "metadata": {},
   "outputs": [
    {
     "name": "stdout",
     "output_type": "stream",
     "text": [
      "302 12 302 12\n"
     ]
    }
   ],
   "source": [
    "from sklearn.model_selection import train_test_split\n",
    "from sklearn.preprocessing import StandardScaler\n",
    "\n",
    "# Split data into Train and Test\n",
    "#X_train, X_test, y_train, y_test = train_test_split(X, y, random_state=1, stratify=y)\n",
    "X_train, X_test = X[1:len(X)-12], X[len(X)-12:]\n",
    "y_train, y_test = y[1:len(X)-12], y[len(X)-12:]\n",
    "\n",
    "# Scale the data\n",
    "X_scaler = StandardScaler().fit(X_train)\n",
    "X_train_scaled = X_scaler.transform(X_train)\n",
    "X_test_scaled = X_scaler.transform(X_test)\n",
    "\n",
    "y_scaler = StandardScaler().fit(y_train)\n",
    "y_train_scaled = y_scaler.transform(y_train)\n",
    "y_test_scaled = y_scaler.transform(y_test)\n",
    "print(len(X_train), len(X_test), len(y_train), len(y_test))"
   ]
  },
  {
   "cell_type": "code",
   "execution_count": 9,
   "metadata": {},
   "outputs": [
    {
     "name": "stdout",
     "output_type": "stream",
     "text": [
      "Row number of testing data :  12\n"
     ]
    }
   ],
   "source": [
    "from sklearn.neural_network import MLPRegressor\n",
    "print(\"Row number of testing data : \", len(X_test))\n",
    "\n",
    "#------------Model Training-------------------\n",
    "mlp = MLPRegressor(max_iter=1000, learning_rate_init=0.1, random_state=0, learning_rate='adaptive',\n",
    "                   activation='relu', solver='adam', tol=0.0, verbose=2 , hidden_layer_sizes = (20,20))\n"
   ]
  },
  {
   "cell_type": "code",
   "execution_count": 29,
   "metadata": {},
   "outputs": [
    {
     "name": "stdout",
     "output_type": "stream",
     "text": [
      "Iteration 1, loss = 5.24353292\n",
      "Iteration 2, loss = 2.03086308\n",
      "Iteration 3, loss = 0.41532253\n",
      "Iteration 4, loss = 0.40768384\n",
      "Iteration 5, loss = 0.19137981\n",
      "Iteration 6, loss = 0.17743926\n",
      "Iteration 7, loss = 0.17371502\n",
      "Iteration 8, loss = 0.11268844\n",
      "Iteration 9, loss = 0.17287228\n",
      "Iteration 10, loss = 0.10680940\n",
      "Iteration 11, loss = 0.10896848\n",
      "Iteration 12, loss = 0.06630323\n",
      "Iteration 13, loss = 0.08836251\n",
      "Iteration 14, loss = 0.05431658\n",
      "Iteration 15, loss = 0.06008242\n",
      "Iteration 16, loss = 0.03089377\n",
      "Iteration 17, loss = 0.04792155\n",
      "Iteration 18, loss = 0.02298896\n",
      "Iteration 19, loss = 0.03844996\n",
      "Iteration 20, loss = 0.03312612\n",
      "Iteration 21, loss = 0.02367918\n",
      "Training loss did not improve more than tol=0.000000 for two consecutive epochs. Stopping.\n"
     ]
    }
   ],
   "source": [
    "import numpy as np\n",
    "y_train_ravel = np.ravel(y_train_scaled)\n",
    "train = mlp.fit(X_train_scaled, y_train_ravel)"
   ]
  },
  {
   "cell_type": "code",
   "execution_count": 30,
   "metadata": {
    "collapsed": true
   },
   "outputs": [],
   "source": [
    "y_pred = mlp.predict(X_test_scaled)"
   ]
  },
  {
   "cell_type": "code",
   "execution_count": 31,
   "metadata": {},
   "outputs": [
    {
     "data": {
      "text/plain": [
       "0.7641087240871138"
      ]
     },
     "execution_count": 31,
     "metadata": {},
     "output_type": "execute_result"
    }
   ],
   "source": [
    "mlp.score(X_test_scaled, y_test_scaled)"
   ]
  },
  {
   "cell_type": "code",
   "execution_count": 32,
   "metadata": {},
   "outputs": [
    {
     "name": "stdout",
     "output_type": "stream",
     "text": [
      "MSE: 0.45891241229818025, R2: 0.7641087240871138\n"
     ]
    }
   ],
   "source": [
    "from sklearn.metrics import mean_squared_error\n",
    "\n",
    "predictions = mlp.predict(X_test_scaled)\n",
    "MSE = mean_squared_error(y_test_scaled, predictions)\n",
    "r2 = mlp.score(X_test_scaled, y_test_scaled)\n",
    "\n",
    "print(f\"MSE: {MSE}, R2: {r2}\")"
   ]
  },
  {
   "cell_type": "code",
   "execution_count": 34,
   "metadata": {},
   "outputs": [
    {
     "data": {
      "text/plain": [
       "array([-1.13888919, -0.49566738, -0.25613695,  0.01230233,  0.0381138 ,\n",
       "        0.18110933,  0.15013557, -0.11314141, -0.35473676, -0.80127517,\n",
       "       -0.90503728, -1.20496655, -1.07745789, -0.41152199, -0.16373189,\n",
       "        0.11451574,  0.14135967,  0.2895175 ,  0.25699505, -0.01505783,\n",
       "       -0.26542908, -0.7279706 , -0.83534631, -1.15902213, -1.02789987,\n",
       "       -0.34337971, -0.08784617,  0.1981449 ,  0.22550506,  0.37830896,\n",
       "        0.34475405,  0.06444149, -0.19264074, -0.66860422, -0.77907731,\n",
       "       -1.11307772, -0.97834185, -0.27472121, -0.01247668,  0.28125783,\n",
       "        0.30965045,  0.46606795,  0.43199681,  0.14394082, -0.12036862,\n",
       "       -0.60923784, -0.72229208, -1.08623379, -0.94943301, -0.23497155,\n",
       "        0.03088658,  0.3297834 ,  0.35817601,  0.51717466,  0.48258729,\n",
       "        0.19040146, -0.07803781, -0.57465048, -0.68976963, -1.07023068,\n",
       "       -0.93188121, -0.21122499,  0.05773051,  0.35869224,  0.38760109,\n",
       "        0.54814842,  0.51304482,  0.21827785, -0.05274257, -0.5540013 ,\n",
       "       -0.66963668, -1.09397723, -0.95769268, -0.24632859,  0.01901331,\n",
       "        0.3158452 ,  0.34423782,  0.50323647,  0.46813287,  0.17749573,\n",
       "       -0.08991109, -0.58445883, -0.69906176, -1.11307772, -0.97834185,\n",
       "       -0.27472121, -0.01247668,  0.28125783,  0.30965045,  0.46658418,\n",
       "        0.43199681,  0.14445705, -0.12036862, -0.60923784, -0.72229208,\n",
       "       -1.15231115, -1.02067266, -0.33357136, -0.07700536,  0.21001818,\n",
       "        0.23737834,  0.39069846,  0.35714355,  0.07579854, -0.18231615,\n",
       "       -0.66034455, -0.77081764, -1.22664818, -1.10068821, -0.44352821,\n",
       "       -0.19883549,  0.07579854,  0.10212624,  0.24873538,  0.21672916,\n",
       "       -0.05222635, -0.29898399, -0.75584699, -0.86167401, -1.29737161,\n",
       "       -1.17709016, -0.54883901, -0.31447087, -0.05222635, -0.02693111,\n",
       "        0.11296706,  0.08250952, -0.17457271, -0.41100576, -0.84721959,\n",
       "       -0.94840055, -1.350027  , -1.23387539, -0.62678964, -0.40068118,\n",
       "       -0.14721255, -0.12294977,  0.01230233, -0.01712275, -0.26542908,\n",
       "       -0.49360246, -0.91536187, -1.01292922, -1.39132535, -1.27827112,\n",
       "       -0.68822094, -0.46830722, -0.22206581, -0.19831926, -0.06668077,\n",
       "       -0.09558961, -0.33666873, -0.55864737, -0.96853349, -1.06403593,\n",
       "       -1.41042584, -1.2989203 , -0.71661356, -0.49979722, -0.25613695,\n",
       "       -0.23290663, -0.10333305, -0.13172567, -0.36970741, -0.58858867,\n",
       "       -0.9933125 , -1.08726625, -1.43726977, -1.32782914, -0.75687945,\n",
       "       -0.54367671, -0.30517874, -0.28246465, -0.15495599, -0.18283238,\n",
       "       -0.41668429, -0.63143571, -1.0284161 , -1.12030493, -1.37222487,\n",
       "       -1.25762194, -0.65982832, -0.43681723, -0.18696221, -0.16321566,\n",
       "       -0.03002848, -0.05893733, -0.30363005, -0.52818983, -0.94375448,\n",
       "       -1.04028938, -1.30098521, -1.18070377, -0.5540013 , -0.32066562,\n",
       "       -0.0584211 , -0.03364209,  0.10625607,  0.07579854, -0.18076746,\n",
       "       -0.41616806, -0.85186565, -0.95304661, -1.20599901, -1.07900658,\n",
       "       -0.41307068, -0.16528058,  0.11296706,  0.13929475,  0.28796882,\n",
       "        0.25544636, -0.01712275, -0.26697777, -0.72951929, -0.836895  ,\n",
       "       -1.1672818 , -1.037192  , -0.35576922, -0.10178437,  0.18265802,\n",
       "        0.21001818,  0.36178962,  0.32875094,  0.04998707, -0.2060627 ,\n",
       "       -0.67944504, -0.7894019 , -1.03048102, -0.8895504 , -0.15237484,\n",
       "        0.12225918,  0.42993189,  0.45935697,  0.62403414,  0.58789808,\n",
       "        0.28642013,  0.00920495, -0.50289459, -0.62162735, -0.86064155,\n",
       "       -0.70628897,  0.10006132,  0.40050682,  0.7376046 ,  0.76961083,\n",
       "        0.94925865,  0.91002522,  0.58015464,  0.277128  , -0.28298088,\n",
       "       -0.41307068, -0.63556554, -0.46366116,  0.43457796,  0.7690946 ,\n",
       "        1.14387713,  1.18001318,  1.38031018,  1.33643068,  0.96887537,\n",
       "        0.63126135,  0.00765626, -0.13688796, -0.28349711, -0.08423257,\n",
       "        0.95700209,  1.34520658,  1.77987172,  1.8216863 ,  2.05398952,\n",
       "        2.00288281,  1.57699357,  1.18569171,  0.46193812,  0.2946798 ,\n",
       "        0.22395637,  0.40670157,  1.61622701,  2.03488903,  2.56350792,\n",
       "        2.63681249,  2.89234603,  2.86808325,  2.45148614,  2.09012558,\n",
       "        1.24144448,  1.11961435,  0.48361975,  0.80832803,  2.30126339,\n",
       "        2.95119618,  3.56705783,  3.68062829,  4.08741704,  4.06883279,\n",
       "        3.43748426,  2.84227178,  1.85885482,  1.49594556,  1.30803807,\n",
       "        2.0746387 ,  3.73741353,  4.99810274,  5.66235355,  6.20590868,\n",
       "        6.51001676,  6.55723208,  5.68586699,  4.31540689,  3.49248591,\n",
       "        2.71828043,  2.99774001,  4.08272915,  5.01563821])"
      ]
     },
     "execution_count": 34,
     "metadata": {},
     "output_type": "execute_result"
    }
   ],
   "source": [
    "import numpy as np\n",
    "dataMLP = np.append(y_train_scaled, predictions)\n",
    "dataMLP"
   ]
  },
  {
   "cell_type": "code",
   "execution_count": 26,
   "metadata": {},
   "outputs": [
    {
     "data": {
      "text/plain": [
       "array([-1.13888919, -0.49566738, -0.25613695,  0.01230233,  0.0381138 ,\n",
       "        0.18110933,  0.15013557, -0.11314141, -0.35473676, -0.80127517,\n",
       "       -0.90503728, -1.20496655, -1.07745789, -0.41152199, -0.16373189,\n",
       "        0.11451574,  0.14135967,  0.2895175 ,  0.25699505, -0.01505783,\n",
       "       -0.26542908, -0.7279706 , -0.83534631, -1.15902213, -1.02789987,\n",
       "       -0.34337971, -0.08784617,  0.1981449 ,  0.22550506,  0.37830896,\n",
       "        0.34475405,  0.06444149, -0.19264074, -0.66860422, -0.77907731,\n",
       "       -1.11307772, -0.97834185, -0.27472121, -0.01247668,  0.28125783,\n",
       "        0.30965045,  0.46606795,  0.43199681,  0.14394082, -0.12036862,\n",
       "       -0.60923784, -0.72229208, -1.08623379, -0.94943301, -0.23497155,\n",
       "        0.03088658,  0.3297834 ,  0.35817601,  0.51717466,  0.48258729,\n",
       "        0.19040146, -0.07803781, -0.57465048, -0.68976963, -1.07023068,\n",
       "       -0.93188121, -0.21122499,  0.05773051,  0.35869224,  0.38760109,\n",
       "        0.54814842,  0.51304482,  0.21827785, -0.05274257, -0.5540013 ,\n",
       "       -0.66963668, -1.09397723, -0.95769268, -0.24632859,  0.01901331,\n",
       "        0.3158452 ,  0.34423782,  0.50323647,  0.46813287,  0.17749573,\n",
       "       -0.08991109, -0.58445883, -0.69906176, -1.11307772, -0.97834185,\n",
       "       -0.27472121, -0.01247668,  0.28125783,  0.30965045,  0.46658418,\n",
       "        0.43199681,  0.14445705, -0.12036862, -0.60923784, -0.72229208,\n",
       "       -1.15231115, -1.02067266, -0.33357136, -0.07700536,  0.21001818,\n",
       "        0.23737834,  0.39069846,  0.35714355,  0.07579854, -0.18231615,\n",
       "       -0.66034455, -0.77081764, -1.22664818, -1.10068821, -0.44352821,\n",
       "       -0.19883549,  0.07579854,  0.10212624,  0.24873538,  0.21672916,\n",
       "       -0.05222635, -0.29898399, -0.75584699, -0.86167401, -1.29737161,\n",
       "       -1.17709016, -0.54883901, -0.31447087, -0.05222635, -0.02693111,\n",
       "        0.11296706,  0.08250952, -0.17457271, -0.41100576, -0.84721959,\n",
       "       -0.94840055, -1.350027  , -1.23387539, -0.62678964, -0.40068118,\n",
       "       -0.14721255, -0.12294977,  0.01230233, -0.01712275, -0.26542908,\n",
       "       -0.49360246, -0.91536187, -1.01292922, -1.39132535, -1.27827112,\n",
       "       -0.68822094, -0.46830722, -0.22206581, -0.19831926, -0.06668077,\n",
       "       -0.09558961, -0.33666873, -0.55864737, -0.96853349, -1.06403593,\n",
       "       -1.41042584, -1.2989203 , -0.71661356, -0.49979722, -0.25613695,\n",
       "       -0.23290663, -0.10333305, -0.13172567, -0.36970741, -0.58858867,\n",
       "       -0.9933125 , -1.08726625, -1.43726977, -1.32782914, -0.75687945,\n",
       "       -0.54367671, -0.30517874, -0.28246465, -0.15495599, -0.18283238,\n",
       "       -0.41668429, -0.63143571, -1.0284161 , -1.12030493, -1.37222487,\n",
       "       -1.25762194, -0.65982832, -0.43681723, -0.18696221, -0.16321566,\n",
       "       -0.03002848, -0.05893733, -0.30363005, -0.52818983, -0.94375448,\n",
       "       -1.04028938, -1.30098521, -1.18070377, -0.5540013 , -0.32066562,\n",
       "       -0.0584211 , -0.03364209,  0.10625607,  0.07579854, -0.18076746,\n",
       "       -0.41616806, -0.85186565, -0.95304661, -1.20599901, -1.07900658,\n",
       "       -0.41307068, -0.16528058,  0.11296706,  0.13929475,  0.28796882,\n",
       "        0.25544636, -0.01712275, -0.26697777, -0.72951929, -0.836895  ,\n",
       "       -1.1672818 , -1.037192  , -0.35576922, -0.10178437,  0.18265802,\n",
       "        0.21001818,  0.36178962,  0.32875094,  0.04998707, -0.2060627 ,\n",
       "       -0.67944504, -0.7894019 , -1.03048102, -0.8895504 , -0.15237484,\n",
       "        0.12225918,  0.42993189,  0.45935697,  0.62403414,  0.58789808,\n",
       "        0.28642013,  0.00920495, -0.50289459, -0.62162735, -0.86064155,\n",
       "       -0.70628897,  0.10006132,  0.40050682,  0.7376046 ,  0.76961083,\n",
       "        0.94925865,  0.91002522,  0.58015464,  0.277128  , -0.28298088,\n",
       "       -0.41307068, -0.63556554, -0.46366116,  0.43457796,  0.7690946 ,\n",
       "        1.14387713,  1.18001318,  1.38031018,  1.33643068,  0.96887537,\n",
       "        0.63126135,  0.00765626, -0.13688796, -0.28349711, -0.08423257,\n",
       "        0.95700209,  1.34520658,  1.77987172,  1.8216863 ,  2.05398952,\n",
       "        2.00288281,  1.57699357,  1.18569171,  0.46193812,  0.2946798 ,\n",
       "        0.22395637,  0.40670157,  1.61622701,  2.03488903,  2.56350792,\n",
       "        2.63681249,  2.89234603,  2.86808325,  2.45148614,  2.09012558,\n",
       "        1.24144448,  1.11961435,  0.48361975,  0.80832803,  2.30126339,\n",
       "        2.95119618,  3.56705783,  3.68062829,  4.08741704,  4.06883279,\n",
       "        3.43748426,  2.84227178,  1.85885482,  1.49594556,  1.30803807,\n",
       "        2.0746387 ,  3.73741353,  4.59538675,  5.40380196,  5.68411451,\n",
       "        6.03411803,  5.77393843,  4.83285227,  4.02082345,  2.76122377,\n",
       "        2.25944881,  2.14381343,  2.73902591,  5.28248806])"
      ]
     },
     "execution_count": 26,
     "metadata": {},
     "output_type": "execute_result"
    }
   ],
   "source": [
    "dataSolar = np.append(y_train_scaled, y_test_scaled)\n",
    "dataSolar"
   ]
  },
  {
   "cell_type": "code",
   "execution_count": 35,
   "metadata": {
    "collapsed": true
   },
   "outputs": [],
   "source": [
    "dfMLP = pd.DataFrame(dataMLP)\n",
    "dfSolar = pd.DataFrame(dataSolar)"
   ]
  },
  {
   "cell_type": "code",
   "execution_count": 37,
   "metadata": {},
   "outputs": [
    {
     "data": {
      "text/plain": [
       "314"
      ]
     },
     "execution_count": 37,
     "metadata": {},
     "output_type": "execute_result"
    }
   ],
   "source": [
    "len(dfMLP)"
   ]
  },
  {
   "cell_type": "code",
   "execution_count": 38,
   "metadata": {},
   "outputs": [
    {
     "data": {
      "text/plain": [
       "314"
      ]
     },
     "execution_count": 38,
     "metadata": {},
     "output_type": "execute_result"
    }
   ],
   "source": [
    "len(dfSolar)"
   ]
  },
  {
   "cell_type": "code",
   "execution_count": 17,
   "metadata": {
    "collapsed": true
   },
   "outputs": [],
   "source": [
    "dataname = \"dfMLP.csv\"\n",
    "filesave = os.path.join(output_data,dataname)\n",
    "dfMLP.to_csv(filesave, index=False)"
   ]
  },
  {
   "cell_type": "code",
   "execution_count": 39,
   "metadata": {
    "collapsed": true
   },
   "outputs": [],
   "source": [
    "dataname = \"dfSolar.csv\"\n",
    "filesave = os.path.join(output_data,dataname)\n",
    "dfSolar.to_csv(filesave, index=False)"
   ]
  },
  {
   "cell_type": "code",
   "execution_count": null,
   "metadata": {
    "collapsed": true
   },
   "outputs": [],
   "source": []
  }
 ],
 "metadata": {
  "kernelspec": {
   "display_name": "Python [default]",
   "language": "python",
   "name": "python3"
  },
  "language_info": {
   "codemirror_mode": {
    "name": "ipython",
    "version": 3
   },
   "file_extension": ".py",
   "mimetype": "text/x-python",
   "name": "python",
   "nbconvert_exporter": "python",
   "pygments_lexer": "ipython3",
   "version": "3.6.4"
  }
 },
 "nbformat": 4,
 "nbformat_minor": 2
}
