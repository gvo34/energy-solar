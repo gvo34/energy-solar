{
 "cells": [
  {
   "cell_type": "code",
   "execution_count": 1,
   "metadata": {
    "collapsed": true
   },
   "outputs": [],
   "source": [
    "## Dependencies\n",
    "import pandas as pd\n",
    "import matplotlib.pyplot as plt\n",
    "import os"
   ]
  },
  {
   "cell_type": "code",
   "execution_count": 3,
   "metadata": {},
   "outputs": [
    {
     "data": {
      "text/html": [
       "<div>\n",
       "<style scoped>\n",
       "    .dataframe tbody tr th:only-of-type {\n",
       "        vertical-align: middle;\n",
       "    }\n",
       "\n",
       "    .dataframe tbody tr th {\n",
       "        vertical-align: top;\n",
       "    }\n",
       "\n",
       "    .dataframe thead th {\n",
       "        text-align: right;\n",
       "    }\n",
       "</style>\n",
       "<table border=\"1\" class=\"dataframe\">\n",
       "  <thead>\n",
       "    <tr style=\"text-align: right;\">\n",
       "      <th></th>\n",
       "      <th>MSN</th>\n",
       "      <th>YYYYMM</th>\n",
       "      <th>Value</th>\n",
       "      <th>Column_Order</th>\n",
       "      <th>Description</th>\n",
       "      <th>Unit</th>\n",
       "    </tr>\n",
       "  </thead>\n",
       "  <tbody>\n",
       "    <tr>\n",
       "      <th>0</th>\n",
       "      <td>ESRCUUS</td>\n",
       "      <td>196013</td>\n",
       "      <td>2.6</td>\n",
       "      <td>1</td>\n",
       "      <td>Average Retail Price of Electricity, Residential</td>\n",
       "      <td>Cents per Kilowatthour,  Including Taxes</td>\n",
       "    </tr>\n",
       "    <tr>\n",
       "      <th>1</th>\n",
       "      <td>ESRCUUS</td>\n",
       "      <td>196113</td>\n",
       "      <td>2.6</td>\n",
       "      <td>1</td>\n",
       "      <td>Average Retail Price of Electricity, Residential</td>\n",
       "      <td>Cents per Kilowatthour,  Including Taxes</td>\n",
       "    </tr>\n",
       "    <tr>\n",
       "      <th>2</th>\n",
       "      <td>ESRCUUS</td>\n",
       "      <td>196213</td>\n",
       "      <td>2.6</td>\n",
       "      <td>1</td>\n",
       "      <td>Average Retail Price of Electricity, Residential</td>\n",
       "      <td>Cents per Kilowatthour,  Including Taxes</td>\n",
       "    </tr>\n",
       "    <tr>\n",
       "      <th>3</th>\n",
       "      <td>ESRCUUS</td>\n",
       "      <td>196313</td>\n",
       "      <td>2.5</td>\n",
       "      <td>1</td>\n",
       "      <td>Average Retail Price of Electricity, Residential</td>\n",
       "      <td>Cents per Kilowatthour,  Including Taxes</td>\n",
       "    </tr>\n",
       "    <tr>\n",
       "      <th>4</th>\n",
       "      <td>ESRCUUS</td>\n",
       "      <td>196413</td>\n",
       "      <td>2.5</td>\n",
       "      <td>1</td>\n",
       "      <td>Average Retail Price of Electricity, Residential</td>\n",
       "      <td>Cents per Kilowatthour,  Including Taxes</td>\n",
       "    </tr>\n",
       "  </tbody>\n",
       "</table>\n",
       "</div>"
      ],
      "text/plain": [
       "       MSN  YYYYMM Value  Column_Order  \\\n",
       "0  ESRCUUS  196013   2.6             1   \n",
       "1  ESRCUUS  196113   2.6             1   \n",
       "2  ESRCUUS  196213   2.6             1   \n",
       "3  ESRCUUS  196313   2.5             1   \n",
       "4  ESRCUUS  196413   2.5             1   \n",
       "\n",
       "                                        Description  \\\n",
       "0  Average Retail Price of Electricity, Residential   \n",
       "1  Average Retail Price of Electricity, Residential   \n",
       "2  Average Retail Price of Electricity, Residential   \n",
       "3  Average Retail Price of Electricity, Residential   \n",
       "4  Average Retail Price of Electricity, Residential   \n",
       "\n",
       "                                       Unit  \n",
       "0  Cents per Kilowatthour,  Including Taxes  \n",
       "1  Cents per Kilowatthour,  Including Taxes  \n",
       "2  Cents per Kilowatthour,  Including Taxes  \n",
       "3  Cents per Kilowatthour,  Including Taxes  \n",
       "4  Cents per Kilowatthour,  Including Taxes  "
      ]
     },
     "execution_count": 3,
     "metadata": {},
     "output_type": "execute_result"
    }
   ],
   "source": [
    "## Source: http://www.ecdms.energy.ca.gov\n",
    "filename = \"MER_T09_08.csv\"\n",
    "filepath = os.path.join(\"data\",filename)\n",
    "\n",
    "prices = pd.read_csv(filepath,index_col=False)\n",
    "prices.head()"
   ]
  },
  {
   "cell_type": "code",
   "execution_count": null,
   "metadata": {
    "collapsed": true
   },
   "outputs": [],
   "source": []
  }
 ],
 "metadata": {
  "kernelspec": {
   "display_name": "Python 3",
   "language": "python",
   "name": "python3"
  },
  "language_info": {
   "codemirror_mode": {
    "name": "ipython",
    "version": 3
   },
   "file_extension": ".py",
   "mimetype": "text/x-python",
   "name": "python",
   "nbconvert_exporter": "python",
   "pygments_lexer": "ipython3",
   "version": "3.6.3"
  }
 },
 "nbformat": 4,
 "nbformat_minor": 2
}
