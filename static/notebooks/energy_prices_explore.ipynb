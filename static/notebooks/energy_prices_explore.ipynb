{
 "cells": [
  {
   "cell_type": "code",
   "execution_count": 1,
   "metadata": {
    "collapsed": true
   },
   "outputs": [],
   "source": [
    "## Dependencies\n",
    "import pandas as pd\n",
    "import matplotlib.pyplot as plt\n",
    "import os"
   ]
  },
  {
   "cell_type": "code",
   "execution_count": 2,
   "metadata": {},
   "outputs": [
    {
     "data": {
      "text/html": [
       "<div>\n",
       "<style scoped>\n",
       "    .dataframe tbody tr th:only-of-type {\n",
       "        vertical-align: middle;\n",
       "    }\n",
       "\n",
       "    .dataframe tbody tr th {\n",
       "        vertical-align: top;\n",
       "    }\n",
       "\n",
       "    .dataframe thead th {\n",
       "        text-align: right;\n",
       "    }\n",
       "</style>\n",
       "<table border=\"1\" class=\"dataframe\">\n",
       "  <thead>\n",
       "    <tr style=\"text-align: right;\">\n",
       "      <th></th>\n",
       "      <th>MSN</th>\n",
       "      <th>YYYYMM</th>\n",
       "      <th>Value</th>\n",
       "      <th>Column_Order</th>\n",
       "      <th>Description</th>\n",
       "      <th>Unit</th>\n",
       "    </tr>\n",
       "  </thead>\n",
       "  <tbody>\n",
       "    <tr>\n",
       "      <th>0</th>\n",
       "      <td>ESRCUUS</td>\n",
       "      <td>196013</td>\n",
       "      <td>2.6</td>\n",
       "      <td>1</td>\n",
       "      <td>Average Retail Price of Electricity, Residential</td>\n",
       "      <td>Cents per Kilowatthour,  Including Taxes</td>\n",
       "    </tr>\n",
       "    <tr>\n",
       "      <th>1</th>\n",
       "      <td>ESRCUUS</td>\n",
       "      <td>196113</td>\n",
       "      <td>2.6</td>\n",
       "      <td>1</td>\n",
       "      <td>Average Retail Price of Electricity, Residential</td>\n",
       "      <td>Cents per Kilowatthour,  Including Taxes</td>\n",
       "    </tr>\n",
       "    <tr>\n",
       "      <th>2</th>\n",
       "      <td>ESRCUUS</td>\n",
       "      <td>196213</td>\n",
       "      <td>2.6</td>\n",
       "      <td>1</td>\n",
       "      <td>Average Retail Price of Electricity, Residential</td>\n",
       "      <td>Cents per Kilowatthour,  Including Taxes</td>\n",
       "    </tr>\n",
       "    <tr>\n",
       "      <th>3</th>\n",
       "      <td>ESRCUUS</td>\n",
       "      <td>196313</td>\n",
       "      <td>2.5</td>\n",
       "      <td>1</td>\n",
       "      <td>Average Retail Price of Electricity, Residential</td>\n",
       "      <td>Cents per Kilowatthour,  Including Taxes</td>\n",
       "    </tr>\n",
       "    <tr>\n",
       "      <th>4</th>\n",
       "      <td>ESRCUUS</td>\n",
       "      <td>196413</td>\n",
       "      <td>2.5</td>\n",
       "      <td>1</td>\n",
       "      <td>Average Retail Price of Electricity, Residential</td>\n",
       "      <td>Cents per Kilowatthour,  Including Taxes</td>\n",
       "    </tr>\n",
       "  </tbody>\n",
       "</table>\n",
       "</div>"
      ],
      "text/plain": [
       "       MSN  YYYYMM Value  Column_Order  \\\n",
       "0  ESRCUUS  196013   2.6             1   \n",
       "1  ESRCUUS  196113   2.6             1   \n",
       "2  ESRCUUS  196213   2.6             1   \n",
       "3  ESRCUUS  196313   2.5             1   \n",
       "4  ESRCUUS  196413   2.5             1   \n",
       "\n",
       "                                        Description  \\\n",
       "0  Average Retail Price of Electricity, Residential   \n",
       "1  Average Retail Price of Electricity, Residential   \n",
       "2  Average Retail Price of Electricity, Residential   \n",
       "3  Average Retail Price of Electricity, Residential   \n",
       "4  Average Retail Price of Electricity, Residential   \n",
       "\n",
       "                                       Unit  \n",
       "0  Cents per Kilowatthour,  Including Taxes  \n",
       "1  Cents per Kilowatthour,  Including Taxes  \n",
       "2  Cents per Kilowatthour,  Including Taxes  \n",
       "3  Cents per Kilowatthour,  Including Taxes  \n",
       "4  Cents per Kilowatthour,  Including Taxes  "
      ]
     },
     "execution_count": 2,
     "metadata": {},
     "output_type": "execute_result"
    }
   ],
   "source": [
    "## Source: http://www.ecdms.energy.ca.gov\n",
    "filename = \"MER_T09_08.csv\"\n",
    "filepath = os.path.join(\"..\",\"data\",filename)\n",
    "\n",
    "prices = pd.read_csv(filepath,index_col=False)\n",
    "prices.head()"
   ]
  },
  {
   "cell_type": "code",
   "execution_count": 3,
   "metadata": {},
   "outputs": [
    {
     "data": {
      "text/plain": [
       "Index(['MSN', 'YYYYMM', 'Value', 'Column_Order', 'Description', 'Unit'], dtype='object')"
      ]
     },
     "execution_count": 3,
     "metadata": {},
     "output_type": "execute_result"
    }
   ],
   "source": [
    "prices.columns"
   ]
  },
  {
   "cell_type": "code",
   "execution_count": 4,
   "metadata": {},
   "outputs": [
    {
     "data": {
      "text/plain": [
       "Average Retail Price of Electricity, Total             565\n",
       "Average Retail Price of Electricity, Commercial        565\n",
       "Average Retail Price of Electricity, Transportation    565\n",
       "Average Retail Price of Electricity, Industrial        565\n",
       "Average Retail Price of Electricity, Residential       565\n",
       "Average Retail Price of Electricity, Other             565\n",
       "Name: Description, dtype: int64"
      ]
     },
     "execution_count": 4,
     "metadata": {},
     "output_type": "execute_result"
    }
   ],
   "source": [
    "prices['Description'].value_counts()"
   ]
  },
  {
   "cell_type": "code",
   "execution_count": 5,
   "metadata": {},
   "outputs": [
    {
     "data": {
      "text/plain": [
       "5    565\n",
       "3    565\n",
       "1    565\n",
       "6    565\n",
       "4    565\n",
       "2    565\n",
       "Name: Column_Order, dtype: int64"
      ]
     },
     "execution_count": 5,
     "metadata": {},
     "output_type": "execute_result"
    }
   ],
   "source": [
    "prices['Column_Order'].value_counts()"
   ]
  },
  {
   "cell_type": "code",
   "execution_count": 6,
   "metadata": {
    "collapsed": true
   },
   "outputs": [],
   "source": [
    "residential = prices.loc[prices['Description']== \"Average Retail Price of Electricity, Residential\"]"
   ]
  },
  {
   "cell_type": "code",
   "execution_count": 7,
   "metadata": {
    "collapsed": true
   },
   "outputs": [],
   "source": [
    "ByDesc = prices.groupby('Description')"
   ]
  },
  {
   "cell_type": "code",
   "execution_count": 8,
   "metadata": {},
   "outputs": [
    {
     "data": {
      "text/html": [
       "<div>\n",
       "<style scoped>\n",
       "    .dataframe tbody tr th:only-of-type {\n",
       "        vertical-align: middle;\n",
       "    }\n",
       "\n",
       "    .dataframe tbody tr th {\n",
       "        vertical-align: top;\n",
       "    }\n",
       "\n",
       "    .dataframe thead th {\n",
       "        text-align: right;\n",
       "    }\n",
       "</style>\n",
       "<table border=\"1\" class=\"dataframe\">\n",
       "  <thead>\n",
       "    <tr style=\"text-align: right;\">\n",
       "      <th></th>\n",
       "      <th>count</th>\n",
       "      <th>unique</th>\n",
       "      <th>top</th>\n",
       "      <th>freq</th>\n",
       "    </tr>\n",
       "    <tr>\n",
       "      <th>Description</th>\n",
       "      <th></th>\n",
       "      <th></th>\n",
       "      <th></th>\n",
       "      <th></th>\n",
       "    </tr>\n",
       "  </thead>\n",
       "  <tbody>\n",
       "    <tr>\n",
       "      <th>Average Retail Price of Electricity, Commercial</th>\n",
       "      <td>565</td>\n",
       "      <td>272</td>\n",
       "      <td>Not Available</td>\n",
       "      <td>78</td>\n",
       "    </tr>\n",
       "    <tr>\n",
       "      <th>Average Retail Price of Electricity, Industrial</th>\n",
       "      <td>565</td>\n",
       "      <td>232</td>\n",
       "      <td>Not Available</td>\n",
       "      <td>78</td>\n",
       "    </tr>\n",
       "    <tr>\n",
       "      <th>Average Retail Price of Electricity, Other</th>\n",
       "      <td>565</td>\n",
       "      <td>108</td>\n",
       "      <td>Not Applicable</td>\n",
       "      <td>198</td>\n",
       "    </tr>\n",
       "    <tr>\n",
       "      <th>Average Retail Price of Electricity, Residential</th>\n",
       "      <td>565</td>\n",
       "      <td>307</td>\n",
       "      <td>Not Available</td>\n",
       "      <td>78</td>\n",
       "    </tr>\n",
       "    <tr>\n",
       "      <th>Average Retail Price of Electricity, Total</th>\n",
       "      <td>565</td>\n",
       "      <td>267</td>\n",
       "      <td>Not Available</td>\n",
       "      <td>78</td>\n",
       "    </tr>\n",
       "    <tr>\n",
       "      <th>Average Retail Price of Electricity, Transportation</th>\n",
       "      <td>565</td>\n",
       "      <td>146</td>\n",
       "      <td>Not Available</td>\n",
       "      <td>367</td>\n",
       "    </tr>\n",
       "  </tbody>\n",
       "</table>\n",
       "</div>"
      ],
      "text/plain": [
       "                                                   count unique  \\\n",
       "Description                                                       \n",
       "Average Retail Price of Electricity, Commercial      565    272   \n",
       "Average Retail Price of Electricity, Industrial      565    232   \n",
       "Average Retail Price of Electricity, Other           565    108   \n",
       "Average Retail Price of Electricity, Residential     565    307   \n",
       "Average Retail Price of Electricity, Total           565    267   \n",
       "Average Retail Price of Electricity, Transporta...   565    146   \n",
       "\n",
       "                                                               top freq  \n",
       "Description                                                              \n",
       "Average Retail Price of Electricity, Commercial      Not Available   78  \n",
       "Average Retail Price of Electricity, Industrial      Not Available   78  \n",
       "Average Retail Price of Electricity, Other          Not Applicable  198  \n",
       "Average Retail Price of Electricity, Residential     Not Available   78  \n",
       "Average Retail Price of Electricity, Total           Not Available   78  \n",
       "Average Retail Price of Electricity, Transporta...   Not Available  367  "
      ]
     },
     "execution_count": 8,
     "metadata": {},
     "output_type": "execute_result"
    }
   ],
   "source": [
    "ByDesc['Value'].describe()"
   ]
  },
  {
   "cell_type": "code",
   "execution_count": 9,
   "metadata": {},
   "outputs": [
    {
     "data": {
      "text/plain": [
       "Index(['MSN', 'YYYYMM', 'Value', 'Column_Order', 'Description', 'Unit'], dtype='object')"
      ]
     },
     "execution_count": 9,
     "metadata": {},
     "output_type": "execute_result"
    }
   ],
   "source": [
    "residential.columns\n"
   ]
  },
  {
   "cell_type": "code",
   "execution_count": 10,
   "metadata": {
    "collapsed": true
   },
   "outputs": [],
   "source": [
    "#### clean up"
   ]
  },
  {
   "cell_type": "code",
   "execution_count": 11,
   "metadata": {
    "collapsed": true
   },
   "outputs": [],
   "source": [
    "r = residential.drop(columns=['MSN','Column_Order','Description','Unit'])"
   ]
  },
  {
   "cell_type": "code",
   "execution_count": 12,
   "metadata": {},
   "outputs": [
    {
     "data": {
      "text/html": [
       "<div>\n",
       "<style scoped>\n",
       "    .dataframe tbody tr th:only-of-type {\n",
       "        vertical-align: middle;\n",
       "    }\n",
       "\n",
       "    .dataframe tbody tr th {\n",
       "        vertical-align: top;\n",
       "    }\n",
       "\n",
       "    .dataframe thead th {\n",
       "        text-align: right;\n",
       "    }\n",
       "</style>\n",
       "<table border=\"1\" class=\"dataframe\">\n",
       "  <thead>\n",
       "    <tr style=\"text-align: right;\">\n",
       "      <th></th>\n",
       "      <th>YYYYMM</th>\n",
       "      <th>Value</th>\n",
       "    </tr>\n",
       "  </thead>\n",
       "  <tbody>\n",
       "    <tr>\n",
       "      <th>22</th>\n",
       "      <td>197607</td>\n",
       "      <td>3.9</td>\n",
       "    </tr>\n",
       "    <tr>\n",
       "      <th>23</th>\n",
       "      <td>197608</td>\n",
       "      <td>3.7</td>\n",
       "    </tr>\n",
       "    <tr>\n",
       "      <th>24</th>\n",
       "      <td>197609</td>\n",
       "      <td>3.8</td>\n",
       "    </tr>\n",
       "    <tr>\n",
       "      <th>25</th>\n",
       "      <td>197610</td>\n",
       "      <td>3.9</td>\n",
       "    </tr>\n",
       "    <tr>\n",
       "      <th>26</th>\n",
       "      <td>197611</td>\n",
       "      <td>3.8</td>\n",
       "    </tr>\n",
       "  </tbody>\n",
       "</table>\n",
       "</div>"
      ],
      "text/plain": [
       "    YYYYMM Value\n",
       "22  197607   3.9\n",
       "23  197608   3.7\n",
       "24  197609   3.8\n",
       "25  197610   3.9\n",
       "26  197611   3.8"
      ]
     },
     "execution_count": 12,
     "metadata": {},
     "output_type": "execute_result"
    }
   ],
   "source": [
    "r = r.loc[r['Value'] != \"Not Available\"]\n",
    "r[\"dates\"] = r['YYYYMM'].astype(str)\n",
    "#remove rows tha contain 13 in the string\n",
    "r = r.loc[~r['dates'].str.contains('13')]\n",
    "r = r.drop(columns=[\"dates\"])\n",
    "r.head()"
   ]
  },
  {
   "cell_type": "code",
   "execution_count": 13,
   "metadata": {
    "collapsed": true
   },
   "outputs": [],
   "source": [
    "r.to_csv(\"../data/monthprices.csv\", index=False)"
   ]
  },
  {
   "cell_type": "code",
   "execution_count": null,
   "metadata": {},
   "outputs": [],
   "source": []
  },
  {
   "cell_type": "code",
   "execution_count": 17,
   "metadata": {},
   "outputs": [],
   "source": [
    "r[\"date\"] = pd.to_datetime(r[\"YYYYMM\"], format=\"%Y%m\")"
   ]
  },
  {
   "cell_type": "code",
   "execution_count": 18,
   "metadata": {},
   "outputs": [
    {
     "data": {
      "text/html": [
       "<div>\n",
       "<style scoped>\n",
       "    .dataframe tbody tr th:only-of-type {\n",
       "        vertical-align: middle;\n",
       "    }\n",
       "\n",
       "    .dataframe tbody tr th {\n",
       "        vertical-align: top;\n",
       "    }\n",
       "\n",
       "    .dataframe thead th {\n",
       "        text-align: right;\n",
       "    }\n",
       "</style>\n",
       "<table border=\"1\" class=\"dataframe\">\n",
       "  <thead>\n",
       "    <tr style=\"text-align: right;\">\n",
       "      <th></th>\n",
       "      <th>YYYYMM</th>\n",
       "      <th>Value</th>\n",
       "      <th>date</th>\n",
       "    </tr>\n",
       "  </thead>\n",
       "  <tbody>\n",
       "    <tr>\n",
       "      <th>22</th>\n",
       "      <td>197607</td>\n",
       "      <td>3.9</td>\n",
       "      <td>1976-07-01</td>\n",
       "    </tr>\n",
       "    <tr>\n",
       "      <th>23</th>\n",
       "      <td>197608</td>\n",
       "      <td>3.7</td>\n",
       "      <td>1976-08-01</td>\n",
       "    </tr>\n",
       "    <tr>\n",
       "      <th>24</th>\n",
       "      <td>197609</td>\n",
       "      <td>3.8</td>\n",
       "      <td>1976-09-01</td>\n",
       "    </tr>\n",
       "    <tr>\n",
       "      <th>25</th>\n",
       "      <td>197610</td>\n",
       "      <td>3.9</td>\n",
       "      <td>1976-10-01</td>\n",
       "    </tr>\n",
       "    <tr>\n",
       "      <th>26</th>\n",
       "      <td>197611</td>\n",
       "      <td>3.8</td>\n",
       "      <td>1976-11-01</td>\n",
       "    </tr>\n",
       "  </tbody>\n",
       "</table>\n",
       "</div>"
      ],
      "text/plain": [
       "    YYYYMM Value       date\n",
       "22  197607   3.9 1976-07-01\n",
       "23  197608   3.7 1976-08-01\n",
       "24  197609   3.8 1976-09-01\n",
       "25  197610   3.9 1976-10-01\n",
       "26  197611   3.8 1976-11-01"
      ]
     },
     "execution_count": 18,
     "metadata": {},
     "output_type": "execute_result"
    }
   ],
   "source": [
    "r.head()"
   ]
  },
  {
   "cell_type": "code",
   "execution_count": 49,
   "metadata": {},
   "outputs": [
    {
     "data": {
      "image/png": "[encoded data removed]",
      "text/plain": [
       "<matplotlib.figure.Figure at 0x10887b358>"
      ]
     },
     "metadata": {},
     "output_type": "display_data"
    }
   ],
   "source": [
    "plt.show()\n"
   ]
  },
  {
   "cell_type": "code",
   "execution_count": 51,
   "metadata": {
    "collapsed": true
   },
   "outputs": [],
   "source": [
    "toplt = tosave[[\"date\",\"Value\"]]"
   ]
  },
  {
   "cell_type": "code",
   "execution_count": 58,
   "metadata": {},
   "outputs": [
    {
     "data": {
      "text/plain": [
       "<matplotlib.axes._subplots.AxesSubplot at 0x10899db00>"
      ]
     },
     "execution_count": 58,
     "metadata": {},
     "output_type": "execute_result"
    }
   ],
   "source": [
    "toplt.reset_index().drop(columns=\"index\").plot()"
   ]
  },
  {
   "cell_type": "code",
   "execution_count": 81,
   "metadata": {},
   "outputs": [
    {
     "data": {
      "text/plain": [
       "[]"
      ]
     },
     "execution_count": 81,
     "metadata": {},
     "output_type": "execute_result"
    }
   ],
   "source": [
    "dates = tosave[\"date\"].values\n",
    "values = tosave[\"Value\"].values.astype(float)\n",
    "plt.plot(x=tosave[\"date\"],y=tosave[\"Value\"])\n"
   ]
  },
  {
   "cell_type": "code",
   "execution_count": 82,
   "metadata": {},
   "outputs": [
    {
     "data": {
      "image/png": "[encoded data removed]",
      "text/plain": [
       "<matplotlib.figure.Figure at 0x108fa21d0>"
      ]
     },
     "metadata": {},
     "output_type": "display_data"
    }
   ],
   "source": [
    "plt.show()"
   ]
  },
  {
   "cell_type": "code",
   "execution_count": 83,
   "metadata": {},
   "outputs": [
    {
     "data": {
      "text/plain": [
       "YYYYMM             int64\n",
       "Value             object\n",
       "date      datetime64[ns]\n",
       "dtype: object"
      ]
     },
     "execution_count": 83,
     "metadata": {},
     "output_type": "execute_result"
    }
   ],
   "source": [
    "tosave.dtypes\n"
   ]
  },
  {
   "cell_type": "code",
   "execution_count": 84,
   "metadata": {},
   "outputs": [
    {
     "data": {
      "text/plain": [
       "array([ 3.9 ,  3.7 ,  3.8 ,  3.9 ,  3.8 ,  3.6 ,  3.6 ,  3.7 ,  4.  ,\n",
       "        4.1 ,  4.2 ,  4.2 ,  4.2 ,  4.4 ,  4.3 ,  4.3 ,  4.2 ,  4.  ,\n",
       "        3.9 ,  3.9 ,  4.1 ,  4.3 ,  4.5 ,  4.5 ,  4.5 ,  4.5 ,  4.5 ,\n",
       "        4.5 ,  4.4 ,  4.2 ,  4.1 ,  4.1 ,  4.3 ,  4.5 ,  4.7 ,  4.9 ,\n",
       "        4.9 ,  4.9 ,  5.  ,  5.  ,  4.8 ,  4.7 ,  4.7 ,  4.7 ,  4.9 ,\n",
       "        5.1 ,  5.4 ,  5.6 ,  5.7 ,  5.7 ,  5.7 ,  5.7 ,  5.6 ,  5.5 ,\n",
       "        5.4 ,  5.5 ,  5.8 ,  6.  ,  6.3 ,  6.5 ,  6.6 ,  6.6 ,  6.6 ,\n",
       "        6.6 ,  6.4 ,  6.3 ,  6.2 ,  6.4 ,  6.6 ,  6.7 ,  6.9 ,  7.1 ,\n",
       "        7.2 ,  7.2 ,  7.2 ,  7.2 ,  6.9 ,  6.7 ,  6.7 ,  6.7 ,  6.9 ,\n",
       "        6.9 ,  7.2 ,  7.4 ,  7.5 ,  7.5 ,  7.6 ,  7.5 ,  7.3 ,  7.  ,\n",
       "        7.17,  7.48,  7.57,  7.69,  7.96,  8.1 ,  8.18,  8.24,  8.15,\n",
       "        8.04,  7.8 ,  7.61,  7.41,  7.61,  7.79,  7.98,  8.14,  8.32,\n",
       "        8.38,  8.41,  8.37,  8.32,  7.95,  7.81,  7.7 ,  7.78,  8.01,\n",
       "        8.03,  8.38,  8.61,  8.54,  8.56,  8.59,  8.44,  8.14,  7.86,\n",
       "        7.73,  7.79,  7.8 ,  8.13,  8.56,  8.74,  8.73,  8.73,  8.79,\n",
       "        8.76,  8.21,  7.9 ,  7.74,  7.85,  8.08,  8.3 ,  8.53,  8.77,\n",
       "        8.8 ,  8.84,  8.82,  8.56,  8.29,  8.06,  7.85,  8.01,  8.14,\n",
       "        8.41,  8.53,  8.72,  8.8 ,  8.78,  8.57,  8.65,  8.26,  8.02,\n",
       "        7.75,  7.81,  8.09,  8.24,  8.54,  8.65,  8.73,  8.86,  8.79,\n",
       "        8.67,  8.25,  7.99,  7.87,  7.98,  8.24,  8.38,  8.65,  8.91,\n",
       "        8.74,  8.8 ,  8.75,  8.59,  8.25,  8.03,  7.87,  7.97,  8.01,\n",
       "        8.23,  8.49,  8.53,  8.58,  8.57,  8.43,  8.25,  8.04,  7.92,\n",
       "        7.58,  7.92,  7.9 ,  8.09,  8.27,  8.43,  8.49,  8.42,  8.36,\n",
       "        8.37,  8.09,  7.94,  7.66,  7.71,  8.09,  8.15,  8.34,  8.56,\n",
       "        8.61,  8.63,  8.51,  8.49,  8.15,  7.82,  7.73,  8.04,  8.32,\n",
       "        8.46,  8.83,  9.07,  9.03,  9.01,  8.92,  8.84,  8.48,  8.29,\n",
       "        8.07,  8.19,  8.17,  8.37,  8.64,  8.73,  8.82,  8.72,  8.59,\n",
       "        8.47,  8.31,  8.08,  8.  ,  8.02,  8.35,  8.82,  8.99,  9.25,\n",
       "        9.21,  9.22,  8.92,  8.85,  8.72,  8.3 ,  8.24,  8.33,  8.62,\n",
       "        8.93,  9.07,  9.29,  9.36,  9.5 ,  9.39,  9.05,  8.96,  8.58,\n",
       "        8.52,  8.76,  8.87,  9.22,  9.56,  9.79,  9.77,  9.93,  9.94,\n",
       "        9.76,  9.76,  9.27,  9.55,  9.8 ,  9.87, 10.32, 10.61, 10.85,\n",
       "       10.96, 10.94, 10.94, 10.58, 10.18,  9.84, 10.06,  9.89, 10.27,\n",
       "       10.63, 10.77, 11.09, 11.07, 11.07, 10.96, 10.82, 10.7 , 10.33,\n",
       "       10.14, 10.16, 10.45, 10.93, 11.4 , 11.77, 12.07, 12.09, 11.92,\n",
       "       11.81, 11.42, 10.86, 10.98, 11.18, 11.28, 11.5 , 11.78, 11.81,\n",
       "       11.85, 11.94, 11.96, 11.65, 11.26, 10.9 , 10.49, 10.89, 11.11,\n",
       "       11.71, 11.91, 11.91, 12.04, 12.03, 11.95, 11.86, 11.62, 11.06,\n",
       "       10.87, 11.06, 11.52, 11.67, 11.93, 11.97, 12.09, 12.09, 12.17,\n",
       "       12.08, 11.78, 11.4 , 11.41, 11.51, 11.7 , 11.92, 11.9 , 12.09,\n",
       "       12.  , 12.17, 12.3 , 12.03, 11.75, 11.62, 11.65, 11.94, 12.25,\n",
       "       12.31, 12.85, 12.99, 13.09, 13.04, 12.95, 12.6 , 12.48, 12.17,\n",
       "       12.1 , 12.29, 12.33, 12.62, 12.93, 12.92, 12.94, 12.91, 13.03,\n",
       "       12.72, 12.71, 12.32, 11.99, 12.14, 12.56, 12.43, 12.79, 12.73,\n",
       "       12.68, 12.88, 12.87, 12.46, 12.75, 12.23, 12.21, 12.78, 12.89,\n",
       "       12.69, 13.01, 13.21, 13.11, 13.19, 13.3 , 12.84, 12.97, 12.5 ,\n",
       "       12.23, 12.62, 12.99])"
      ]
     },
     "execution_count": 84,
     "metadata": {},
     "output_type": "execute_result"
    }
   ],
   "source": [
    "values"
   ]
  },
  {
   "cell_type": "code",
   "execution_count": null,
   "metadata": {
    "collapsed": true
   },
   "outputs": [],
   "source": []
  }
 ],
 "metadata": {
  "kernelspec": {
   "display_name": "Python 3",
   "language": "python",
   "name": "python3"
  },
  "language_info": {
   "codemirror_mode": {
    "name": "ipython",
    "version": 3
   },
   "file_extension": ".py",
   "mimetype": "text/x-python",
   "name": "python",
   "nbconvert_exporter": "python",
   "pygments_lexer": "ipython3",
   "version": "3.6.3"
  }
 },
 "nbformat": 4,
 "nbformat_minor": 2
}
