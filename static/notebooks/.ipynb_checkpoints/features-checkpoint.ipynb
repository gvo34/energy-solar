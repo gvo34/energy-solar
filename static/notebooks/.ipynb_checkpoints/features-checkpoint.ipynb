{
 "cells": [
  {
   "cell_type": "code",
   "execution_count": 1,
   "metadata": {
    "collapsed": true
   },
   "outputs": [],
   "source": [
    "## Dependencies\n",
    "import pandas as pd\n",
    "import matplotlib.pyplot as plt\n",
    "import os"
   ]
  },
  {
   "cell_type": "markdown",
   "metadata": {},
   "source": [
    "## Feature: Solar consumption"
   ]
  },
  {
   "cell_type": "code",
   "execution_count": 2,
   "metadata": {},
   "outputs": [
    {
     "name": "stdout",
     "output_type": "stream",
     "text": [
      "Original count:  6732\n",
      "Solar consumption count is :  445\n",
      "After cleanup count is :  399\n"
     ]
    },
    {
     "name": "stderr",
     "output_type": "stream",
     "text": [
      "/anaconda3/envs/PythonData_3/lib/python3.6/site-packages/ipykernel_launcher.py:12: SettingWithCopyWarning: \n",
      "A value is trying to be set on a copy of a slice from a DataFrame.\n",
      "Try using .loc[row_indexer,col_indexer] = value instead\n",
      "\n",
      "See the caveats in the documentation: http://pandas.pydata.org/pandas-docs/stable/indexing.html#indexing-view-versus-copy\n",
      "  if sys.path[0] == '':\n"
     ]
    },
    {
     "data": {
      "text/html": [
       "<div>\n",
       "<style scoped>\n",
       "    .dataframe tbody tr th:only-of-type {\n",
       "        vertical-align: middle;\n",
       "    }\n",
       "\n",
       "    .dataframe tbody tr th {\n",
       "        vertical-align: top;\n",
       "    }\n",
       "\n",
       "    .dataframe thead th {\n",
       "        text-align: right;\n",
       "    }\n",
       "</style>\n",
       "<table border=\"1\" class=\"dataframe\">\n",
       "  <thead>\n",
       "    <tr style=\"text-align: right;\">\n",
       "      <th></th>\n",
       "      <th>Value</th>\n",
       "      <th>YYYYMM</th>\n",
       "    </tr>\n",
       "  </thead>\n",
       "  <tbody>\n",
       "    <tr>\n",
       "      <th>6287</th>\n",
       "      <td>-0.001</td>\n",
       "      <td>198401</td>\n",
       "    </tr>\n",
       "    <tr>\n",
       "      <th>6288</th>\n",
       "      <td>0.001</td>\n",
       "      <td>198402</td>\n",
       "    </tr>\n",
       "    <tr>\n",
       "      <th>6289</th>\n",
       "      <td>0.002</td>\n",
       "      <td>198403</td>\n",
       "    </tr>\n",
       "    <tr>\n",
       "      <th>6290</th>\n",
       "      <td>0.003</td>\n",
       "      <td>198404</td>\n",
       "    </tr>\n",
       "    <tr>\n",
       "      <th>6291</th>\n",
       "      <td>0.007</td>\n",
       "      <td>198405</td>\n",
       "    </tr>\n",
       "  </tbody>\n",
       "</table>\n",
       "</div>"
      ],
      "text/plain": [
       "       Value  YYYYMM\n",
       "6287  -0.001  198401\n",
       "6288   0.001  198402\n",
       "6289   0.002  198403\n",
       "6290   0.003  198404\n",
       "6291   0.007  198405"
      ]
     },
     "execution_count": 2,
     "metadata": {},
     "output_type": "execute_result"
    }
   ],
   "source": [
    "## Source: https://www.eia.gov/totalenergy/data/browser/?tbl=T10.05#/?f=M\n",
    "filename = \"MER_T10_05.csv\"\n",
    "filepath = os.path.join(\"..\",\"data\",filename)\n",
    "eiadf = pd.read_csv(filepath)\n",
    "print(\"Original count: \",len(eiadf))\n",
    "# Filter rows not to be used\n",
    "values = eiadf.loc[(eiadf['Description'] == \"Solar Energy Consumption\") & \n",
    "                   (eiadf['Value'] != \"Not Available\")]\n",
    "print(\"Solar consumption count is : \",len(values))\n",
    "# Remove the data for month 13 (total year consumption)\n",
    "v = values[['Value', 'YYYYMM']]            # Warning msg!!\n",
    "v[\"dates\"] = v['YYYYMM'].astype(str)       # make a copy to a string type\n",
    "v = v.loc[~v['dates'].str.contains('13')]  # remove rows tha contain 13 in the string\n",
    "v = v.drop(columns=[\"dates\"])              # remove column added\n",
    "print(\"After cleanup count is : \",len(v))\n",
    "v.to_csv(\"../data/monthdata.csv\", index=False)\n",
    "v.head()"
   ]
  },
  {
   "cell_type": "markdown",
   "metadata": {},
   "source": [
    "## Feature: Temperature"
   ]
  },
  {
   "cell_type": "code",
   "execution_count": 3,
   "metadata": {},
   "outputs": [
    {
     "name": "stdout",
     "output_type": "stream",
     "text": [
      "Original count:  1482\n",
      "Temperature counts:  414\n"
     ]
    },
    {
     "data": {
      "text/html": [
       "<div>\n",
       "<style scoped>\n",
       "    .dataframe tbody tr th:only-of-type {\n",
       "        vertical-align: middle;\n",
       "    }\n",
       "\n",
       "    .dataframe tbody tr th {\n",
       "        vertical-align: top;\n",
       "    }\n",
       "\n",
       "    .dataframe thead th {\n",
       "        text-align: right;\n",
       "    }\n",
       "</style>\n",
       "<table border=\"1\" class=\"dataframe\">\n",
       "  <thead>\n",
       "    <tr style=\"text-align: right;\">\n",
       "      <th></th>\n",
       "      <th>YEAR</th>\n",
       "      <th>REDTI</th>\n",
       "      <th>DEGREE DAYS</th>\n",
       "      <th>MONTH</th>\n",
       "      <th>old</th>\n",
       "      <th>YYYYMM</th>\n",
       "    </tr>\n",
       "  </thead>\n",
       "  <tbody>\n",
       "    <tr>\n",
       "      <th>89</th>\n",
       "      <td>1984</td>\n",
       "      <td>61.6</td>\n",
       "      <td>998.5</td>\n",
       "      <td>1</td>\n",
       "      <td>19841</td>\n",
       "      <td>198401</td>\n",
       "    </tr>\n",
       "    <tr>\n",
       "      <th>90</th>\n",
       "      <td>1985</td>\n",
       "      <td>73.5</td>\n",
       "      <td>1056.2</td>\n",
       "      <td>1</td>\n",
       "      <td>19851</td>\n",
       "      <td>198501</td>\n",
       "    </tr>\n",
       "    <tr>\n",
       "      <th>91</th>\n",
       "      <td>1986</td>\n",
       "      <td>32.9</td>\n",
       "      <td>858.5</td>\n",
       "      <td>1</td>\n",
       "      <td>19861</td>\n",
       "      <td>198601</td>\n",
       "    </tr>\n",
       "    <tr>\n",
       "      <th>92</th>\n",
       "      <td>1987</td>\n",
       "      <td>46.0</td>\n",
       "      <td>922.3</td>\n",
       "      <td>1</td>\n",
       "      <td>19871</td>\n",
       "      <td>198701</td>\n",
       "    </tr>\n",
       "    <tr>\n",
       "      <th>93</th>\n",
       "      <td>1988</td>\n",
       "      <td>62.5</td>\n",
       "      <td>1002.7</td>\n",
       "      <td>1</td>\n",
       "      <td>19881</td>\n",
       "      <td>198801</td>\n",
       "    </tr>\n",
       "  </tbody>\n",
       "</table>\n",
       "</div>"
      ],
      "text/plain": [
       "    YEAR  REDTI  DEGREE DAYS  MONTH    old  YYYYMM\n",
       "89  1984   61.6        998.5      1  19841  198401\n",
       "90  1985   73.5       1056.2      1  19851  198501\n",
       "91  1986   32.9        858.5      1  19861  198601\n",
       "92  1987   46.0        922.3      1  19871  198701\n",
       "93  1988   62.5       1002.7      1  19881  198801"
      ]
     },
     "execution_count": 3,
     "metadata": {},
     "output_type": "execute_result"
    }
   ],
   "source": [
    "filename = \"TemperatureIndex(REDTI).csv\"\n",
    "filepath = os.path.join(\"..\",\"data\",filename)\n",
    "\n",
    "temps = pd.read_csv(filepath,index_col=False)\n",
    "print(\"Original count: \", len(temps))\n",
    "t = temps.loc[temps['YEAR']>=1984]\n",
    "print(\"Temperature counts: \", len(t))\n",
    "t.head()"
   ]
  },
  {
   "cell_type": "code",
   "execution_count": 4,
   "metadata": {
    "collapsed": true
   },
   "outputs": [],
   "source": [
    "## extra 15 rows of temperature ????"
   ]
  },
  {
   "cell_type": "code",
   "execution_count": null,
   "metadata": {
    "collapsed": true
   },
   "outputs": [],
   "source": []
  },
  {
   "cell_type": "code",
   "execution_count": null,
   "metadata": {
    "collapsed": true
   },
   "outputs": [],
   "source": []
  },
  {
   "cell_type": "markdown",
   "metadata": {},
   "source": [
    "## Feature: Price"
   ]
  },
  {
   "cell_type": "code",
   "execution_count": 5,
   "metadata": {},
   "outputs": [
    {
     "name": "stdout",
     "output_type": "stream",
     "text": [
      "Original count:  3390\n",
      " residential price count:  487\n",
      " after cleanup count:  417\n"
     ]
    },
    {
     "data": {
      "text/html": [
       "<div>\n",
       "<style scoped>\n",
       "    .dataframe tbody tr th:only-of-type {\n",
       "        vertical-align: middle;\n",
       "    }\n",
       "\n",
       "    .dataframe tbody tr th {\n",
       "        vertical-align: top;\n",
       "    }\n",
       "\n",
       "    .dataframe thead th {\n",
       "        text-align: right;\n",
       "    }\n",
       "</style>\n",
       "<table border=\"1\" class=\"dataframe\">\n",
       "  <thead>\n",
       "    <tr style=\"text-align: right;\">\n",
       "      <th></th>\n",
       "      <th>YYYYMM</th>\n",
       "      <th>Value</th>\n",
       "    </tr>\n",
       "  </thead>\n",
       "  <tbody>\n",
       "    <tr>\n",
       "      <th>22</th>\n",
       "      <td>197607</td>\n",
       "      <td>3.9</td>\n",
       "    </tr>\n",
       "    <tr>\n",
       "      <th>23</th>\n",
       "      <td>197608</td>\n",
       "      <td>3.7</td>\n",
       "    </tr>\n",
       "    <tr>\n",
       "      <th>24</th>\n",
       "      <td>197609</td>\n",
       "      <td>3.8</td>\n",
       "    </tr>\n",
       "    <tr>\n",
       "      <th>25</th>\n",
       "      <td>197610</td>\n",
       "      <td>3.9</td>\n",
       "    </tr>\n",
       "    <tr>\n",
       "      <th>26</th>\n",
       "      <td>197611</td>\n",
       "      <td>3.8</td>\n",
       "    </tr>\n",
       "  </tbody>\n",
       "</table>\n",
       "</div>"
      ],
      "text/plain": [
       "    YYYYMM Value\n",
       "22  197607   3.9\n",
       "23  197608   3.7\n",
       "24  197609   3.8\n",
       "25  197610   3.9\n",
       "26  197611   3.8"
      ]
     },
     "execution_count": 5,
     "metadata": {},
     "output_type": "execute_result"
    }
   ],
   "source": [
    "## Source: http://www.ecdms.energy.ca.gov\n",
    "filename = \"MER_T09_08.csv\"\n",
    "filepath = os.path.join(\"..\",\"data\",filename)\n",
    "\n",
    "prices = pd.read_csv(filepath,index_col=False)\n",
    "print(\"Original count: \",len(prices))\n",
    "residential = prices.loc[(prices['Description']== \"Average Retail Price of Electricity, Residential\") & \n",
    "                         (prices['Value'] != \"Not Available\")]\n",
    "r = residential.drop(columns=['MSN','Column_Order','Description','Unit'])\n",
    "print(\" residential price count: \", len(r))\n",
    "r[\"dates\"] = r['YYYYMM'].astype(str)\n",
    "#remove rows tha contain 13 in the string\n",
    "r = r.loc[~r['dates'].str.contains('13')]\n",
    "r = r.drop(columns=[\"dates\"])\n",
    "print(\" after cleanup count: \", len(r))\n",
    "r.head()"
   ]
  },
  {
   "cell_type": "markdown",
   "metadata": {},
   "source": [
    "## Adding features = X"
   ]
  },
  {
   "cell_type": "code",
   "execution_count": 6,
   "metadata": {},
   "outputs": [
    {
     "data": {
      "text/html": [
       "<div>\n",
       "<style scoped>\n",
       "    .dataframe tbody tr th:only-of-type {\n",
       "        vertical-align: middle;\n",
       "    }\n",
       "\n",
       "    .dataframe tbody tr th {\n",
       "        vertical-align: top;\n",
       "    }\n",
       "\n",
       "    .dataframe thead th {\n",
       "        text-align: right;\n",
       "    }\n",
       "</style>\n",
       "<table border=\"1\" class=\"dataframe\">\n",
       "  <thead>\n",
       "    <tr style=\"text-align: right;\">\n",
       "      <th></th>\n",
       "      <th>Value</th>\n",
       "      <th>YYYYMM</th>\n",
       "      <th>Price</th>\n",
       "    </tr>\n",
       "  </thead>\n",
       "  <tbody>\n",
       "    <tr>\n",
       "      <th>0</th>\n",
       "      <td>3.132</td>\n",
       "      <td>199001</td>\n",
       "      <td>7.17</td>\n",
       "    </tr>\n",
       "    <tr>\n",
       "      <th>1</th>\n",
       "      <td>3.395</td>\n",
       "      <td>199002</td>\n",
       "      <td>7.48</td>\n",
       "    </tr>\n",
       "    <tr>\n",
       "      <th>2</th>\n",
       "      <td>4.685</td>\n",
       "      <td>199003</td>\n",
       "      <td>7.57</td>\n",
       "    </tr>\n",
       "    <tr>\n",
       "      <th>3</th>\n",
       "      <td>5.16</td>\n",
       "      <td>199004</td>\n",
       "      <td>7.69</td>\n",
       "    </tr>\n",
       "    <tr>\n",
       "      <th>4</th>\n",
       "      <td>5.863</td>\n",
       "      <td>199005</td>\n",
       "      <td>7.96</td>\n",
       "    </tr>\n",
       "  </tbody>\n",
       "</table>\n",
       "</div>"
      ],
      "text/plain": [
       "   Value  YYYYMM Price\n",
       "0  3.132  199001  7.17\n",
       "1  3.395  199002  7.48\n",
       "2  4.685  199003  7.57\n",
       "3   5.16  199004  7.69\n",
       "4  5.863  199005  7.96"
      ]
     },
     "execution_count": 6,
     "metadata": {},
     "output_type": "execute_result"
    }
   ],
   "source": [
    "# Merge values and price \n",
    "merge1 = v.merge(r, on=\"YYYYMM\", how=\"inner\")\n",
    "merge1 = merge1.rename(columns={\"Value_x\": \"Value\", \"Value_y\": \"Price\"})\n",
    "merge1.head()"
   ]
  },
  {
   "cell_type": "code",
   "execution_count": 7,
   "metadata": {
    "collapsed": true
   },
   "outputs": [],
   "source": [
    "# Merge Temperature\n"
   ]
  },
  {
   "cell_type": "code",
   "execution_count": 8,
   "metadata": {
    "collapsed": true
   },
   "outputs": [],
   "source": [
    "merge2 =merge1.merge(t,on=\"YYYYMM\", how=\"inner\")"
   ]
  },
  {
   "cell_type": "code",
   "execution_count": 9,
   "metadata": {},
   "outputs": [],
   "source": [
    "merge2 = merge2[['YYYYMM','Value','Price','REDTI']]"
   ]
  },
  {
   "cell_type": "code",
   "execution_count": 10,
   "metadata": {},
   "outputs": [
    {
     "data": {
      "text/html": [
       "<div>\n",
       "<style scoped>\n",
       "    .dataframe tbody tr th:only-of-type {\n",
       "        vertical-align: middle;\n",
       "    }\n",
       "\n",
       "    .dataframe tbody tr th {\n",
       "        vertical-align: top;\n",
       "    }\n",
       "\n",
       "    .dataframe thead th {\n",
       "        text-align: right;\n",
       "    }\n",
       "</style>\n",
       "<table border=\"1\" class=\"dataframe\">\n",
       "  <thead>\n",
       "    <tr style=\"text-align: right;\">\n",
       "      <th></th>\n",
       "      <th>YYYYMM</th>\n",
       "      <th>Value</th>\n",
       "      <th>Price</th>\n",
       "      <th>REDTI</th>\n",
       "    </tr>\n",
       "  </thead>\n",
       "  <tbody>\n",
       "    <tr>\n",
       "      <th>0</th>\n",
       "      <td>199001</td>\n",
       "      <td>3.132</td>\n",
       "      <td>7.17</td>\n",
       "      <td>8.8</td>\n",
       "    </tr>\n",
       "    <tr>\n",
       "      <th>1</th>\n",
       "      <td>199002</td>\n",
       "      <td>3.395</td>\n",
       "      <td>7.48</td>\n",
       "      <td>22.7</td>\n",
       "    </tr>\n",
       "    <tr>\n",
       "      <th>2</th>\n",
       "      <td>199003</td>\n",
       "      <td>4.685</td>\n",
       "      <td>7.57</td>\n",
       "      <td>29.8</td>\n",
       "    </tr>\n",
       "    <tr>\n",
       "      <th>3</th>\n",
       "      <td>199004</td>\n",
       "      <td>5.16</td>\n",
       "      <td>7.69</td>\n",
       "      <td>26.8</td>\n",
       "    </tr>\n",
       "    <tr>\n",
       "      <th>4</th>\n",
       "      <td>199005</td>\n",
       "      <td>5.863</td>\n",
       "      <td>7.96</td>\n",
       "      <td>53.9</td>\n",
       "    </tr>\n",
       "  </tbody>\n",
       "</table>\n",
       "</div>"
      ],
      "text/plain": [
       "   YYYYMM  Value Price  REDTI\n",
       "0  199001  3.132  7.17    8.8\n",
       "1  199002  3.395  7.48   22.7\n",
       "2  199003  4.685  7.57   29.8\n",
       "3  199004   5.16  7.69   26.8\n",
       "4  199005  5.863  7.96   53.9"
      ]
     },
     "execution_count": 10,
     "metadata": {},
     "output_type": "execute_result"
    }
   ],
   "source": [
    "merge2.head()"
   ]
  },
  {
   "cell_type": "code",
   "execution_count": 11,
   "metadata": {},
   "outputs": [
    {
     "data": {
      "text/plain": [
       "327"
      ]
     },
     "execution_count": 11,
     "metadata": {},
     "output_type": "execute_result"
    }
   ],
   "source": [
    "len(merge2)"
   ]
  },
  {
   "cell_type": "markdown",
   "metadata": {},
   "source": [
    "#### Process dates: months into features"
   ]
  },
  {
   "cell_type": "code",
   "execution_count": 12,
   "metadata": {},
   "outputs": [],
   "source": [
    "merge2[\"dates\"] = pd.to_datetime(merge2[\"YYYYMM\"], format=\"%Y%m\")"
   ]
  },
  {
   "cell_type": "code",
   "execution_count": 13,
   "metadata": {},
   "outputs": [
    {
     "data": {
      "text/html": [
       "<div>\n",
       "<style scoped>\n",
       "    .dataframe tbody tr th:only-of-type {\n",
       "        vertical-align: middle;\n",
       "    }\n",
       "\n",
       "    .dataframe tbody tr th {\n",
       "        vertical-align: top;\n",
       "    }\n",
       "\n",
       "    .dataframe thead th {\n",
       "        text-align: right;\n",
       "    }\n",
       "</style>\n",
       "<table border=\"1\" class=\"dataframe\">\n",
       "  <thead>\n",
       "    <tr style=\"text-align: right;\">\n",
       "      <th></th>\n",
       "      <th>YYYYMM</th>\n",
       "      <th>Value</th>\n",
       "      <th>Price</th>\n",
       "      <th>REDTI</th>\n",
       "      <th>dates</th>\n",
       "    </tr>\n",
       "  </thead>\n",
       "  <tbody>\n",
       "    <tr>\n",
       "      <th>0</th>\n",
       "      <td>199001</td>\n",
       "      <td>3.132</td>\n",
       "      <td>7.17</td>\n",
       "      <td>8.8</td>\n",
       "      <td>1990-01-01</td>\n",
       "    </tr>\n",
       "    <tr>\n",
       "      <th>1</th>\n",
       "      <td>199002</td>\n",
       "      <td>3.395</td>\n",
       "      <td>7.48</td>\n",
       "      <td>22.7</td>\n",
       "      <td>1990-02-01</td>\n",
       "    </tr>\n",
       "    <tr>\n",
       "      <th>2</th>\n",
       "      <td>199003</td>\n",
       "      <td>4.685</td>\n",
       "      <td>7.57</td>\n",
       "      <td>29.8</td>\n",
       "      <td>1990-03-01</td>\n",
       "    </tr>\n",
       "    <tr>\n",
       "      <th>3</th>\n",
       "      <td>199004</td>\n",
       "      <td>5.16</td>\n",
       "      <td>7.69</td>\n",
       "      <td>26.8</td>\n",
       "      <td>1990-04-01</td>\n",
       "    </tr>\n",
       "    <tr>\n",
       "      <th>4</th>\n",
       "      <td>199005</td>\n",
       "      <td>5.863</td>\n",
       "      <td>7.96</td>\n",
       "      <td>53.9</td>\n",
       "      <td>1990-05-01</td>\n",
       "    </tr>\n",
       "  </tbody>\n",
       "</table>\n",
       "</div>"
      ],
      "text/plain": [
       "   YYYYMM  Value Price  REDTI      dates\n",
       "0  199001  3.132  7.17    8.8 1990-01-01\n",
       "1  199002  3.395  7.48   22.7 1990-02-01\n",
       "2  199003  4.685  7.57   29.8 1990-03-01\n",
       "3  199004   5.16  7.69   26.8 1990-04-01\n",
       "4  199005  5.863  7.96   53.9 1990-05-01"
      ]
     },
     "execution_count": 13,
     "metadata": {},
     "output_type": "execute_result"
    }
   ],
   "source": [
    "merge2.head()"
   ]
  },
  {
   "cell_type": "code",
   "execution_count": 14,
   "metadata": {},
   "outputs": [
    {
     "data": {
      "text/html": [
       "<div>\n",
       "<style scoped>\n",
       "    .dataframe tbody tr th:only-of-type {\n",
       "        vertical-align: middle;\n",
       "    }\n",
       "\n",
       "    .dataframe tbody tr th {\n",
       "        vertical-align: top;\n",
       "    }\n",
       "\n",
       "    .dataframe thead th {\n",
       "        text-align: right;\n",
       "    }\n",
       "</style>\n",
       "<table border=\"1\" class=\"dataframe\">\n",
       "  <thead>\n",
       "    <tr style=\"text-align: right;\">\n",
       "      <th></th>\n",
       "      <th>YYYYMM</th>\n",
       "      <th>Value</th>\n",
       "      <th>Price</th>\n",
       "      <th>REDTI</th>\n",
       "      <th>dates</th>\n",
       "      <th>year</th>\n",
       "      <th>month</th>\n",
       "    </tr>\n",
       "  </thead>\n",
       "  <tbody>\n",
       "    <tr>\n",
       "      <th>0</th>\n",
       "      <td>199001</td>\n",
       "      <td>3.132</td>\n",
       "      <td>7.17</td>\n",
       "      <td>8.8</td>\n",
       "      <td>1990-01-01</td>\n",
       "      <td>1990</td>\n",
       "      <td>1</td>\n",
       "    </tr>\n",
       "    <tr>\n",
       "      <th>1</th>\n",
       "      <td>199002</td>\n",
       "      <td>3.395</td>\n",
       "      <td>7.48</td>\n",
       "      <td>22.7</td>\n",
       "      <td>1990-02-01</td>\n",
       "      <td>1990</td>\n",
       "      <td>2</td>\n",
       "    </tr>\n",
       "    <tr>\n",
       "      <th>2</th>\n",
       "      <td>199003</td>\n",
       "      <td>4.685</td>\n",
       "      <td>7.57</td>\n",
       "      <td>29.8</td>\n",
       "      <td>1990-03-01</td>\n",
       "      <td>1990</td>\n",
       "      <td>3</td>\n",
       "    </tr>\n",
       "    <tr>\n",
       "      <th>3</th>\n",
       "      <td>199004</td>\n",
       "      <td>5.16</td>\n",
       "      <td>7.69</td>\n",
       "      <td>26.8</td>\n",
       "      <td>1990-04-01</td>\n",
       "      <td>1990</td>\n",
       "      <td>4</td>\n",
       "    </tr>\n",
       "    <tr>\n",
       "      <th>4</th>\n",
       "      <td>199005</td>\n",
       "      <td>5.863</td>\n",
       "      <td>7.96</td>\n",
       "      <td>53.9</td>\n",
       "      <td>1990-05-01</td>\n",
       "      <td>1990</td>\n",
       "      <td>5</td>\n",
       "    </tr>\n",
       "  </tbody>\n",
       "</table>\n",
       "</div>"
      ],
      "text/plain": [
       "   YYYYMM  Value Price  REDTI      dates  year  month\n",
       "0  199001  3.132  7.17    8.8 1990-01-01  1990      1\n",
       "1  199002  3.395  7.48   22.7 1990-02-01  1990      2\n",
       "2  199003  4.685  7.57   29.8 1990-03-01  1990      3\n",
       "3  199004   5.16  7.69   26.8 1990-04-01  1990      4\n",
       "4  199005  5.863  7.96   53.9 1990-05-01  1990      5"
      ]
     },
     "execution_count": 14,
     "metadata": {},
     "output_type": "execute_result"
    }
   ],
   "source": [
    "merge2['year'] = merge2['dates'].dt.year\n",
    "merge2['month'] = merge2['dates'].dt.month\n",
    "merge2.head()"
   ]
  },
  {
   "cell_type": "code",
   "execution_count": 15,
   "metadata": {},
   "outputs": [],
   "source": [
    "data = merge2[['Value', 'year', 'month', 'Price','REDTI']]"
   ]
  },
  {
   "cell_type": "code",
   "execution_count": 16,
   "metadata": {},
   "outputs": [
    {
     "data": {
      "text/html": [
       "<div>\n",
       "<style scoped>\n",
       "    .dataframe tbody tr th:only-of-type {\n",
       "        vertical-align: middle;\n",
       "    }\n",
       "\n",
       "    .dataframe tbody tr th {\n",
       "        vertical-align: top;\n",
       "    }\n",
       "\n",
       "    .dataframe thead th {\n",
       "        text-align: right;\n",
       "    }\n",
       "</style>\n",
       "<table border=\"1\" class=\"dataframe\">\n",
       "  <thead>\n",
       "    <tr style=\"text-align: right;\">\n",
       "      <th></th>\n",
       "      <th>Value</th>\n",
       "      <th>year</th>\n",
       "      <th>month</th>\n",
       "      <th>Price</th>\n",
       "      <th>REDTI</th>\n",
       "    </tr>\n",
       "  </thead>\n",
       "  <tbody>\n",
       "    <tr>\n",
       "      <th>0</th>\n",
       "      <td>3.132</td>\n",
       "      <td>1990</td>\n",
       "      <td>1</td>\n",
       "      <td>7.17</td>\n",
       "      <td>8.8</td>\n",
       "    </tr>\n",
       "    <tr>\n",
       "      <th>1</th>\n",
       "      <td>3.395</td>\n",
       "      <td>1990</td>\n",
       "      <td>2</td>\n",
       "      <td>7.48</td>\n",
       "      <td>22.7</td>\n",
       "    </tr>\n",
       "    <tr>\n",
       "      <th>2</th>\n",
       "      <td>4.685</td>\n",
       "      <td>1990</td>\n",
       "      <td>3</td>\n",
       "      <td>7.57</td>\n",
       "      <td>29.8</td>\n",
       "    </tr>\n",
       "    <tr>\n",
       "      <th>3</th>\n",
       "      <td>5.16</td>\n",
       "      <td>1990</td>\n",
       "      <td>4</td>\n",
       "      <td>7.69</td>\n",
       "      <td>26.8</td>\n",
       "    </tr>\n",
       "    <tr>\n",
       "      <th>4</th>\n",
       "      <td>5.863</td>\n",
       "      <td>1990</td>\n",
       "      <td>5</td>\n",
       "      <td>7.96</td>\n",
       "      <td>53.9</td>\n",
       "    </tr>\n",
       "  </tbody>\n",
       "</table>\n",
       "</div>"
      ],
      "text/plain": [
       "   Value  year  month Price  REDTI\n",
       "0  3.132  1990      1  7.17    8.8\n",
       "1  3.395  1990      2  7.48   22.7\n",
       "2  4.685  1990      3  7.57   29.8\n",
       "3   5.16  1990      4  7.69   26.8\n",
       "4  5.863  1990      5  7.96   53.9"
      ]
     },
     "execution_count": 16,
     "metadata": {},
     "output_type": "execute_result"
    }
   ],
   "source": [
    "data.head()"
   ]
  },
  {
   "cell_type": "code",
   "execution_count": 17,
   "metadata": {},
   "outputs": [
    {
     "data": {
      "text/html": [
       "<div>\n",
       "<style scoped>\n",
       "    .dataframe tbody tr th:only-of-type {\n",
       "        vertical-align: middle;\n",
       "    }\n",
       "\n",
       "    .dataframe tbody tr th {\n",
       "        vertical-align: top;\n",
       "    }\n",
       "\n",
       "    .dataframe thead th {\n",
       "        text-align: right;\n",
       "    }\n",
       "</style>\n",
       "<table border=\"1\" class=\"dataframe\">\n",
       "  <thead>\n",
       "    <tr style=\"text-align: right;\">\n",
       "      <th></th>\n",
       "      <th>Value</th>\n",
       "      <th>year</th>\n",
       "      <th>Price</th>\n",
       "      <th>REDTI</th>\n",
       "      <th>month_1</th>\n",
       "      <th>month_2</th>\n",
       "      <th>month_3</th>\n",
       "      <th>month_4</th>\n",
       "      <th>month_5</th>\n",
       "      <th>month_6</th>\n",
       "      <th>month_7</th>\n",
       "      <th>month_8</th>\n",
       "      <th>month_9</th>\n",
       "      <th>month_10</th>\n",
       "      <th>month_11</th>\n",
       "      <th>month_12</th>\n",
       "    </tr>\n",
       "  </thead>\n",
       "  <tbody>\n",
       "    <tr>\n",
       "      <th>0</th>\n",
       "      <td>3.132</td>\n",
       "      <td>1990</td>\n",
       "      <td>7.17</td>\n",
       "      <td>8.8</td>\n",
       "      <td>1</td>\n",
       "      <td>0</td>\n",
       "      <td>0</td>\n",
       "      <td>0</td>\n",
       "      <td>0</td>\n",
       "      <td>0</td>\n",
       "      <td>0</td>\n",
       "      <td>0</td>\n",
       "      <td>0</td>\n",
       "      <td>0</td>\n",
       "      <td>0</td>\n",
       "      <td>0</td>\n",
       "    </tr>\n",
       "    <tr>\n",
       "      <th>1</th>\n",
       "      <td>3.395</td>\n",
       "      <td>1990</td>\n",
       "      <td>7.48</td>\n",
       "      <td>22.7</td>\n",
       "      <td>0</td>\n",
       "      <td>1</td>\n",
       "      <td>0</td>\n",
       "      <td>0</td>\n",
       "      <td>0</td>\n",
       "      <td>0</td>\n",
       "      <td>0</td>\n",
       "      <td>0</td>\n",
       "      <td>0</td>\n",
       "      <td>0</td>\n",
       "      <td>0</td>\n",
       "      <td>0</td>\n",
       "    </tr>\n",
       "    <tr>\n",
       "      <th>2</th>\n",
       "      <td>4.685</td>\n",
       "      <td>1990</td>\n",
       "      <td>7.57</td>\n",
       "      <td>29.8</td>\n",
       "      <td>0</td>\n",
       "      <td>0</td>\n",
       "      <td>1</td>\n",
       "      <td>0</td>\n",
       "      <td>0</td>\n",
       "      <td>0</td>\n",
       "      <td>0</td>\n",
       "      <td>0</td>\n",
       "      <td>0</td>\n",
       "      <td>0</td>\n",
       "      <td>0</td>\n",
       "      <td>0</td>\n",
       "    </tr>\n",
       "    <tr>\n",
       "      <th>3</th>\n",
       "      <td>5.16</td>\n",
       "      <td>1990</td>\n",
       "      <td>7.69</td>\n",
       "      <td>26.8</td>\n",
       "      <td>0</td>\n",
       "      <td>0</td>\n",
       "      <td>0</td>\n",
       "      <td>1</td>\n",
       "      <td>0</td>\n",
       "      <td>0</td>\n",
       "      <td>0</td>\n",
       "      <td>0</td>\n",
       "      <td>0</td>\n",
       "      <td>0</td>\n",
       "      <td>0</td>\n",
       "      <td>0</td>\n",
       "    </tr>\n",
       "    <tr>\n",
       "      <th>4</th>\n",
       "      <td>5.863</td>\n",
       "      <td>1990</td>\n",
       "      <td>7.96</td>\n",
       "      <td>53.9</td>\n",
       "      <td>0</td>\n",
       "      <td>0</td>\n",
       "      <td>0</td>\n",
       "      <td>0</td>\n",
       "      <td>1</td>\n",
       "      <td>0</td>\n",
       "      <td>0</td>\n",
       "      <td>0</td>\n",
       "      <td>0</td>\n",
       "      <td>0</td>\n",
       "      <td>0</td>\n",
       "      <td>0</td>\n",
       "    </tr>\n",
       "  </tbody>\n",
       "</table>\n",
       "</div>"
      ],
      "text/plain": [
       "   Value  year Price  REDTI  month_1  month_2  month_3  month_4  month_5  \\\n",
       "0  3.132  1990  7.17    8.8        1        0        0        0        0   \n",
       "1  3.395  1990  7.48   22.7        0        1        0        0        0   \n",
       "2  4.685  1990  7.57   29.8        0        0        1        0        0   \n",
       "3   5.16  1990  7.69   26.8        0        0        0        1        0   \n",
       "4  5.863  1990  7.96   53.9        0        0        0        0        1   \n",
       "\n",
       "   month_6  month_7  month_8  month_9  month_10  month_11  month_12  \n",
       "0        0        0        0        0         0         0         0  \n",
       "1        0        0        0        0         0         0         0  \n",
       "2        0        0        0        0         0         0         0  \n",
       "3        0        0        0        0         0         0         0  \n",
       "4        0        0        0        0         0         0         0  "
      ]
     },
     "execution_count": 17,
     "metadata": {},
     "output_type": "execute_result"
    }
   ],
   "source": [
    "datacoded = data.copy()\n",
    "\n",
    "X = pd.get_dummies(datacoded, columns=[\"month\"])\n",
    "X.head()"
   ]
  },
  {
   "cell_type": "code",
   "execution_count": 18,
   "metadata": {},
   "outputs": [
    {
     "data": {
      "text/plain": [
       "327"
      ]
     },
     "execution_count": 18,
     "metadata": {},
     "output_type": "execute_result"
    }
   ],
   "source": [
    "len(X)"
   ]
  },
  {
   "cell_type": "code",
   "execution_count": 19,
   "metadata": {},
   "outputs": [],
   "source": [
    "X.to_csv(\"../data/features.csv\")"
   ]
  },
  {
   "cell_type": "code",
   "execution_count": null,
   "metadata": {},
   "outputs": [],
   "source": []
  },
  {
   "cell_type": "code",
   "execution_count": null,
   "metadata": {
    "collapsed": true
   },
   "outputs": [],
   "source": []
  }
 ],
 "metadata": {
  "kernelspec": {
   "display_name": "Python 3",
   "language": "python",
   "name": "python3"
  },
  "language_info": {
   "codemirror_mode": {
    "name": "ipython",
    "version": 3
   },
   "file_extension": ".py",
   "mimetype": "text/x-python",
   "name": "python",
   "nbconvert_exporter": "python",
   "pygments_lexer": "ipython3",
   "version": "3.6.3"
  }
 },
 "nbformat": 4,
 "nbformat_minor": 2
}
