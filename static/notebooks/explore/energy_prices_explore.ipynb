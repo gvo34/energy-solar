{
 "cells": [
  {
   "cell_type": "code",
   "execution_count": 14,
   "metadata": {
    "collapsed": true
   },
   "outputs": [],
   "source": [
    "## Dependencies\n",
    "import pandas as pd\n",
    "import matplotlib.pyplot as plt\n",
    "import os\n",
    "\n",
    "input_data = \"../../data/input\"\n",
    "output_data = \"../../data/output/monthprices.csv\""
   ]
  },
  {
   "cell_type": "code",
   "execution_count": 15,
   "metadata": {},
   "outputs": [
    {
     "data": {
      "text/html": [
       "<div>\n",
       "<style scoped>\n",
       "    .dataframe tbody tr th:only-of-type {\n",
       "        vertical-align: middle;\n",
       "    }\n",
       "\n",
       "    .dataframe tbody tr th {\n",
       "        vertical-align: top;\n",
       "    }\n",
       "\n",
       "    .dataframe thead th {\n",
       "        text-align: right;\n",
       "    }\n",
       "</style>\n",
       "<table border=\"1\" class=\"dataframe\">\n",
       "  <thead>\n",
       "    <tr style=\"text-align: right;\">\n",
       "      <th></th>\n",
       "      <th>MSN</th>\n",
       "      <th>YYYYMM</th>\n",
       "      <th>Value</th>\n",
       "      <th>Column_Order</th>\n",
       "      <th>Description</th>\n",
       "      <th>Unit</th>\n",
       "    </tr>\n",
       "  </thead>\n",
       "  <tbody>\n",
       "    <tr>\n",
       "      <th>0</th>\n",
       "      <td>ESRCUUS</td>\n",
       "      <td>196013</td>\n",
       "      <td>2.6</td>\n",
       "      <td>1</td>\n",
       "      <td>Average Retail Price of Electricity, Residential</td>\n",
       "      <td>Cents per Kilowatthour,  Including Taxes</td>\n",
       "    </tr>\n",
       "    <tr>\n",
       "      <th>1</th>\n",
       "      <td>ESRCUUS</td>\n",
       "      <td>196113</td>\n",
       "      <td>2.6</td>\n",
       "      <td>1</td>\n",
       "      <td>Average Retail Price of Electricity, Residential</td>\n",
       "      <td>Cents per Kilowatthour,  Including Taxes</td>\n",
       "    </tr>\n",
       "    <tr>\n",
       "      <th>2</th>\n",
       "      <td>ESRCUUS</td>\n",
       "      <td>196213</td>\n",
       "      <td>2.6</td>\n",
       "      <td>1</td>\n",
       "      <td>Average Retail Price of Electricity, Residential</td>\n",
       "      <td>Cents per Kilowatthour,  Including Taxes</td>\n",
       "    </tr>\n",
       "    <tr>\n",
       "      <th>3</th>\n",
       "      <td>ESRCUUS</td>\n",
       "      <td>196313</td>\n",
       "      <td>2.5</td>\n",
       "      <td>1</td>\n",
       "      <td>Average Retail Price of Electricity, Residential</td>\n",
       "      <td>Cents per Kilowatthour,  Including Taxes</td>\n",
       "    </tr>\n",
       "    <tr>\n",
       "      <th>4</th>\n",
       "      <td>ESRCUUS</td>\n",
       "      <td>196413</td>\n",
       "      <td>2.5</td>\n",
       "      <td>1</td>\n",
       "      <td>Average Retail Price of Electricity, Residential</td>\n",
       "      <td>Cents per Kilowatthour,  Including Taxes</td>\n",
       "    </tr>\n",
       "  </tbody>\n",
       "</table>\n",
       "</div>"
      ],
      "text/plain": [
       "       MSN  YYYYMM Value  Column_Order  \\\n",
       "0  ESRCUUS  196013   2.6             1   \n",
       "1  ESRCUUS  196113   2.6             1   \n",
       "2  ESRCUUS  196213   2.6             1   \n",
       "3  ESRCUUS  196313   2.5             1   \n",
       "4  ESRCUUS  196413   2.5             1   \n",
       "\n",
       "                                        Description  \\\n",
       "0  Average Retail Price of Electricity, Residential   \n",
       "1  Average Retail Price of Electricity, Residential   \n",
       "2  Average Retail Price of Electricity, Residential   \n",
       "3  Average Retail Price of Electricity, Residential   \n",
       "4  Average Retail Price of Electricity, Residential   \n",
       "\n",
       "                                       Unit  \n",
       "0  Cents per Kilowatthour,  Including Taxes  \n",
       "1  Cents per Kilowatthour,  Including Taxes  \n",
       "2  Cents per Kilowatthour,  Including Taxes  \n",
       "3  Cents per Kilowatthour,  Including Taxes  \n",
       "4  Cents per Kilowatthour,  Including Taxes  "
      ]
     },
     "execution_count": 15,
     "metadata": {},
     "output_type": "execute_result"
    }
   ],
   "source": [
    "## Source: http://www.ecdms.energy.ca.gov\n",
    "filename = \"MER_T09_08.csv\"\n",
    "filepath = os.path.join(input_data,filename)\n",
    "\n",
    "prices = pd.read_csv(filepath,index_col=False)\n",
    "prices.head()"
   ]
  },
  {
   "cell_type": "code",
   "execution_count": 16,
   "metadata": {},
   "outputs": [
    {
     "data": {
      "text/plain": [
       "Index(['MSN', 'YYYYMM', 'Value', 'Column_Order', 'Description', 'Unit'], dtype='object')"
      ]
     },
     "execution_count": 16,
     "metadata": {},
     "output_type": "execute_result"
    }
   ],
   "source": [
    "prices.columns"
   ]
  },
  {
   "cell_type": "code",
   "execution_count": 17,
   "metadata": {},
   "outputs": [
    {
     "data": {
      "text/plain": [
       "Average Retail Price of Electricity, Total             565\n",
       "Average Retail Price of Electricity, Other             565\n",
       "Average Retail Price of Electricity, Residential       565\n",
       "Average Retail Price of Electricity, Commercial        565\n",
       "Average Retail Price of Electricity, Industrial        565\n",
       "Average Retail Price of Electricity, Transportation    565\n",
       "Name: Description, dtype: int64"
      ]
     },
     "execution_count": 17,
     "metadata": {},
     "output_type": "execute_result"
    }
   ],
   "source": [
    "prices['Description'].value_counts()"
   ]
  },
  {
   "cell_type": "code",
   "execution_count": 18,
   "metadata": {},
   "outputs": [
    {
     "data": {
      "text/plain": [
       "5    565\n",
       "3    565\n",
       "1    565\n",
       "6    565\n",
       "4    565\n",
       "2    565\n",
       "Name: Column_Order, dtype: int64"
      ]
     },
     "execution_count": 18,
     "metadata": {},
     "output_type": "execute_result"
    }
   ],
   "source": [
    "prices['Column_Order'].value_counts()"
   ]
  },
  {
   "cell_type": "code",
   "execution_count": 19,
   "metadata": {
    "collapsed": true
   },
   "outputs": [],
   "source": [
    "residential = prices.loc[prices['Description']== \"Average Retail Price of Electricity, Residential\"]"
   ]
  },
  {
   "cell_type": "code",
   "execution_count": 20,
   "metadata": {
    "collapsed": true
   },
   "outputs": [],
   "source": [
    "ByDesc = prices.groupby('Description')"
   ]
  },
  {
   "cell_type": "code",
   "execution_count": 21,
   "metadata": {},
   "outputs": [
    {
     "data": {
      "text/html": [
       "<div>\n",
       "<style scoped>\n",
       "    .dataframe tbody tr th:only-of-type {\n",
       "        vertical-align: middle;\n",
       "    }\n",
       "\n",
       "    .dataframe tbody tr th {\n",
       "        vertical-align: top;\n",
       "    }\n",
       "\n",
       "    .dataframe thead th {\n",
       "        text-align: right;\n",
       "    }\n",
       "</style>\n",
       "<table border=\"1\" class=\"dataframe\">\n",
       "  <thead>\n",
       "    <tr style=\"text-align: right;\">\n",
       "      <th></th>\n",
       "      <th>count</th>\n",
       "      <th>unique</th>\n",
       "      <th>top</th>\n",
       "      <th>freq</th>\n",
       "    </tr>\n",
       "    <tr>\n",
       "      <th>Description</th>\n",
       "      <th></th>\n",
       "      <th></th>\n",
       "      <th></th>\n",
       "      <th></th>\n",
       "    </tr>\n",
       "  </thead>\n",
       "  <tbody>\n",
       "    <tr>\n",
       "      <th>Average Retail Price of Electricity, Commercial</th>\n",
       "      <td>565</td>\n",
       "      <td>272</td>\n",
       "      <td>Not Available</td>\n",
       "      <td>78</td>\n",
       "    </tr>\n",
       "    <tr>\n",
       "      <th>Average Retail Price of Electricity, Industrial</th>\n",
       "      <td>565</td>\n",
       "      <td>232</td>\n",
       "      <td>Not Available</td>\n",
       "      <td>78</td>\n",
       "    </tr>\n",
       "    <tr>\n",
       "      <th>Average Retail Price of Electricity, Other</th>\n",
       "      <td>565</td>\n",
       "      <td>108</td>\n",
       "      <td>Not Applicable</td>\n",
       "      <td>198</td>\n",
       "    </tr>\n",
       "    <tr>\n",
       "      <th>Average Retail Price of Electricity, Residential</th>\n",
       "      <td>565</td>\n",
       "      <td>307</td>\n",
       "      <td>Not Available</td>\n",
       "      <td>78</td>\n",
       "    </tr>\n",
       "    <tr>\n",
       "      <th>Average Retail Price of Electricity, Total</th>\n",
       "      <td>565</td>\n",
       "      <td>267</td>\n",
       "      <td>Not Available</td>\n",
       "      <td>78</td>\n",
       "    </tr>\n",
       "    <tr>\n",
       "      <th>Average Retail Price of Electricity, Transportation</th>\n",
       "      <td>565</td>\n",
       "      <td>146</td>\n",
       "      <td>Not Available</td>\n",
       "      <td>367</td>\n",
       "    </tr>\n",
       "  </tbody>\n",
       "</table>\n",
       "</div>"
      ],
      "text/plain": [
       "                                                   count unique  \\\n",
       "Description                                                       \n",
       "Average Retail Price of Electricity, Commercial      565    272   \n",
       "Average Retail Price of Electricity, Industrial      565    232   \n",
       "Average Retail Price of Electricity, Other           565    108   \n",
       "Average Retail Price of Electricity, Residential     565    307   \n",
       "Average Retail Price of Electricity, Total           565    267   \n",
       "Average Retail Price of Electricity, Transporta...   565    146   \n",
       "\n",
       "                                                               top freq  \n",
       "Description                                                              \n",
       "Average Retail Price of Electricity, Commercial      Not Available   78  \n",
       "Average Retail Price of Electricity, Industrial      Not Available   78  \n",
       "Average Retail Price of Electricity, Other          Not Applicable  198  \n",
       "Average Retail Price of Electricity, Residential     Not Available   78  \n",
       "Average Retail Price of Electricity, Total           Not Available   78  \n",
       "Average Retail Price of Electricity, Transporta...   Not Available  367  "
      ]
     },
     "execution_count": 21,
     "metadata": {},
     "output_type": "execute_result"
    }
   ],
   "source": [
    "ByDesc['Value'].describe()"
   ]
  },
  {
   "cell_type": "code",
   "execution_count": 22,
   "metadata": {},
   "outputs": [
    {
     "data": {
      "text/plain": [
       "Index(['MSN', 'YYYYMM', 'Value', 'Column_Order', 'Description', 'Unit'], dtype='object')"
      ]
     },
     "execution_count": 22,
     "metadata": {},
     "output_type": "execute_result"
    }
   ],
   "source": [
    "residential.columns\n"
   ]
  },
  {
   "cell_type": "code",
   "execution_count": 23,
   "metadata": {
    "collapsed": true
   },
   "outputs": [],
   "source": [
    "#### clean up"
   ]
  },
  {
   "cell_type": "code",
   "execution_count": 24,
   "metadata": {
    "collapsed": true
   },
   "outputs": [],
   "source": [
    "r = residential.drop(columns=['MSN','Column_Order','Description','Unit'])"
   ]
  },
  {
   "cell_type": "code",
   "execution_count": 25,
   "metadata": {},
   "outputs": [
    {
     "data": {
      "text/html": [
       "<div>\n",
       "<style scoped>\n",
       "    .dataframe tbody tr th:only-of-type {\n",
       "        vertical-align: middle;\n",
       "    }\n",
       "\n",
       "    .dataframe tbody tr th {\n",
       "        vertical-align: top;\n",
       "    }\n",
       "\n",
       "    .dataframe thead th {\n",
       "        text-align: right;\n",
       "    }\n",
       "</style>\n",
       "<table border=\"1\" class=\"dataframe\">\n",
       "  <thead>\n",
       "    <tr style=\"text-align: right;\">\n",
       "      <th></th>\n",
       "      <th>YYYYMM</th>\n",
       "      <th>Value</th>\n",
       "    </tr>\n",
       "  </thead>\n",
       "  <tbody>\n",
       "    <tr>\n",
       "      <th>22</th>\n",
       "      <td>197607</td>\n",
       "      <td>3.9</td>\n",
       "    </tr>\n",
       "    <tr>\n",
       "      <th>23</th>\n",
       "      <td>197608</td>\n",
       "      <td>3.7</td>\n",
       "    </tr>\n",
       "    <tr>\n",
       "      <th>24</th>\n",
       "      <td>197609</td>\n",
       "      <td>3.8</td>\n",
       "    </tr>\n",
       "    <tr>\n",
       "      <th>25</th>\n",
       "      <td>197610</td>\n",
       "      <td>3.9</td>\n",
       "    </tr>\n",
       "    <tr>\n",
       "      <th>26</th>\n",
       "      <td>197611</td>\n",
       "      <td>3.8</td>\n",
       "    </tr>\n",
       "  </tbody>\n",
       "</table>\n",
       "</div>"
      ],
      "text/plain": [
       "    YYYYMM Value\n",
       "22  197607   3.9\n",
       "23  197608   3.7\n",
       "24  197609   3.8\n",
       "25  197610   3.9\n",
       "26  197611   3.8"
      ]
     },
     "execution_count": 25,
     "metadata": {},
     "output_type": "execute_result"
    }
   ],
   "source": [
    "r = r.loc[r['Value'] != \"Not Available\"]\n",
    "r[\"dates\"] = r['YYYYMM'].astype(str)\n",
    "#remove rows tha contain 13 in the string\n",
    "r = r.loc[~r['dates'].str.contains('13')]\n",
    "r = r.drop(columns=[\"dates\"])\n",
    "r.head()"
   ]
  },
  {
   "cell_type": "code",
   "execution_count": 26,
   "metadata": {},
   "outputs": [],
   "source": [
    "r.to_csv(output_data, index=False)"
   ]
  },
  {
   "cell_type": "code",
   "execution_count": null,
   "metadata": {
    "collapsed": true
   },
   "outputs": [],
   "source": []
  },
  {
   "cell_type": "code",
   "execution_count": 27,
   "metadata": {
    "collapsed": true
   },
   "outputs": [],
   "source": [
    "r[\"date\"] = pd.to_datetime(r[\"YYYYMM\"], format=\"%Y%m\")"
   ]
  },
  {
   "cell_type": "code",
   "execution_count": 28,
   "metadata": {},
   "outputs": [
    {
     "data": {
      "text/html": [
       "<div>\n",
       "<style scoped>\n",
       "    .dataframe tbody tr th:only-of-type {\n",
       "        vertical-align: middle;\n",
       "    }\n",
       "\n",
       "    .dataframe tbody tr th {\n",
       "        vertical-align: top;\n",
       "    }\n",
       "\n",
       "    .dataframe thead th {\n",
       "        text-align: right;\n",
       "    }\n",
       "</style>\n",
       "<table border=\"1\" class=\"dataframe\">\n",
       "  <thead>\n",
       "    <tr style=\"text-align: right;\">\n",
       "      <th></th>\n",
       "      <th>YYYYMM</th>\n",
       "      <th>Value</th>\n",
       "      <th>date</th>\n",
       "    </tr>\n",
       "  </thead>\n",
       "  <tbody>\n",
       "    <tr>\n",
       "      <th>22</th>\n",
       "      <td>197607</td>\n",
       "      <td>3.9</td>\n",
       "      <td>1976-07-01</td>\n",
       "    </tr>\n",
       "    <tr>\n",
       "      <th>23</th>\n",
       "      <td>197608</td>\n",
       "      <td>3.7</td>\n",
       "      <td>1976-08-01</td>\n",
       "    </tr>\n",
       "    <tr>\n",
       "      <th>24</th>\n",
       "      <td>197609</td>\n",
       "      <td>3.8</td>\n",
       "      <td>1976-09-01</td>\n",
       "    </tr>\n",
       "    <tr>\n",
       "      <th>25</th>\n",
       "      <td>197610</td>\n",
       "      <td>3.9</td>\n",
       "      <td>1976-10-01</td>\n",
       "    </tr>\n",
       "    <tr>\n",
       "      <th>26</th>\n",
       "      <td>197611</td>\n",
       "      <td>3.8</td>\n",
       "      <td>1976-11-01</td>\n",
       "    </tr>\n",
       "  </tbody>\n",
       "</table>\n",
       "</div>"
      ],
      "text/plain": [
       "    YYYYMM Value       date\n",
       "22  197607   3.9 1976-07-01\n",
       "23  197608   3.7 1976-08-01\n",
       "24  197609   3.8 1976-09-01\n",
       "25  197610   3.9 1976-10-01\n",
       "26  197611   3.8 1976-11-01"
      ]
     },
     "execution_count": 28,
     "metadata": {},
     "output_type": "execute_result"
    }
   ],
   "source": [
    "r.head()"
   ]
  },
  {
   "cell_type": "code",
   "execution_count": null,
   "metadata": {},
   "outputs": [],
   "source": []
  },
  {
   "cell_type": "code",
   "execution_count": null,
   "metadata": {},
   "outputs": [],
   "source": []
  },
  {
   "cell_type": "code",
   "execution_count": null,
   "metadata": {},
   "outputs": [],
   "source": []
  },
  {
   "cell_type": "code",
   "execution_count": null,
   "metadata": {},
   "outputs": [],
   "source": [
    "\n"
   ]
  },
  {
   "cell_type": "code",
   "execution_count": null,
   "metadata": {},
   "outputs": [],
   "source": []
  },
  {
   "cell_type": "code",
   "execution_count": null,
   "metadata": {},
   "outputs": [],
   "source": [
    "\n"
   ]
  },
  {
   "cell_type": "code",
   "execution_count": null,
   "metadata": {},
   "outputs": [],
   "source": []
  },
  {
   "cell_type": "code",
   "execution_count": null,
   "metadata": {
    "collapsed": true
   },
   "outputs": [],
   "source": []
  }
 ],
 "metadata": {
  "kernelspec": {
   "display_name": "Python 3",
   "language": "python",
   "name": "python3"
  },
  "language_info": {
   "codemirror_mode": {
    "name": "ipython",
    "version": 3
   },
   "file_extension": ".py",
   "mimetype": "text/x-python",
   "name": "python",
   "nbconvert_exporter": "python",
   "pygments_lexer": "ipython3",
   "version": "3.6.3"
  }
 },
 "nbformat": 4,
 "nbformat_minor": 2
}
