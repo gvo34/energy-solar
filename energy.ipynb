{
 "cells": [
  {
   "cell_type": "code",
   "execution_count": 5,
   "metadata": {},
   "outputs": [
    {
     "data": {
      "text/html": [
       "<div>\n",
       "<style scoped>\n",
       "    .dataframe tbody tr th:only-of-type {\n",
       "        vertical-align: middle;\n",
       "    }\n",
       "\n",
       "    .dataframe tbody tr th {\n",
       "        vertical-align: top;\n",
       "    }\n",
       "\n",
       "    .dataframe thead th {\n",
       "        text-align: right;\n",
       "    }\n",
       "</style>\n",
       "<table border=\"1\" class=\"dataframe\">\n",
       "  <thead>\n",
       "    <tr style=\"text-align: right;\">\n",
       "      <th></th>\n",
       "      <th>Utility Type</th>\n",
       "      <th>Utility Name</th>\n",
       "      <th>Year</th>\n",
       "      <th>Ag &amp; Water Pump</th>\n",
       "      <th>Commercial Building</th>\n",
       "      <th>Commercial Other</th>\n",
       "      <th>Industry</th>\n",
       "      <th>Mining &amp; Construction</th>\n",
       "      <th>Residential</th>\n",
       "      <th>Streetlight</th>\n",
       "      <th>Total Usage</th>\n",
       "    </tr>\n",
       "  </thead>\n",
       "  <tbody>\n",
       "    <tr>\n",
       "      <th>0</th>\n",
       "      <td>Investor owned utility</td>\n",
       "      <td>Avista Energy</td>\n",
       "      <td>1990</td>\n",
       "      <td>0.000000</td>\n",
       "      <td>14.310562</td>\n",
       "      <td>0.088855</td>\n",
       "      <td>0.077131</td>\n",
       "      <td>0.01847</td>\n",
       "      <td>8.875343</td>\n",
       "      <td>0.000000</td>\n",
       "      <td>23.370361</td>\n",
       "    </tr>\n",
       "    <tr>\n",
       "      <th>1</th>\n",
       "      <td>Investor owned utility</td>\n",
       "      <td>Bear Valley Electric Service</td>\n",
       "      <td>1990</td>\n",
       "      <td>0.075805</td>\n",
       "      <td>34.275928</td>\n",
       "      <td>3.007874</td>\n",
       "      <td>0.000000</td>\n",
       "      <td>0.00000</td>\n",
       "      <td>52.580684</td>\n",
       "      <td>0.226513</td>\n",
       "      <td>90.166804</td>\n",
       "    </tr>\n",
       "    <tr>\n",
       "      <th>2</th>\n",
       "      <td>Investor owned utility</td>\n",
       "      <td>Bear Valley Electric Service</td>\n",
       "      <td>1991</td>\n",
       "      <td>0.000000</td>\n",
       "      <td>15.863337</td>\n",
       "      <td>2.414612</td>\n",
       "      <td>0.000000</td>\n",
       "      <td>0.00000</td>\n",
       "      <td>51.900996</td>\n",
       "      <td>0.273375</td>\n",
       "      <td>70.452320</td>\n",
       "    </tr>\n",
       "    <tr>\n",
       "      <th>3</th>\n",
       "      <td>Investor owned utility</td>\n",
       "      <td>Bear Valley Electric Service</td>\n",
       "      <td>1992</td>\n",
       "      <td>0.000000</td>\n",
       "      <td>42.370707</td>\n",
       "      <td>7.438678</td>\n",
       "      <td>0.000000</td>\n",
       "      <td>0.00000</td>\n",
       "      <td>54.834000</td>\n",
       "      <td>0.702615</td>\n",
       "      <td>105.346000</td>\n",
       "    </tr>\n",
       "    <tr>\n",
       "      <th>4</th>\n",
       "      <td>Investor owned utility</td>\n",
       "      <td>Bear Valley Electric Service</td>\n",
       "      <td>1993</td>\n",
       "      <td>0.000000</td>\n",
       "      <td>41.686458</td>\n",
       "      <td>9.570772</td>\n",
       "      <td>0.000000</td>\n",
       "      <td>0.00000</td>\n",
       "      <td>54.369000</td>\n",
       "      <td>0.607769</td>\n",
       "      <td>106.233999</td>\n",
       "    </tr>\n",
       "  </tbody>\n",
       "</table>\n",
       "</div>"
      ],
      "text/plain": [
       "             Utility Type                  Utility Name  Year  \\\n",
       "0  Investor owned utility                 Avista Energy  1990   \n",
       "1  Investor owned utility  Bear Valley Electric Service  1990   \n",
       "2  Investor owned utility  Bear Valley Electric Service  1991   \n",
       "3  Investor owned utility  Bear Valley Electric Service  1992   \n",
       "4  Investor owned utility  Bear Valley Electric Service  1993   \n",
       "\n",
       "   Ag & Water Pump  Commercial Building  Commercial Other  Industry  \\\n",
       "0         0.000000            14.310562          0.088855  0.077131   \n",
       "1         0.075805            34.275928          3.007874  0.000000   \n",
       "2         0.000000            15.863337          2.414612  0.000000   \n",
       "3         0.000000            42.370707          7.438678  0.000000   \n",
       "4         0.000000            41.686458          9.570772  0.000000   \n",
       "\n",
       "   Mining & Construction  Residential  Streetlight  Total Usage  \n",
       "0                0.01847     8.875343     0.000000    23.370361  \n",
       "1                0.00000    52.580684     0.226513    90.166804  \n",
       "2                0.00000    51.900996     0.273375    70.452320  \n",
       "3                0.00000    54.834000     0.702615   105.346000  \n",
       "4                0.00000    54.369000     0.607769   106.233999  "
      ]
     },
     "execution_count": 5,
     "metadata": {},
     "output_type": "execute_result"
    }
   ],
   "source": [
    "import pandas as pd\n",
    "import matplotlib.pyplot as plt\n",
    "import os\n",
    "\n",
    "filename = \"ElectricityByUtility.csv\"\n",
    "filepath = os.path.join(\"data\",filename)\n",
    "\n",
    "df = pd.read_csv(filepath)\n",
    "df.head()"
   ]
  },
  {
   "cell_type": "markdown",
   "metadata": {},
   "source": [
    "Number of total rows available"
   ]
  },
  {
   "cell_type": "code",
   "execution_count": 43,
   "metadata": {},
   "outputs": [
    {
     "data": {
      "text/plain": [
       "1561"
      ]
     },
     "execution_count": 43,
     "metadata": {},
     "output_type": "execute_result"
    }
   ],
   "source": [
    "len(df)"
   ]
  },
  {
   "cell_type": "markdown",
   "metadata": {},
   "source": [
    "Number of rows per year"
   ]
  },
  {
   "cell_type": "code",
   "execution_count": 47,
   "metadata": {},
   "outputs": [],
   "source": [
    "yearly_data = df['Year'].value_counts()"
   ]
  },
  {
   "cell_type": "code",
   "execution_count": 49,
   "metadata": {},
   "outputs": [
    {
     "data": {
      "text/plain": [
       "<matplotlib.axes._subplots.AxesSubplot at 0x112e35470>"
      ]
     },
     "execution_count": 49,
     "metadata": {},
     "output_type": "execute_result"
    }
   ],
   "source": [
    "yearly_data.plot()"
   ]
  },
  {
   "cell_type": "code",
   "execution_count": 50,
   "metadata": {},
   "outputs": [
    {
     "data": {
      "image/png": "[encoded data removed]",
      "text/plain": [
       "<matplotlib.figure.Figure at 0x112e0a278>"
      ]
     },
     "metadata": {},
     "output_type": "display_data"
    }
   ],
   "source": [
    "plt.show()"
   ]
  },
  {
   "cell_type": "code",
   "execution_count": 41,
   "metadata": {},
   "outputs": [
    {
     "data": {
      "text/plain": [
       "2011    64\n",
       "2008    64\n",
       "2007    64\n",
       "2016    63\n",
       "2014    63\n",
       "2013    63\n",
       "2012    63\n",
       "2006    63\n",
       "2015    63\n",
       "2010    62\n",
       "2009    62\n",
       "2005    58\n",
       "2004    58\n",
       "2001    57\n",
       "2003    57\n",
       "2002    57\n",
       "2000    55\n",
       "1999    55\n",
       "1998    54\n",
       "1997    53\n",
       "1996    53\n",
       "1995    52\n",
       "1994    52\n",
       "1993    52\n",
       "1992    52\n",
       "1991    51\n",
       "1990    51\n",
       "Name: Year, dtype: int64"
      ]
     },
     "execution_count": 41,
     "metadata": {},
     "output_type": "execute_result"
    }
   ],
   "source": [
    "yearly_data"
   ]
  },
  {
   "cell_type": "code",
   "execution_count": null,
   "metadata": {},
   "outputs": [],
   "source": []
  },
  {
   "cell_type": "code",
   "execution_count": null,
   "metadata": {},
   "outputs": [],
   "source": []
  },
  {
   "cell_type": "code",
   "execution_count": null,
   "metadata": {
    "collapsed": true
   },
   "outputs": [],
   "source": []
  }
 ],
 "metadata": {
  "kernelspec": {
   "display_name": "Python 3",
   "language": "python",
   "name": "python3"
  },
  "language_info": {
   "codemirror_mode": {
    "name": "ipython",
    "version": 3
   },
   "file_extension": ".py",
   "mimetype": "text/x-python",
   "name": "python",
   "nbconvert_exporter": "python",
   "pygments_lexer": "ipython3",
   "version": "3.6.3"
  }
 },
 "nbformat": 4,
 "nbformat_minor": 2
}
